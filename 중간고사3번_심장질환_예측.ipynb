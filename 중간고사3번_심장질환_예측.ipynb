{
 "cells": [
  {
   "cell_type": "code",
   "execution_count": 1,
   "id": "2f045d20",
   "metadata": {
    "_cell_guid": "b1076dfc-b9ad-4769-8c92-a6c4dae69d19",
    "_uuid": "8f2839f25d086af736a60e9eeb907d3b93b6e0e5",
    "execution": {
     "iopub.execute_input": "2022-10-18T12:34:22.287219Z",
     "iopub.status.busy": "2022-10-18T12:34:22.286462Z",
     "iopub.status.idle": "2022-10-18T12:34:22.299847Z",
     "shell.execute_reply": "2022-10-18T12:34:22.298372Z"
    },
    "papermill": {
     "duration": 0.022598,
     "end_time": "2022-10-18T12:34:22.302057",
     "exception": false,
     "start_time": "2022-10-18T12:34:22.279459",
     "status": "completed"
    },
    "tags": []
   },
   "outputs": [
    {
     "name": "stdout",
     "output_type": "stream",
     "text": [
      "/kaggle/input/2022-ai-midterm-p3/train.csv\n",
      "/kaggle/input/2022-ai-midterm-p3/test.csv\n",
      "/kaggle/input/2022-ai-midterm-p3/submit_sample.csv\n"
     ]
    }
   ],
   "source": [
    "# This Python 3 environment comes with many helpful analytics libraries installed\n",
    "# It is defined by the kaggle/python Docker image: https://github.com/kaggle/docker-python\n",
    "# For example, here's several helpful packages to load\n",
    "\n",
    "import numpy as np # linear algebra\n",
    "import pandas as pd # data processing, CSV file I/O (e.g. pd.read_csv)\n",
    "\n",
    "# Input data files are available in the read-only \"../input/\" directory\n",
    "# For example, running this (by clicking run or pressing Shift+Enter) will list all files under the input directory\n",
    "\n",
    "import os\n",
    "for dirname, _, filenames in os.walk('/kaggle/input'):\n",
    "    for filename in filenames:\n",
    "        print(os.path.join(dirname, filename))\n",
    "\n",
    "# You can write up to 20GB to the current directory (/kaggle/working/) that gets preserved as output when you create a version using \"Save & Run All\" \n",
    "# You can also write temporary files to /kaggle/temp/, but they won't be saved outside of the current session"
   ]
  },
  {
   "cell_type": "code",
   "execution_count": 2,
   "id": "ba6d6fc7",
   "metadata": {
    "execution": {
     "iopub.execute_input": "2022-10-18T12:34:22.311982Z",
     "iopub.status.busy": "2022-10-18T12:34:22.311725Z",
     "iopub.status.idle": "2022-10-18T12:34:23.852360Z",
     "shell.execute_reply": "2022-10-18T12:34:23.851369Z"
    },
    "papermill": {
     "duration": 1.548149,
     "end_time": "2022-10-18T12:34:23.854694",
     "exception": false,
     "start_time": "2022-10-18T12:34:22.306545",
     "status": "completed"
    },
    "tags": []
   },
   "outputs": [],
   "source": [
    "#랜덤시드 고정\n",
    "import random\n",
    "import torch\n",
    "\n",
    "seed = 1\n",
    "random.seed(seed)\n",
    "np.random.seed(seed)\n",
    "torch.manual_seed(seed)\n",
    "if torch.cuda.is_available():\n",
    "    torch.cuda.manual_seed(seed)\n",
    "    torch.cuda.manual_seed_all(seed)\n",
    "torch.backends.cudnn.benchmark = False\n",
    "torch.backends.cudnn.deterministic = True"
   ]
  },
  {
   "cell_type": "code",
   "execution_count": 3,
   "id": "1b116a29",
   "metadata": {
    "execution": {
     "iopub.execute_input": "2022-10-18T12:34:23.865267Z",
     "iopub.status.busy": "2022-10-18T12:34:23.864435Z",
     "iopub.status.idle": "2022-10-18T12:34:23.892488Z",
     "shell.execute_reply": "2022-10-18T12:34:23.891680Z"
    },
    "papermill": {
     "duration": 0.035214,
     "end_time": "2022-10-18T12:34:23.894430",
     "exception": false,
     "start_time": "2022-10-18T12:34:23.859216",
     "status": "completed"
    },
    "tags": []
   },
   "outputs": [],
   "source": [
    "#데이터 로드\n",
    "sample = pd.read_csv('/kaggle/input/2022-ai-midterm-p3/submit_sample.csv')\n",
    "train = pd.read_csv('/kaggle/input/2022-ai-midterm-p3/train.csv')\n",
    "test = pd.read_csv('/kaggle/input/2022-ai-midterm-p3/test.csv')"
   ]
  },
  {
   "cell_type": "code",
   "execution_count": 4,
   "id": "274dc9b8",
   "metadata": {
    "execution": {
     "iopub.execute_input": "2022-10-18T12:34:23.904629Z",
     "iopub.status.busy": "2022-10-18T12:34:23.903767Z",
     "iopub.status.idle": "2022-10-18T12:34:23.908227Z",
     "shell.execute_reply": "2022-10-18T12:34:23.907317Z"
    },
    "papermill": {
     "duration": 0.011537,
     "end_time": "2022-10-18T12:34:23.910242",
     "exception": false,
     "start_time": "2022-10-18T12:34:23.898705",
     "status": "completed"
    },
    "tags": []
   },
   "outputs": [],
   "source": [
    "#gpu를 사용가능하면 사용하는 설정\n",
    "device = 'cuda' if torch.cuda.is_available() else 'cpu'"
   ]
  },
  {
   "cell_type": "code",
   "execution_count": 5,
   "id": "7539b327",
   "metadata": {
    "execution": {
     "iopub.execute_input": "2022-10-18T12:34:23.919985Z",
     "iopub.status.busy": "2022-10-18T12:34:23.919738Z",
     "iopub.status.idle": "2022-10-18T12:34:23.948620Z",
     "shell.execute_reply": "2022-10-18T12:34:23.947633Z"
    },
    "papermill": {
     "duration": 0.036133,
     "end_time": "2022-10-18T12:34:23.950580",
     "exception": false,
     "start_time": "2022-10-18T12:34:23.914447",
     "status": "completed"
    },
    "tags": []
   },
   "outputs": [
    {
     "name": "stdout",
     "output_type": "stream",
     "text": [
      "<class 'pandas.core.frame.DataFrame'>\n",
      "RangeIndex: 242 entries, 0 to 241\n",
      "Data columns (total 15 columns):\n",
      " #   Column    Non-Null Count  Dtype  \n",
      "---  ------    --------------  -----  \n",
      " 0   index     242 non-null    int64  \n",
      " 1   age       242 non-null    int64  \n",
      " 2   sex       242 non-null    int64  \n",
      " 3   cp        242 non-null    int64  \n",
      " 4   trestbps  242 non-null    int64  \n",
      " 5   chol      242 non-null    int64  \n",
      " 6   fbs       242 non-null    int64  \n",
      " 7   restecg   242 non-null    int64  \n",
      " 8   thalach   242 non-null    int64  \n",
      " 9   exang     242 non-null    int64  \n",
      " 10  oldpeak   242 non-null    float64\n",
      " 11  slope     242 non-null    int64  \n",
      " 12  ca        242 non-null    object \n",
      " 13  thal      242 non-null    object \n",
      " 14  target    242 non-null    int64  \n",
      "dtypes: float64(1), int64(12), object(2)\n",
      "memory usage: 28.5+ KB\n",
      "<class 'pandas.core.frame.DataFrame'>\n",
      "RangeIndex: 61 entries, 0 to 60\n",
      "Data columns (total 14 columns):\n",
      " #   Column    Non-Null Count  Dtype  \n",
      "---  ------    --------------  -----  \n",
      " 0   index     61 non-null     int64  \n",
      " 1   age       61 non-null     int64  \n",
      " 2   sex       61 non-null     int64  \n",
      " 3   cp        61 non-null     int64  \n",
      " 4   trestbps  61 non-null     int64  \n",
      " 5   chol      61 non-null     int64  \n",
      " 6   fbs       61 non-null     int64  \n",
      " 7   restecg   61 non-null     int64  \n",
      " 8   thalach   61 non-null     int64  \n",
      " 9   exang     61 non-null     int64  \n",
      " 10  oldpeak   61 non-null     float64\n",
      " 11  slope     61 non-null     int64  \n",
      " 12  ca        61 non-null     object \n",
      " 13  thal      61 non-null     object \n",
      "dtypes: float64(1), int64(11), object(2)\n",
      "memory usage: 6.8+ KB\n"
     ]
    }
   ],
   "source": [
    "#데이터 확인\n",
    "train.info()\n",
    "test.info()"
   ]
  },
  {
   "cell_type": "code",
   "execution_count": 6,
   "id": "ceabcaa0",
   "metadata": {
    "execution": {
     "iopub.execute_input": "2022-10-18T12:34:23.961232Z",
     "iopub.status.busy": "2022-10-18T12:34:23.960376Z",
     "iopub.status.idle": "2022-10-18T12:34:23.967514Z",
     "shell.execute_reply": "2022-10-18T12:34:23.966429Z"
    },
    "papermill": {
     "duration": 0.014846,
     "end_time": "2022-10-18T12:34:23.970018",
     "exception": false,
     "start_time": "2022-10-18T12:34:23.955172",
     "status": "completed"
    },
    "tags": []
   },
   "outputs": [
    {
     "name": "stdout",
     "output_type": "stream",
     "text": [
      "['0' '3' '2' '1' '?']\n",
      "['0' '2' '1' '3' '?']\n",
      "['6' '3' '7' '?']\n",
      "['3' '7' '6' '?']\n"
     ]
    }
   ],
   "source": [
    "#결측값 확인\n",
    "print(train['ca'].unique())\n",
    "print(test['ca'].unique())\n",
    "print(train['thal'].unique())\n",
    "print(test['thal'].unique())"
   ]
  },
  {
   "cell_type": "code",
   "execution_count": 7,
   "id": "ccb93f7c",
   "metadata": {
    "execution": {
     "iopub.execute_input": "2022-10-18T12:34:23.980918Z",
     "iopub.status.busy": "2022-10-18T12:34:23.980219Z",
     "iopub.status.idle": "2022-10-18T12:34:23.993840Z",
     "shell.execute_reply": "2022-10-18T12:34:23.993005Z"
    },
    "papermill": {
     "duration": 0.020843,
     "end_time": "2022-10-18T12:34:23.995729",
     "exception": false,
     "start_time": "2022-10-18T12:34:23.974886",
     "status": "completed"
    },
    "tags": []
   },
   "outputs": [],
   "source": [
    "#결측값 -1로 처리\n",
    "box1 = train['ca'].copy()\n",
    "box = train[train['ca']=='?'].index\n",
    "for i in box:\n",
    "    box1[i] = -1\n",
    "train['ca'] = box1.astype(int)\n",
    "\n",
    "box1 = test['ca'].copy()\n",
    "box = test[test['ca']=='?'].index\n",
    "for i in box:\n",
    "    box1[i] = -1\n",
    "test['ca'] = box1.astype(int)\n",
    "\n",
    "box1 = train['thal'].copy()\n",
    "box = train[train['thal']=='?'].index\n",
    "for i in box:\n",
    "    box1[i] = -1\n",
    "train['thal'] = box1.astype(int)\n",
    "\n",
    "box1 = test['thal'].copy()\n",
    "box = test[test['thal']=='?'].index\n",
    "for i in box:\n",
    "    box1[i] = -1\n",
    "test['thal'] = box1.astype(int)"
   ]
  },
  {
   "cell_type": "code",
   "execution_count": 8,
   "id": "60b84369",
   "metadata": {
    "execution": {
     "iopub.execute_input": "2022-10-18T12:34:24.006322Z",
     "iopub.status.busy": "2022-10-18T12:34:24.005519Z",
     "iopub.status.idle": "2022-10-18T12:34:24.016561Z",
     "shell.execute_reply": "2022-10-18T12:34:24.015092Z"
    },
    "papermill": {
     "duration": 0.018279,
     "end_time": "2022-10-18T12:34:24.018463",
     "exception": false,
     "start_time": "2022-10-18T12:34:24.000184",
     "status": "completed"
    },
    "tags": []
   },
   "outputs": [
    {
     "name": "stdout",
     "output_type": "stream",
     "text": [
      "<class 'pandas.core.frame.DataFrame'>\n",
      "RangeIndex: 61 entries, 0 to 60\n",
      "Data columns (total 14 columns):\n",
      " #   Column    Non-Null Count  Dtype  \n",
      "---  ------    --------------  -----  \n",
      " 0   index     61 non-null     int64  \n",
      " 1   age       61 non-null     int64  \n",
      " 2   sex       61 non-null     int64  \n",
      " 3   cp        61 non-null     int64  \n",
      " 4   trestbps  61 non-null     int64  \n",
      " 5   chol      61 non-null     int64  \n",
      " 6   fbs       61 non-null     int64  \n",
      " 7   restecg   61 non-null     int64  \n",
      " 8   thalach   61 non-null     int64  \n",
      " 9   exang     61 non-null     int64  \n",
      " 10  oldpeak   61 non-null     float64\n",
      " 11  slope     61 non-null     int64  \n",
      " 12  ca        61 non-null     int64  \n",
      " 13  thal      61 non-null     int64  \n",
      "dtypes: float64(1), int64(13)\n",
      "memory usage: 6.8 KB\n"
     ]
    }
   ],
   "source": [
    "test.info()"
   ]
  },
  {
   "cell_type": "code",
   "execution_count": 9,
   "id": "929ec603",
   "metadata": {
    "execution": {
     "iopub.execute_input": "2022-10-18T12:34:24.028961Z",
     "iopub.status.busy": "2022-10-18T12:34:24.028402Z",
     "iopub.status.idle": "2022-10-18T12:34:24.034984Z",
     "shell.execute_reply": "2022-10-18T12:34:24.034177Z"
    },
    "papermill": {
     "duration": 0.013629,
     "end_time": "2022-10-18T12:34:24.036832",
     "exception": false,
     "start_time": "2022-10-18T12:34:24.023203",
     "status": "completed"
    },
    "tags": []
   },
   "outputs": [],
   "source": [
    "#데이터 전처리\n",
    "xtrain = train.drop(['index','target'],axis=1)\n",
    "ytrain = train['target']\n",
    "xtest = test.drop(['index'],axis=1)"
   ]
  },
  {
   "cell_type": "code",
   "execution_count": 10,
   "id": "9a0210a8",
   "metadata": {
    "execution": {
     "iopub.execute_input": "2022-10-18T12:34:24.047125Z",
     "iopub.status.busy": "2022-10-18T12:34:24.046817Z",
     "iopub.status.idle": "2022-10-18T12:34:24.054997Z",
     "shell.execute_reply": "2022-10-18T12:34:24.054118Z"
    },
    "papermill": {
     "duration": 0.015558,
     "end_time": "2022-10-18T12:34:24.056957",
     "exception": false,
     "start_time": "2022-10-18T12:34:24.041399",
     "status": "completed"
    },
    "tags": []
   },
   "outputs": [
    {
     "data": {
      "text/plain": [
       "array([0, 2, 1, 3, 4])"
      ]
     },
     "execution_count": 10,
     "metadata": {},
     "output_type": "execute_result"
    }
   ],
   "source": [
    "ytrain.unique()"
   ]
  },
  {
   "cell_type": "code",
   "execution_count": 11,
   "id": "b0e60761",
   "metadata": {
    "execution": {
     "iopub.execute_input": "2022-10-18T12:34:24.067738Z",
     "iopub.status.busy": "2022-10-18T12:34:24.066944Z",
     "iopub.status.idle": "2022-10-18T12:34:24.073320Z",
     "shell.execute_reply": "2022-10-18T12:34:24.072505Z"
    },
    "papermill": {
     "duration": 0.0135,
     "end_time": "2022-10-18T12:34:24.075196",
     "exception": false,
     "start_time": "2022-10-18T12:34:24.061696",
     "status": "completed"
    },
    "tags": []
   },
   "outputs": [],
   "source": [
    "#제출하는 정답은 심장병 유무이므로 정답데이터역시 0혹은 1로만 있도록 전처리\n",
    "box = ytrain.copy()\n",
    "box[box >= 1] = 1\n",
    "ytrain = box"
   ]
  },
  {
   "cell_type": "code",
   "execution_count": 12,
   "id": "ea4c9dac",
   "metadata": {
    "execution": {
     "iopub.execute_input": "2022-10-18T12:34:24.085842Z",
     "iopub.status.busy": "2022-10-18T12:34:24.084956Z",
     "iopub.status.idle": "2022-10-18T12:34:26.893900Z",
     "shell.execute_reply": "2022-10-18T12:34:26.892700Z"
    },
    "papermill": {
     "duration": 2.817237,
     "end_time": "2022-10-18T12:34:26.896962",
     "exception": false,
     "start_time": "2022-10-18T12:34:24.079725",
     "status": "completed"
    },
    "tags": []
   },
   "outputs": [],
   "source": [
    "X_train = torch.FloatTensor(np.array(xtrain)).to(device)\n",
    "y_train = torch.FloatTensor(np.array(ytrain)).to(device)\n",
    "X_test = torch.FloatTensor(np.array(xtest)).to(device)"
   ]
  },
  {
   "cell_type": "code",
   "execution_count": 13,
   "id": "eceefcdb",
   "metadata": {
    "execution": {
     "iopub.execute_input": "2022-10-18T12:34:26.912515Z",
     "iopub.status.busy": "2022-10-18T12:34:26.912206Z",
     "iopub.status.idle": "2022-10-18T12:34:26.923707Z",
     "shell.execute_reply": "2022-10-18T12:34:26.922845Z"
    },
    "papermill": {
     "duration": 0.02324,
     "end_time": "2022-10-18T12:34:26.927488",
     "exception": false,
     "start_time": "2022-10-18T12:34:26.904248",
     "status": "completed"
    },
    "tags": []
   },
   "outputs": [
    {
     "name": "stdout",
     "output_type": "stream",
     "text": [
      "torch.Size([242, 13])\n",
      "torch.Size([242])\n",
      "2\n"
     ]
    }
   ],
   "source": [
    "#모델 빌드를 위한 설정값 확인\n",
    "print(X_train.shape)\n",
    "print(y_train.shape)\n",
    "print(len(y_train.unique()))"
   ]
  },
  {
   "cell_type": "code",
   "execution_count": 14,
   "id": "7317043b",
   "metadata": {
    "execution": {
     "iopub.execute_input": "2022-10-18T12:34:26.942448Z",
     "iopub.status.busy": "2022-10-18T12:34:26.942036Z",
     "iopub.status.idle": "2022-10-18T12:34:26.955615Z",
     "shell.execute_reply": "2022-10-18T12:34:26.954802Z"
    },
    "papermill": {
     "duration": 0.023641,
     "end_time": "2022-10-18T12:34:26.957999",
     "exception": false,
     "start_time": "2022-10-18T12:34:26.934358",
     "status": "completed"
    },
    "tags": []
   },
   "outputs": [],
   "source": [
    "#모델 빌드\n",
    "import torch.nn as nn\n",
    "\n",
    "class DNN(nn.Module):\n",
    "    def __init__(self):\n",
    "        super().__init__()\n",
    "        self.linear1 = nn.Linear(13, 64, bias=True)\n",
    "        self.linear2 = nn.Linear(64, 64, bias=True)\n",
    "        self.linear3 = nn.Linear(64, 32, bias=True)\n",
    "        self.linear4 = nn.Linear(32, 1, bias=True)\n",
    "        \n",
    "        self.active = nn.ReLU()\n",
    "        self.sigmoid = nn.Sigmoid()\n",
    "        self.dropout = nn.Dropout(0.2)\n",
    "        \n",
    "        nn.init.xavier_normal_(self.linear1.weight)\n",
    "        nn.init.xavier_normal_(self.linear2.weight)\n",
    "        nn.init.xavier_normal_(self.linear3.weight)\n",
    "        nn.init.xavier_normal_(self.linear4.weight)\n",
    "        \n",
    "    def forward(self, x):\n",
    "        x = self.linear1(x)\n",
    "        x = self.active(x)\n",
    "        x = self.dropout(x)\n",
    "        x = self.linear2(x)\n",
    "        x = self.active(x)\n",
    "        x = self.dropout(x)\n",
    "        x = self.linear3(x)\n",
    "        x = self.active(x)\n",
    "        x = self.dropout(x)\n",
    "        x = self.linear4(x)\n",
    "        x = self.sigmoid(x)\n",
    "        \n",
    "        return x"
   ]
  },
  {
   "cell_type": "code",
   "execution_count": 15,
   "id": "a21e0f1c",
   "metadata": {
    "execution": {
     "iopub.execute_input": "2022-10-18T12:34:26.974086Z",
     "iopub.status.busy": "2022-10-18T12:34:26.973755Z",
     "iopub.status.idle": "2022-10-18T12:34:26.982810Z",
     "shell.execute_reply": "2022-10-18T12:34:26.981911Z"
    },
    "papermill": {
     "duration": 0.019015,
     "end_time": "2022-10-18T12:34:26.985306",
     "exception": false,
     "start_time": "2022-10-18T12:34:26.966291",
     "status": "completed"
    },
    "tags": []
   },
   "outputs": [],
   "source": [
    "#모델 정의\n",
    "model = DNN().to(device)"
   ]
  },
  {
   "cell_type": "code",
   "execution_count": 16,
   "id": "47ae2365",
   "metadata": {
    "execution": {
     "iopub.execute_input": "2022-10-18T12:34:26.999578Z",
     "iopub.status.busy": "2022-10-18T12:34:26.999271Z",
     "iopub.status.idle": "2022-10-18T12:34:27.004277Z",
     "shell.execute_reply": "2022-10-18T12:34:27.003440Z"
    },
    "papermill": {
     "duration": 0.016185,
     "end_time": "2022-10-18T12:34:27.008032",
     "exception": false,
     "start_time": "2022-10-18T12:34:26.991847",
     "status": "completed"
    },
    "tags": []
   },
   "outputs": [],
   "source": [
    "import torch.optim as optim\n",
    "\n",
    "#Optimizer 정의\n",
    "optimizer = optim.Adam(model.parameters(), lr=1e-3)\n",
    "\n",
    "#Loss 정의\n",
    "loss = nn.BCELoss()"
   ]
  },
  {
   "cell_type": "code",
   "execution_count": 17,
   "id": "c892de13",
   "metadata": {
    "execution": {
     "iopub.execute_input": "2022-10-18T12:34:27.022406Z",
     "iopub.status.busy": "2022-10-18T12:34:27.022093Z",
     "iopub.status.idle": "2022-10-18T12:34:43.886129Z",
     "shell.execute_reply": "2022-10-18T12:34:43.884139Z"
    },
    "papermill": {
     "duration": 16.874055,
     "end_time": "2022-10-18T12:34:43.888712",
     "exception": false,
     "start_time": "2022-10-18T12:34:27.014657",
     "status": "completed"
    },
    "tags": []
   },
   "outputs": [
    {
     "name": "stdout",
     "output_type": "stream",
     "text": [
      "0 17.76585578918457\n",
      "1000 0.447252094745636\n",
      "2000 0.24425284564495087\n",
      "3000 0.15992723405361176\n",
      "4000 0.07091192156076431\n",
      "5000 0.06518223136663437\n",
      "6000 0.07438194006681442\n",
      "7000 0.054621435701847076\n",
      "8000 0.03916163742542267\n",
      "9000 0.06671217828989029\n",
      "10000 0.04392324760556221\n"
     ]
    }
   ],
   "source": [
    "#모델 학습\n",
    "epochs = 10000\n",
    "for epoch in range(epochs + 1):\n",
    "    \n",
    "    optimizer.zero_grad()\n",
    "    \n",
    "    hypothesis = model(X_train)\n",
    "    \n",
    "    cost = loss(hypothesis, y_train.unsqueeze(1))\n",
    "    \n",
    "    cost.backward()\n",
    "    \n",
    "    optimizer.step()\n",
    "    \n",
    "    if epoch % 1000 == 0:\n",
    "        print(epoch, cost.item())"
   ]
  },
  {
   "cell_type": "code",
   "execution_count": 18,
   "id": "2f75d433",
   "metadata": {
    "execution": {
     "iopub.execute_input": "2022-10-18T12:34:43.901198Z",
     "iopub.status.busy": "2022-10-18T12:34:43.900887Z",
     "iopub.status.idle": "2022-10-18T12:34:43.911262Z",
     "shell.execute_reply": "2022-10-18T12:34:43.910389Z"
    },
    "papermill": {
     "duration": 0.018415,
     "end_time": "2022-10-18T12:34:43.913183",
     "exception": false,
     "start_time": "2022-10-18T12:34:43.894768",
     "status": "completed"
    },
    "tags": []
   },
   "outputs": [],
   "source": [
    "#학습된 모델을 이용해서 Test 데이터 예측\n",
    "with torch.no_grad():\n",
    "    model.eval()\n",
    "    hypothesis = model(X_test)\n",
    "    predict = (hypothesis >= torch.FloatTensor([0.45]).to(device)).type(torch.uint8)"
   ]
  },
  {
   "cell_type": "code",
   "execution_count": 19,
   "id": "33d240ee",
   "metadata": {
    "execution": {
     "iopub.execute_input": "2022-10-18T12:34:43.924455Z",
     "iopub.status.busy": "2022-10-18T12:34:43.924173Z",
     "iopub.status.idle": "2022-10-18T12:34:43.932928Z",
     "shell.execute_reply": "2022-10-18T12:34:43.932107Z"
    },
    "papermill": {
     "duration": 0.016666,
     "end_time": "2022-10-18T12:34:43.934934",
     "exception": false,
     "start_time": "2022-10-18T12:34:43.918268",
     "status": "completed"
    },
    "tags": []
   },
   "outputs": [],
   "source": [
    "#예측한 값을 csv로 변환\n",
    "sample['target'] = predict.cpu().detach().numpy()\n",
    "sample.to_csv('submit.csv',index=False)"
   ]
  },
  {
   "cell_type": "code",
   "execution_count": null,
   "id": "55f82f31",
   "metadata": {
    "papermill": {
     "duration": 0.004895,
     "end_time": "2022-10-18T12:34:43.944942",
     "exception": false,
     "start_time": "2022-10-18T12:34:43.940047",
     "status": "completed"
    },
    "tags": []
   },
   "outputs": [],
   "source": []
  }
 ],
 "metadata": {
  "kernelspec": {
   "display_name": "Python 3",
   "language": "python",
   "name": "python3"
  },
  "language_info": {
   "codemirror_mode": {
    "name": "ipython",
    "version": 3
   },
   "file_extension": ".py",
   "mimetype": "text/x-python",
   "name": "python",
   "nbconvert_exporter": "python",
   "pygments_lexer": "ipython3",
   "version": "3.7.12"
  },
  "papermill": {
   "default_parameters": {},
   "duration": 30.537926,
   "end_time": "2022-10-18T12:34:44.969968",
   "environment_variables": {},
   "exception": null,
   "input_path": "__notebook__.ipynb",
   "output_path": "__notebook__.ipynb",
   "parameters": {},
   "start_time": "2022-10-18T12:34:14.432042",
   "version": "2.3.4"
  }
 },
 "nbformat": 4,
 "nbformat_minor": 5
}
