{
 "cells": [
  {
   "cell_type": "code",
   "execution_count": 1,
   "id": "db0cd523",
   "metadata": {
    "_cell_guid": "b1076dfc-b9ad-4769-8c92-a6c4dae69d19",
    "_uuid": "8f2839f25d086af736a60e9eeb907d3b93b6e0e5",
    "execution": {
     "iopub.execute_input": "2022-12-13T11:10:59.985511Z",
     "iopub.status.busy": "2022-12-13T11:10:59.985022Z",
     "iopub.status.idle": "2022-12-13T11:11:19.404365Z",
     "shell.execute_reply": "2022-12-13T11:11:19.403488Z"
    },
    "papermill": {
     "duration": 19.429266,
     "end_time": "2022-12-13T11:11:19.407252",
     "exception": false,
     "start_time": "2022-12-13T11:10:59.977986",
     "status": "completed"
    },
    "tags": []
   },
   "outputs": [],
   "source": [
    "# This Python 3 environment comes with many helpful analytics libraries installed\n",
    "# It is defined by the kaggle/python Docker image: https://github.com/kaggle/docker-python\n",
    "# For example, here's several helpful packages to load\n",
    "\n",
    "import numpy as np # linear algebra\n",
    "import pandas as pd # data processing, CSV file I/O (e.g. pd.read_csv)\n",
    "\n",
    "# Input data files are available in the read-only \"../input/\" directory\n",
    "# For example, running this (by clicking run or pressing Shift+Enter) will list all files under the input directory\n",
    "\n",
    "import os\n",
    "for dirname, _, filenames in os.walk('/kaggle/input'):\n",
    "    for filename in filenames:\n",
    "        pass\n",
    "#         print(os.path.join(dirname, filename))\n",
    "\n",
    "# You can write up to 20GB to the current directory (/kaggle/working/) that gets preserved as output when you create a version using \"Save & Run All\" \n",
    "# You can also write temporary files to /kaggle/temp/, but they won't be saved outside of the current session"
   ]
  },
  {
   "cell_type": "code",
   "execution_count": 2,
   "id": "13557fb9",
   "metadata": {
    "execution": {
     "iopub.execute_input": "2022-12-13T11:11:19.417901Z",
     "iopub.status.busy": "2022-12-13T11:11:19.417307Z",
     "iopub.status.idle": "2022-12-13T11:11:21.292080Z",
     "shell.execute_reply": "2022-12-13T11:11:21.290842Z"
    },
    "papermill": {
     "duration": 1.882965,
     "end_time": "2022-12-13T11:11:21.294611",
     "exception": false,
     "start_time": "2022-12-13T11:11:19.411646",
     "status": "completed"
    },
    "tags": []
   },
   "outputs": [],
   "source": [
    "#랜덤시드 고정\n",
    "import random\n",
    "import torch\n",
    "\n",
    "seed = 42\n",
    "random.seed(seed)\n",
    "np.random.seed(seed)\n",
    "torch.manual_seed(seed)\n",
    "if torch.cuda.is_available():\n",
    "    torch.cuda.manual_seed(seed)\n",
    "    torch.cuda.manual_seed_all(seed)\n",
    "torch.backends.cudnn.benchmark = False\n",
    "torch.backends.cudnn.deterministic = True"
   ]
  },
  {
   "cell_type": "code",
   "execution_count": 3,
   "id": "8cf63dd8",
   "metadata": {
    "execution": {
     "iopub.execute_input": "2022-12-13T11:11:21.304818Z",
     "iopub.status.busy": "2022-12-13T11:11:21.304279Z",
     "iopub.status.idle": "2022-12-13T11:11:21.309222Z",
     "shell.execute_reply": "2022-12-13T11:11:21.308027Z"
    },
    "papermill": {
     "duration": 0.012585,
     "end_time": "2022-12-13T11:11:21.311472",
     "exception": false,
     "start_time": "2022-12-13T11:11:21.298887",
     "status": "completed"
    },
    "tags": []
   },
   "outputs": [],
   "source": [
    "#gpu 사용가능하면 사용하는 설정\n",
    "device = 'cuda' if torch.cuda.is_available() else 'cpu'"
   ]
  },
  {
   "cell_type": "code",
   "execution_count": 4,
   "id": "04d20702",
   "metadata": {
    "execution": {
     "iopub.execute_input": "2022-12-13T11:11:21.321276Z",
     "iopub.status.busy": "2022-12-13T11:11:21.320830Z",
     "iopub.status.idle": "2022-12-13T11:11:21.337942Z",
     "shell.execute_reply": "2022-12-13T11:11:21.336772Z"
    },
    "papermill": {
     "duration": 0.025172,
     "end_time": "2022-12-13T11:11:21.340776",
     "exception": false,
     "start_time": "2022-12-13T11:11:21.315604",
     "status": "completed"
    },
    "tags": []
   },
   "outputs": [],
   "source": [
    "#데이터 로드\n",
    "sample = pd.read_csv('/kaggle/input/2022aifinalexamp2/submit.csv')"
   ]
  },
  {
   "cell_type": "code",
   "execution_count": 5,
   "id": "8f4726f9",
   "metadata": {
    "execution": {
     "iopub.execute_input": "2022-12-13T11:11:21.351098Z",
     "iopub.status.busy": "2022-12-13T11:11:21.350678Z",
     "iopub.status.idle": "2022-12-13T11:11:21.568995Z",
     "shell.execute_reply": "2022-12-13T11:11:21.567970Z"
    },
    "papermill": {
     "duration": 0.22704,
     "end_time": "2022-12-13T11:11:21.572008",
     "exception": false,
     "start_time": "2022-12-13T11:11:21.344968",
     "status": "completed"
    },
    "tags": []
   },
   "outputs": [],
   "source": [
    "#학습데이터, 테스트데이터 경로 지정\n",
    "from os.path import join\n",
    "from glob import glob\n",
    "\n",
    "train_path = '/kaggle/input/2022aifinalexamp2/train_data/train_images'\n",
    "train_image_path = glob(join(train_path,'*','*'))\n",
    "test_path = '/kaggle/input/2022aifinalexamp2/test_data/test_images'\n",
    "test_image_path = glob(join(test_path,'*'))\n",
    "test_sorted_path = []\n",
    "for i in range(len(test_image_path)):\n",
    "    test_sorted_path.append(test_path + '/' + str(i) + '.png')"
   ]
  },
  {
   "cell_type": "code",
   "execution_count": 6,
   "id": "7de0217b",
   "metadata": {
    "execution": {
     "iopub.execute_input": "2022-12-13T11:11:21.582130Z",
     "iopub.status.busy": "2022-12-13T11:11:21.581746Z",
     "iopub.status.idle": "2022-12-13T11:11:21.592501Z",
     "shell.execute_reply": "2022-12-13T11:11:21.591430Z"
    },
    "papermill": {
     "duration": 0.018967,
     "end_time": "2022-12-13T11:11:21.595198",
     "exception": false,
     "start_time": "2022-12-13T11:11:21.576231",
     "status": "completed"
    },
    "tags": []
   },
   "outputs": [],
   "source": [
    "#학습데이터셋, 테스트데이터셋 정의\n",
    "from torch.utils.data import Dataset, DataLoader\n",
    "from PIL import Image\n",
    "\n",
    "class Datasets(Dataset):\n",
    "    def __init__(self, path, state='',transform=None):\n",
    "        self.state = state\n",
    "        self.transform = transform\n",
    "        self.path = path\n",
    "        \n",
    "        if self.state == 'train':\n",
    "            self.label = [int(i.split('/')[-2]) for i in self.path]\n",
    "    \n",
    "    def __len__(self):\n",
    "        return len(self.path)\n",
    "    \n",
    "    def __getitem__(self, index):\n",
    "        data = self.path[index]\n",
    "        data = Image.open(data).convert('RGB')\n",
    "        data = self.transform(data)\n",
    "        \n",
    "        if self.state == 'test':\n",
    "            return data\n",
    "        \n",
    "        else:\n",
    "            return data, torch.from_numpy(np.array(self.label[index]))"
   ]
  },
  {
   "cell_type": "code",
   "execution_count": 7,
   "id": "7101caab",
   "metadata": {
    "execution": {
     "iopub.execute_input": "2022-12-13T11:11:21.604930Z",
     "iopub.status.busy": "2022-12-13T11:11:21.604528Z",
     "iopub.status.idle": "2022-12-13T11:11:21.880151Z",
     "shell.execute_reply": "2022-12-13T11:11:21.878837Z"
    },
    "papermill": {
     "duration": 0.28373,
     "end_time": "2022-12-13T11:11:21.883079",
     "exception": false,
     "start_time": "2022-12-13T11:11:21.599349",
     "status": "completed"
    },
    "tags": []
   },
   "outputs": [],
   "source": [
    "#데이터 정규화 방식\n",
    "\n",
    "import torchvision.transforms as transforms\n",
    "\n",
    "transform = transforms.Compose([\n",
    "    transforms.ToTensor(),\n",
    "    transforms.Normalize((0.5, 0.5, 0.5), (0.5, 0.5, 0.5))\n",
    "])"
   ]
  },
  {
   "cell_type": "code",
   "execution_count": 8,
   "id": "45ab5d51",
   "metadata": {
    "execution": {
     "iopub.execute_input": "2022-12-13T11:11:21.892823Z",
     "iopub.status.busy": "2022-12-13T11:11:21.892418Z",
     "iopub.status.idle": "2022-12-13T11:11:21.928750Z",
     "shell.execute_reply": "2022-12-13T11:11:21.927848Z"
    },
    "papermill": {
     "duration": 0.043913,
     "end_time": "2022-12-13T11:11:21.931185",
     "exception": false,
     "start_time": "2022-12-13T11:11:21.887272",
     "status": "completed"
    },
    "tags": []
   },
   "outputs": [],
   "source": [
    "#학습데이터셋, 테스트데이터셋 설정\n",
    "train_dataset = Datasets(train_image_path, state='train', transform=transform)\n",
    "test_dataset = Datasets(test_sorted_path, state='test', transform=transform)"
   ]
  },
  {
   "cell_type": "code",
   "execution_count": 9,
   "id": "62e24230",
   "metadata": {
    "execution": {
     "iopub.execute_input": "2022-12-13T11:11:21.940975Z",
     "iopub.status.busy": "2022-12-13T11:11:21.940538Z",
     "iopub.status.idle": "2022-12-13T11:11:21.946104Z",
     "shell.execute_reply": "2022-12-13T11:11:21.944930Z"
    },
    "papermill": {
     "duration": 0.012997,
     "end_time": "2022-12-13T11:11:21.948271",
     "exception": false,
     "start_time": "2022-12-13T11:11:21.935274",
     "status": "completed"
    },
    "tags": []
   },
   "outputs": [],
   "source": [
    "#학습데이터로더, 테스트데이터로더 설정\n",
    "train_dataloader = DataLoader(train_dataset, batch_size=64, shuffle=True)\n",
    "test_dataloader = DataLoader(test_dataset, batch_size=64, shuffle=False)"
   ]
  },
  {
   "cell_type": "code",
   "execution_count": 10,
   "id": "cf8b19d4",
   "metadata": {
    "execution": {
     "iopub.execute_input": "2022-12-13T11:11:21.958211Z",
     "iopub.status.busy": "2022-12-13T11:11:21.957794Z",
     "iopub.status.idle": "2022-12-13T11:11:24.782292Z",
     "shell.execute_reply": "2022-12-13T11:11:24.780575Z"
    },
    "papermill": {
     "duration": 2.833003,
     "end_time": "2022-12-13T11:11:24.785321",
     "exception": false,
     "start_time": "2022-12-13T11:11:21.952318",
     "status": "completed"
    },
    "tags": []
   },
   "outputs": [
    {
     "name": "stderr",
     "output_type": "stream",
     "text": [
      "Downloading: \"https://download.pytorch.org/models/resnet18-f37072fd.pth\" to /root/.cache/torch/hub/checkpoints/resnet18-f37072fd.pth\n"
     ]
    },
    {
     "data": {
      "application/vnd.jupyter.widget-view+json": {
       "model_id": "781ddb5879a443e79bc8e6f323669c92",
       "version_major": 2,
       "version_minor": 0
      },
      "text/plain": [
       "  0%|          | 0.00/44.7M [00:00<?, ?B/s]"
      ]
     },
     "metadata": {},
     "output_type": "display_data"
    }
   ],
   "source": [
    "#사전학습된 모델을 가져와서 사용\n",
    "import torchvision.models as models\n",
    "import torch.nn as nn\n",
    "\n",
    "model = models.resnet18(pretrained=True)\n",
    "model.fc = nn.Linear(512, 10, bias=True)\n",
    "nn.init.xavier_uniform_(model.fc.weight)\n",
    "\n",
    "model = model.to(device)"
   ]
  },
  {
   "cell_type": "code",
   "execution_count": 11,
   "id": "b3789ab0",
   "metadata": {
    "execution": {
     "iopub.execute_input": "2022-12-13T11:11:24.804407Z",
     "iopub.status.busy": "2022-12-13T11:11:24.803700Z",
     "iopub.status.idle": "2022-12-13T11:11:24.813357Z",
     "shell.execute_reply": "2022-12-13T11:11:24.812400Z"
    },
    "papermill": {
     "duration": 0.019407,
     "end_time": "2022-12-13T11:11:24.815612",
     "exception": false,
     "start_time": "2022-12-13T11:11:24.796205",
     "status": "completed"
    },
    "tags": []
   },
   "outputs": [],
   "source": [
    "#optimizer 정의\n",
    "optimizer = torch.optim.Adam(model.parameters(), lr=1e-3)\n",
    "#loss 정의(다중분류문제이므로 CrossEntropyLoss)\n",
    "loss = nn.CrossEntropyLoss()"
   ]
  },
  {
   "cell_type": "code",
   "execution_count": 12,
   "id": "051143f5",
   "metadata": {
    "execution": {
     "iopub.execute_input": "2022-12-13T11:11:24.826594Z",
     "iopub.status.busy": "2022-12-13T11:11:24.825826Z",
     "iopub.status.idle": "2022-12-13T11:46:14.110035Z",
     "shell.execute_reply": "2022-12-13T11:46:14.108921Z"
    },
    "papermill": {
     "duration": 2089.293037,
     "end_time": "2022-12-13T11:46:14.113084",
     "exception": false,
     "start_time": "2022-12-13T11:11:24.820047",
     "status": "completed"
    },
    "tags": []
   },
   "outputs": [
    {
     "name": "stderr",
     "output_type": "stream",
     "text": [
      "100%|██████████| 782/782 [08:17<00:00,  1.57it/s]\n"
     ]
    },
    {
     "name": "stdout",
     "output_type": "stream",
     "text": [
      "epoch : 0, cost : 1.0082679272383985\n"
     ]
    },
    {
     "name": "stderr",
     "output_type": "stream",
     "text": [
      "100%|██████████| 782/782 [06:47<00:00,  1.92it/s]\n"
     ]
    },
    {
     "name": "stdout",
     "output_type": "stream",
     "text": [
      "epoch : 1, cost : 0.6643673186869268\n"
     ]
    },
    {
     "name": "stderr",
     "output_type": "stream",
     "text": [
      "100%|██████████| 782/782 [06:42<00:00,  1.94it/s]\n"
     ]
    },
    {
     "name": "stdout",
     "output_type": "stream",
     "text": [
      "epoch : 2, cost : 0.5366871466722025\n"
     ]
    },
    {
     "name": "stderr",
     "output_type": "stream",
     "text": [
      "100%|██████████| 782/782 [06:38<00:00,  1.96it/s]\n"
     ]
    },
    {
     "name": "stdout",
     "output_type": "stream",
     "text": [
      "epoch : 3, cost : 0.45601733518607174\n"
     ]
    },
    {
     "name": "stderr",
     "output_type": "stream",
     "text": [
      "100%|██████████| 782/782 [06:23<00:00,  2.04it/s]"
     ]
    },
    {
     "name": "stdout",
     "output_type": "stream",
     "text": [
      "epoch : 4, cost : 0.360692925875068\n"
     ]
    },
    {
     "name": "stderr",
     "output_type": "stream",
     "text": [
      "\n"
     ]
    }
   ],
   "source": [
    "#모델학습\n",
    "from tqdm import tqdm\n",
    "\n",
    "epochs = 5\n",
    "for epoch in range(epochs):\n",
    "    costs = []\n",
    "    for x, y in tqdm(train_dataloader):\n",
    "        x = x.to(device)\n",
    "        y = y.to(device)\n",
    "        \n",
    "        optimizer.zero_grad()\n",
    "        hypothesis = model(x)\n",
    "        cost = loss(hypothesis, y)\n",
    "        costs.append(cost.item())\n",
    "        cost.backward()\n",
    "        optimizer.step()\n",
    "    \n",
    "    average = np.mean(costs)\n",
    "    print(f\"epoch : {epoch}, cost : {average}\")"
   ]
  },
  {
   "cell_type": "code",
   "execution_count": 13,
   "id": "e8066c33",
   "metadata": {
    "execution": {
     "iopub.execute_input": "2022-12-13T11:46:14.641051Z",
     "iopub.status.busy": "2022-12-13T11:46:14.640621Z",
     "iopub.status.idle": "2022-12-13T11:46:53.821989Z",
     "shell.execute_reply": "2022-12-13T11:46:53.820010Z"
    },
    "papermill": {
     "duration": 39.421626,
     "end_time": "2022-12-13T11:46:53.825188",
     "exception": false,
     "start_time": "2022-12-13T11:46:14.403562",
     "status": "completed"
    },
    "tags": []
   },
   "outputs": [
    {
     "name": "stderr",
     "output_type": "stream",
     "text": [
      "100%|██████████| 157/157 [00:39<00:00,  4.01it/s]\n"
     ]
    }
   ],
   "source": [
    "#테스트데이터를 이용해서 모델 평가\n",
    "model.eval()\n",
    "predicts = []\n",
    "with torch.no_grad():\n",
    "    for x in tqdm(test_dataloader):\n",
    "        x = x.to(device)\n",
    "        hypothesis = model(x)\n",
    "        predict = torch.argmax(hypothesis, dim=1)\n",
    "        predicts.extend(predict.cpu().detach().numpy())"
   ]
  },
  {
   "cell_type": "code",
   "execution_count": 14,
   "id": "6ee8835d",
   "metadata": {
    "execution": {
     "iopub.execute_input": "2022-12-13T11:46:54.308106Z",
     "iopub.status.busy": "2022-12-13T11:46:54.306798Z",
     "iopub.status.idle": "2022-12-13T11:46:54.333593Z",
     "shell.execute_reply": "2022-12-13T11:46:54.332582Z"
    },
    "papermill": {
     "duration": 0.269542,
     "end_time": "2022-12-13T11:46:54.336006",
     "exception": false,
     "start_time": "2022-12-13T11:46:54.066464",
     "status": "completed"
    },
    "tags": []
   },
   "outputs": [],
   "source": [
    "#결과값을 csv파일로 변환\n",
    "sample['label'] = predicts\n",
    "sample.to_csv('submit.csv',index=False)"
   ]
  }
 ],
 "metadata": {
  "kernelspec": {
   "display_name": "Python 3",
   "language": "python",
   "name": "python3"
  },
  "language_info": {
   "codemirror_mode": {
    "name": "ipython",
    "version": 3
   },
   "file_extension": ".py",
   "mimetype": "text/x-python",
   "name": "python",
   "nbconvert_exporter": "python",
   "pygments_lexer": "ipython3",
   "version": "3.7.12"
  },
  "papermill": {
   "default_parameters": {},
   "duration": 2163.874509,
   "end_time": "2022-12-13T11:46:55.402629",
   "environment_variables": {},
   "exception": null,
   "input_path": "__notebook__.ipynb",
   "output_path": "__notebook__.ipynb",
   "parameters": {},
   "start_time": "2022-12-13T11:10:51.528120",
   "version": "2.3.4"
  },
  "widgets": {
   "application/vnd.jupyter.widget-state+json": {
    "state": {
     "31f8bd49ffce4a15af00ab1cf446c514": {
      "model_module": "@jupyter-widgets/controls",
      "model_module_version": "1.5.0",
      "model_name": "DescriptionStyleModel",
      "state": {
       "_model_module": "@jupyter-widgets/controls",
       "_model_module_version": "1.5.0",
       "_model_name": "DescriptionStyleModel",
       "_view_count": null,
       "_view_module": "@jupyter-widgets/base",
       "_view_module_version": "1.2.0",
       "_view_name": "StyleView",
       "description_width": ""
      }
     },
     "4488497c6aa44deeb1946dd267f95add": {
      "model_module": "@jupyter-widgets/base",
      "model_module_version": "1.2.0",
      "model_name": "LayoutModel",
      "state": {
       "_model_module": "@jupyter-widgets/base",
       "_model_module_version": "1.2.0",
       "_model_name": "LayoutModel",
       "_view_count": null,
       "_view_module": "@jupyter-widgets/base",
       "_view_module_version": "1.2.0",
       "_view_name": "LayoutView",
       "align_content": null,
       "align_items": null,
       "align_self": null,
       "border": null,
       "bottom": null,
       "display": null,
       "flex": null,
       "flex_flow": null,
       "grid_area": null,
       "grid_auto_columns": null,
       "grid_auto_flow": null,
       "grid_auto_rows": null,
       "grid_column": null,
       "grid_gap": null,
       "grid_row": null,
       "grid_template_areas": null,
       "grid_template_columns": null,
       "grid_template_rows": null,
       "height": null,
       "justify_content": null,
       "justify_items": null,
       "left": null,
       "margin": null,
       "max_height": null,
       "max_width": null,
       "min_height": null,
       "min_width": null,
       "object_fit": null,
       "object_position": null,
       "order": null,
       "overflow": null,
       "overflow_x": null,
       "overflow_y": null,
       "padding": null,
       "right": null,
       "top": null,
       "visibility": null,
       "width": null
      }
     },
     "534e5edd258546e198dbbc2ac9f65bc8": {
      "model_module": "@jupyter-widgets/controls",
      "model_module_version": "1.5.0",
      "model_name": "DescriptionStyleModel",
      "state": {
       "_model_module": "@jupyter-widgets/controls",
       "_model_module_version": "1.5.0",
       "_model_name": "DescriptionStyleModel",
       "_view_count": null,
       "_view_module": "@jupyter-widgets/base",
       "_view_module_version": "1.2.0",
       "_view_name": "StyleView",
       "description_width": ""
      }
     },
     "750e6e57aa224b9e9e2a3d06816c90e4": {
      "model_module": "@jupyter-widgets/base",
      "model_module_version": "1.2.0",
      "model_name": "LayoutModel",
      "state": {
       "_model_module": "@jupyter-widgets/base",
       "_model_module_version": "1.2.0",
       "_model_name": "LayoutModel",
       "_view_count": null,
       "_view_module": "@jupyter-widgets/base",
       "_view_module_version": "1.2.0",
       "_view_name": "LayoutView",
       "align_content": null,
       "align_items": null,
       "align_self": null,
       "border": null,
       "bottom": null,
       "display": null,
       "flex": null,
       "flex_flow": null,
       "grid_area": null,
       "grid_auto_columns": null,
       "grid_auto_flow": null,
       "grid_auto_rows": null,
       "grid_column": null,
       "grid_gap": null,
       "grid_row": null,
       "grid_template_areas": null,
       "grid_template_columns": null,
       "grid_template_rows": null,
       "height": null,
       "justify_content": null,
       "justify_items": null,
       "left": null,
       "margin": null,
       "max_height": null,
       "max_width": null,
       "min_height": null,
       "min_width": null,
       "object_fit": null,
       "object_position": null,
       "order": null,
       "overflow": null,
       "overflow_x": null,
       "overflow_y": null,
       "padding": null,
       "right": null,
       "top": null,
       "visibility": null,
       "width": null
      }
     },
     "781ddb5879a443e79bc8e6f323669c92": {
      "model_module": "@jupyter-widgets/controls",
      "model_module_version": "1.5.0",
      "model_name": "HBoxModel",
      "state": {
       "_dom_classes": [],
       "_model_module": "@jupyter-widgets/controls",
       "_model_module_version": "1.5.0",
       "_model_name": "HBoxModel",
       "_view_count": null,
       "_view_module": "@jupyter-widgets/controls",
       "_view_module_version": "1.5.0",
       "_view_name": "HBoxView",
       "box_style": "",
       "children": [
        "IPY_MODEL_9727da3c76514d848789df02ee05d260",
        "IPY_MODEL_a89ea8448f47454da61ad30504a3653b",
        "IPY_MODEL_ace6c917dc3b4fcf977b6a782a11e00c"
       ],
       "layout": "IPY_MODEL_973fb213654c4a23b3cfe00a55949769"
      }
     },
     "9727da3c76514d848789df02ee05d260": {
      "model_module": "@jupyter-widgets/controls",
      "model_module_version": "1.5.0",
      "model_name": "HTMLModel",
      "state": {
       "_dom_classes": [],
       "_model_module": "@jupyter-widgets/controls",
       "_model_module_version": "1.5.0",
       "_model_name": "HTMLModel",
       "_view_count": null,
       "_view_module": "@jupyter-widgets/controls",
       "_view_module_version": "1.5.0",
       "_view_name": "HTMLView",
       "description": "",
       "description_tooltip": null,
       "layout": "IPY_MODEL_9cd2496e70f3497b825010751c3656eb",
       "placeholder": "​",
       "style": "IPY_MODEL_31f8bd49ffce4a15af00ab1cf446c514",
       "value": "100%"
      }
     },
     "973fb213654c4a23b3cfe00a55949769": {
      "model_module": "@jupyter-widgets/base",
      "model_module_version": "1.2.0",
      "model_name": "LayoutModel",
      "state": {
       "_model_module": "@jupyter-widgets/base",
       "_model_module_version": "1.2.0",
       "_model_name": "LayoutModel",
       "_view_count": null,
       "_view_module": "@jupyter-widgets/base",
       "_view_module_version": "1.2.0",
       "_view_name": "LayoutView",
       "align_content": null,
       "align_items": null,
       "align_self": null,
       "border": null,
       "bottom": null,
       "display": null,
       "flex": null,
       "flex_flow": null,
       "grid_area": null,
       "grid_auto_columns": null,
       "grid_auto_flow": null,
       "grid_auto_rows": null,
       "grid_column": null,
       "grid_gap": null,
       "grid_row": null,
       "grid_template_areas": null,
       "grid_template_columns": null,
       "grid_template_rows": null,
       "height": null,
       "justify_content": null,
       "justify_items": null,
       "left": null,
       "margin": null,
       "max_height": null,
       "max_width": null,
       "min_height": null,
       "min_width": null,
       "object_fit": null,
       "object_position": null,
       "order": null,
       "overflow": null,
       "overflow_x": null,
       "overflow_y": null,
       "padding": null,
       "right": null,
       "top": null,
       "visibility": null,
       "width": null
      }
     },
     "9cd2496e70f3497b825010751c3656eb": {
      "model_module": "@jupyter-widgets/base",
      "model_module_version": "1.2.0",
      "model_name": "LayoutModel",
      "state": {
       "_model_module": "@jupyter-widgets/base",
       "_model_module_version": "1.2.0",
       "_model_name": "LayoutModel",
       "_view_count": null,
       "_view_module": "@jupyter-widgets/base",
       "_view_module_version": "1.2.0",
       "_view_name": "LayoutView",
       "align_content": null,
       "align_items": null,
       "align_self": null,
       "border": null,
       "bottom": null,
       "display": null,
       "flex": null,
       "flex_flow": null,
       "grid_area": null,
       "grid_auto_columns": null,
       "grid_auto_flow": null,
       "grid_auto_rows": null,
       "grid_column": null,
       "grid_gap": null,
       "grid_row": null,
       "grid_template_areas": null,
       "grid_template_columns": null,
       "grid_template_rows": null,
       "height": null,
       "justify_content": null,
       "justify_items": null,
       "left": null,
       "margin": null,
       "max_height": null,
       "max_width": null,
       "min_height": null,
       "min_width": null,
       "object_fit": null,
       "object_position": null,
       "order": null,
       "overflow": null,
       "overflow_x": null,
       "overflow_y": null,
       "padding": null,
       "right": null,
       "top": null,
       "visibility": null,
       "width": null
      }
     },
     "a2899d744e3042e6a223d00ca3677e5d": {
      "model_module": "@jupyter-widgets/controls",
      "model_module_version": "1.5.0",
      "model_name": "ProgressStyleModel",
      "state": {
       "_model_module": "@jupyter-widgets/controls",
       "_model_module_version": "1.5.0",
       "_model_name": "ProgressStyleModel",
       "_view_count": null,
       "_view_module": "@jupyter-widgets/base",
       "_view_module_version": "1.2.0",
       "_view_name": "StyleView",
       "bar_color": null,
       "description_width": ""
      }
     },
     "a89ea8448f47454da61ad30504a3653b": {
      "model_module": "@jupyter-widgets/controls",
      "model_module_version": "1.5.0",
      "model_name": "FloatProgressModel",
      "state": {
       "_dom_classes": [],
       "_model_module": "@jupyter-widgets/controls",
       "_model_module_version": "1.5.0",
       "_model_name": "FloatProgressModel",
       "_view_count": null,
       "_view_module": "@jupyter-widgets/controls",
       "_view_module_version": "1.5.0",
       "_view_name": "ProgressView",
       "bar_style": "success",
       "description": "",
       "description_tooltip": null,
       "layout": "IPY_MODEL_750e6e57aa224b9e9e2a3d06816c90e4",
       "max": 46830571.0,
       "min": 0.0,
       "orientation": "horizontal",
       "style": "IPY_MODEL_a2899d744e3042e6a223d00ca3677e5d",
       "value": 46830571.0
      }
     },
     "ace6c917dc3b4fcf977b6a782a11e00c": {
      "model_module": "@jupyter-widgets/controls",
      "model_module_version": "1.5.0",
      "model_name": "HTMLModel",
      "state": {
       "_dom_classes": [],
       "_model_module": "@jupyter-widgets/controls",
       "_model_module_version": "1.5.0",
       "_model_name": "HTMLModel",
       "_view_count": null,
       "_view_module": "@jupyter-widgets/controls",
       "_view_module_version": "1.5.0",
       "_view_name": "HTMLView",
       "description": "",
       "description_tooltip": null,
       "layout": "IPY_MODEL_4488497c6aa44deeb1946dd267f95add",
       "placeholder": "​",
       "style": "IPY_MODEL_534e5edd258546e198dbbc2ac9f65bc8",
       "value": " 44.7M/44.7M [00:02&lt;00:00, 30.4MB/s]"
      }
     }
    },
    "version_major": 2,
    "version_minor": 0
   }
  }
 },
 "nbformat": 4,
 "nbformat_minor": 5
}
