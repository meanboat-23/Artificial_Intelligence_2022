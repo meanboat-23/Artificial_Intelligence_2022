{
 "cells": [
  {
   "cell_type": "code",
   "execution_count": 1,
   "id": "37e599bf",
   "metadata": {
    "_cell_guid": "b1076dfc-b9ad-4769-8c92-a6c4dae69d19",
    "_uuid": "8f2839f25d086af736a60e9eeb907d3b93b6e0e5",
    "execution": {
     "iopub.execute_input": "2022-12-13T10:47:26.245392Z",
     "iopub.status.busy": "2022-12-13T10:47:26.244834Z",
     "iopub.status.idle": "2022-12-13T10:47:26.257560Z",
     "shell.execute_reply": "2022-12-13T10:47:26.256433Z"
    },
    "papermill": {
     "duration": 0.022661,
     "end_time": "2022-12-13T10:47:26.260147",
     "exception": false,
     "start_time": "2022-12-13T10:47:26.237486",
     "status": "completed"
    },
    "tags": []
   },
   "outputs": [
    {
     "name": "stdout",
     "output_type": "stream",
     "text": [
      "/kaggle/input/2022aifinalexamp1/train.csv\n",
      "/kaggle/input/2022aifinalexamp1/test.csv\n",
      "/kaggle/input/2022aifinalexamp1/sample_submit.csv\n"
     ]
    }
   ],
   "source": [
    "# This Python 3 environment comes with many helpful analytics libraries installed\n",
    "# It is defined by the kaggle/python Docker image: https://github.com/kaggle/docker-python\n",
    "# For example, here's several helpful packages to load\n",
    "\n",
    "import numpy as np # linear algebra\n",
    "import pandas as pd # data processing, CSV file I/O (e.g. pd.read_csv)\n",
    "\n",
    "# Input data files are available in the read-only \"../input/\" directory\n",
    "# For example, running this (by clicking run or pressing Shift+Enter) will list all files under the input directory\n",
    "\n",
    "import os\n",
    "for dirname, _, filenames in os.walk('/kaggle/input'):\n",
    "    for filename in filenames:\n",
    "        print(os.path.join(dirname, filename))\n",
    "\n",
    "# You can write up to 20GB to the current directory (/kaggle/working/) that gets preserved as output when you create a version using \"Save & Run All\" \n",
    "# You can also write temporary files to /kaggle/temp/, but they won't be saved outside of the current session"
   ]
  },
  {
   "cell_type": "code",
   "execution_count": 2,
   "id": "94d6bd53",
   "metadata": {
    "execution": {
     "iopub.execute_input": "2022-12-13T10:47:26.271550Z",
     "iopub.status.busy": "2022-12-13T10:47:26.270665Z",
     "iopub.status.idle": "2022-12-13T10:47:27.740980Z",
     "shell.execute_reply": "2022-12-13T10:47:27.740002Z"
    },
    "papermill": {
     "duration": 1.478401,
     "end_time": "2022-12-13T10:47:27.743700",
     "exception": false,
     "start_time": "2022-12-13T10:47:26.265299",
     "status": "completed"
    },
    "tags": []
   },
   "outputs": [],
   "source": [
    "#랜덤시드 고정\n",
    "import random\n",
    "import torch\n",
    "\n",
    "seed = 42\n",
    "random.seed(seed)\n",
    "np.random.seed(seed)\n",
    "torch.manual_seed(seed)\n",
    "if torch.cuda.is_available():\n",
    "    torch.cuda.manual_seed(seed)\n",
    "    torch.cuda.manual_seed_all(seed)\n",
    "torch.backends.cudnn.benchmark = False\n",
    "torch.backends.cudnn.deterministic = True"
   ]
  },
  {
   "cell_type": "code",
   "execution_count": 3,
   "id": "d8b9c1fe",
   "metadata": {
    "execution": {
     "iopub.execute_input": "2022-12-13T10:47:27.754782Z",
     "iopub.status.busy": "2022-12-13T10:47:27.753720Z",
     "iopub.status.idle": "2022-12-13T10:47:27.758627Z",
     "shell.execute_reply": "2022-12-13T10:47:27.757773Z"
    },
    "papermill": {
     "duration": 0.012108,
     "end_time": "2022-12-13T10:47:27.760518",
     "exception": false,
     "start_time": "2022-12-13T10:47:27.748410",
     "status": "completed"
    },
    "tags": []
   },
   "outputs": [],
   "source": [
    "#gpu 사용가능하면 사용하는 설정\n",
    "device = 'cuda' if torch.cuda.is_available() else 'cpu'"
   ]
  },
  {
   "cell_type": "code",
   "execution_count": 4,
   "id": "05c187c4",
   "metadata": {
    "execution": {
     "iopub.execute_input": "2022-12-13T10:47:27.770547Z",
     "iopub.status.busy": "2022-12-13T10:47:27.770011Z",
     "iopub.status.idle": "2022-12-13T10:47:27.802266Z",
     "shell.execute_reply": "2022-12-13T10:47:27.801415Z"
    },
    "papermill": {
     "duration": 0.039671,
     "end_time": "2022-12-13T10:47:27.804476",
     "exception": false,
     "start_time": "2022-12-13T10:47:27.764805",
     "status": "completed"
    },
    "tags": []
   },
   "outputs": [],
   "source": [
    "#데이터 로드\n",
    "sample = pd.read_csv('/kaggle/input/2022aifinalexamp1/sample_submit.csv')\n",
    "train = pd.read_csv('/kaggle/input/2022aifinalexamp1/train.csv')\n",
    "test = pd.read_csv('/kaggle/input/2022aifinalexamp1/test.csv')"
   ]
  },
  {
   "cell_type": "code",
   "execution_count": 5,
   "id": "53f749d5",
   "metadata": {
    "execution": {
     "iopub.execute_input": "2022-12-13T10:47:27.814367Z",
     "iopub.status.busy": "2022-12-13T10:47:27.814060Z",
     "iopub.status.idle": "2022-12-13T10:47:27.842848Z",
     "shell.execute_reply": "2022-12-13T10:47:27.841957Z"
    },
    "papermill": {
     "duration": 0.035935,
     "end_time": "2022-12-13T10:47:27.844732",
     "exception": false,
     "start_time": "2022-12-13T10:47:27.808797",
     "status": "completed"
    },
    "tags": []
   },
   "outputs": [
    {
     "data": {
      "text/html": [
       "<div>\n",
       "<style scoped>\n",
       "    .dataframe tbody tr th:only-of-type {\n",
       "        vertical-align: middle;\n",
       "    }\n",
       "\n",
       "    .dataframe tbody tr th {\n",
       "        vertical-align: top;\n",
       "    }\n",
       "\n",
       "    .dataframe thead th {\n",
       "        text-align: right;\n",
       "    }\n",
       "</style>\n",
       "<table border=\"1\" class=\"dataframe\">\n",
       "  <thead>\n",
       "    <tr style=\"text-align: right;\">\n",
       "      <th></th>\n",
       "      <th>id</th>\n",
       "      <th>battery_power</th>\n",
       "      <th>blue</th>\n",
       "      <th>clock_speed</th>\n",
       "      <th>dual_sim</th>\n",
       "      <th>fc</th>\n",
       "      <th>four_g</th>\n",
       "      <th>int_memory</th>\n",
       "      <th>m_dep</th>\n",
       "      <th>mobile_wt</th>\n",
       "      <th>...</th>\n",
       "      <th>px_height</th>\n",
       "      <th>px_width</th>\n",
       "      <th>ram</th>\n",
       "      <th>sc_h</th>\n",
       "      <th>sc_w</th>\n",
       "      <th>talk_time</th>\n",
       "      <th>three_g</th>\n",
       "      <th>touch_screen</th>\n",
       "      <th>wifi</th>\n",
       "      <th>price_range</th>\n",
       "    </tr>\n",
       "  </thead>\n",
       "  <tbody>\n",
       "    <tr>\n",
       "      <th>0</th>\n",
       "      <td>923</td>\n",
       "      <td>1027</td>\n",
       "      <td>True</td>\n",
       "      <td>2.2</td>\n",
       "      <td>False</td>\n",
       "      <td>0</td>\n",
       "      <td>False</td>\n",
       "      <td>63</td>\n",
       "      <td>0.8</td>\n",
       "      <td>102</td>\n",
       "      <td>...</td>\n",
       "      <td>152</td>\n",
       "      <td>714</td>\n",
       "      <td>1732</td>\n",
       "      <td>8</td>\n",
       "      <td>5</td>\n",
       "      <td>13</td>\n",
       "      <td>False</td>\n",
       "      <td>True</td>\n",
       "      <td>True</td>\n",
       "      <td>1</td>\n",
       "    </tr>\n",
       "    <tr>\n",
       "      <th>1</th>\n",
       "      <td>1268</td>\n",
       "      <td>1824</td>\n",
       "      <td>True</td>\n",
       "      <td>0.8</td>\n",
       "      <td>False</td>\n",
       "      <td>4</td>\n",
       "      <td>True</td>\n",
       "      <td>19</td>\n",
       "      <td>0.9</td>\n",
       "      <td>143</td>\n",
       "      <td>...</td>\n",
       "      <td>1055</td>\n",
       "      <td>1738</td>\n",
       "      <td>2381</td>\n",
       "      <td>14</td>\n",
       "      <td>1</td>\n",
       "      <td>5</td>\n",
       "      <td>True</td>\n",
       "      <td>False</td>\n",
       "      <td>False</td>\n",
       "      <td>2</td>\n",
       "    </tr>\n",
       "    <tr>\n",
       "      <th>2</th>\n",
       "      <td>1902</td>\n",
       "      <td>730</td>\n",
       "      <td>False</td>\n",
       "      <td>1.5</td>\n",
       "      <td>False</td>\n",
       "      <td>9</td>\n",
       "      <td>False</td>\n",
       "      <td>9</td>\n",
       "      <td>0.7</td>\n",
       "      <td>122</td>\n",
       "      <td>...</td>\n",
       "      <td>1371</td>\n",
       "      <td>1677</td>\n",
       "      <td>2787</td>\n",
       "      <td>10</td>\n",
       "      <td>8</td>\n",
       "      <td>7</td>\n",
       "      <td>True</td>\n",
       "      <td>False</td>\n",
       "      <td>True</td>\n",
       "      <td>2</td>\n",
       "    </tr>\n",
       "    <tr>\n",
       "      <th>3</th>\n",
       "      <td>88</td>\n",
       "      <td>668</td>\n",
       "      <td>False</td>\n",
       "      <td>0.5</td>\n",
       "      <td>True</td>\n",
       "      <td>0</td>\n",
       "      <td>False</td>\n",
       "      <td>3</td>\n",
       "      <td>0.1</td>\n",
       "      <td>155</td>\n",
       "      <td>...</td>\n",
       "      <td>666</td>\n",
       "      <td>1203</td>\n",
       "      <td>2746</td>\n",
       "      <td>9</td>\n",
       "      <td>5</td>\n",
       "      <td>8</td>\n",
       "      <td>True</td>\n",
       "      <td>True</td>\n",
       "      <td>True</td>\n",
       "      <td>2</td>\n",
       "    </tr>\n",
       "    <tr>\n",
       "      <th>4</th>\n",
       "      <td>41</td>\n",
       "      <td>1646</td>\n",
       "      <td>True</td>\n",
       "      <td>2.3</td>\n",
       "      <td>False</td>\n",
       "      <td>8</td>\n",
       "      <td>True</td>\n",
       "      <td>41</td>\n",
       "      <td>0.2</td>\n",
       "      <td>185</td>\n",
       "      <td>...</td>\n",
       "      <td>1725</td>\n",
       "      <td>1932</td>\n",
       "      <td>3339</td>\n",
       "      <td>18</td>\n",
       "      <td>10</td>\n",
       "      <td>19</td>\n",
       "      <td>True</td>\n",
       "      <td>True</td>\n",
       "      <td>False</td>\n",
       "      <td>3</td>\n",
       "    </tr>\n",
       "  </tbody>\n",
       "</table>\n",
       "<p>5 rows × 22 columns</p>\n",
       "</div>"
      ],
      "text/plain": [
       "     id  battery_power   blue  clock_speed  dual_sim  fc  four_g  int_memory  \\\n",
       "0   923           1027   True          2.2     False   0   False          63   \n",
       "1  1268           1824   True          0.8     False   4    True          19   \n",
       "2  1902            730  False          1.5     False   9   False           9   \n",
       "3    88            668  False          0.5      True   0   False           3   \n",
       "4    41           1646   True          2.3     False   8    True          41   \n",
       "\n",
       "   m_dep  mobile_wt  ...  px_height  px_width   ram  sc_h  sc_w  talk_time  \\\n",
       "0    0.8        102  ...        152       714  1732     8     5         13   \n",
       "1    0.9        143  ...       1055      1738  2381    14     1          5   \n",
       "2    0.7        122  ...       1371      1677  2787    10     8          7   \n",
       "3    0.1        155  ...        666      1203  2746     9     5          8   \n",
       "4    0.2        185  ...       1725      1932  3339    18    10         19   \n",
       "\n",
       "   three_g  touch_screen   wifi  price_range  \n",
       "0    False          True   True            1  \n",
       "1     True         False  False            2  \n",
       "2     True         False   True            2  \n",
       "3     True          True   True            2  \n",
       "4     True          True  False            3  \n",
       "\n",
       "[5 rows x 22 columns]"
      ]
     },
     "execution_count": 5,
     "metadata": {},
     "output_type": "execute_result"
    }
   ],
   "source": [
    "#학습데이터 확인\n",
    "train.head()"
   ]
  },
  {
   "cell_type": "code",
   "execution_count": 6,
   "id": "0ca35c24",
   "metadata": {
    "execution": {
     "iopub.execute_input": "2022-12-13T10:47:27.855430Z",
     "iopub.status.busy": "2022-12-13T10:47:27.854813Z",
     "iopub.status.idle": "2022-12-13T10:47:27.873595Z",
     "shell.execute_reply": "2022-12-13T10:47:27.872543Z"
    },
    "papermill": {
     "duration": 0.026407,
     "end_time": "2022-12-13T10:47:27.875806",
     "exception": false,
     "start_time": "2022-12-13T10:47:27.849399",
     "status": "completed"
    },
    "tags": []
   },
   "outputs": [
    {
     "data": {
      "text/html": [
       "<div>\n",
       "<style scoped>\n",
       "    .dataframe tbody tr th:only-of-type {\n",
       "        vertical-align: middle;\n",
       "    }\n",
       "\n",
       "    .dataframe tbody tr th {\n",
       "        vertical-align: top;\n",
       "    }\n",
       "\n",
       "    .dataframe thead th {\n",
       "        text-align: right;\n",
       "    }\n",
       "</style>\n",
       "<table border=\"1\" class=\"dataframe\">\n",
       "  <thead>\n",
       "    <tr style=\"text-align: right;\">\n",
       "      <th></th>\n",
       "      <th>id</th>\n",
       "      <th>battery_power</th>\n",
       "      <th>blue</th>\n",
       "      <th>clock_speed</th>\n",
       "      <th>dual_sim</th>\n",
       "      <th>fc</th>\n",
       "      <th>four_g</th>\n",
       "      <th>int_memory</th>\n",
       "      <th>m_dep</th>\n",
       "      <th>mobile_wt</th>\n",
       "      <th>...</th>\n",
       "      <th>pc</th>\n",
       "      <th>px_height</th>\n",
       "      <th>px_width</th>\n",
       "      <th>ram</th>\n",
       "      <th>sc_h</th>\n",
       "      <th>sc_w</th>\n",
       "      <th>talk_time</th>\n",
       "      <th>three_g</th>\n",
       "      <th>touch_screen</th>\n",
       "      <th>wifi</th>\n",
       "    </tr>\n",
       "  </thead>\n",
       "  <tbody>\n",
       "    <tr>\n",
       "      <th>0</th>\n",
       "      <td>1860</td>\n",
       "      <td>1646</td>\n",
       "      <td>False</td>\n",
       "      <td>2.5</td>\n",
       "      <td>False</td>\n",
       "      <td>3</td>\n",
       "      <td>True</td>\n",
       "      <td>25</td>\n",
       "      <td>0.6</td>\n",
       "      <td>200</td>\n",
       "      <td>...</td>\n",
       "      <td>5</td>\n",
       "      <td>211</td>\n",
       "      <td>1608</td>\n",
       "      <td>686</td>\n",
       "      <td>8</td>\n",
       "      <td>6</td>\n",
       "      <td>11</td>\n",
       "      <td>True</td>\n",
       "      <td>True</td>\n",
       "      <td>False</td>\n",
       "    </tr>\n",
       "    <tr>\n",
       "      <th>1</th>\n",
       "      <td>353</td>\n",
       "      <td>1182</td>\n",
       "      <td>False</td>\n",
       "      <td>0.5</td>\n",
       "      <td>False</td>\n",
       "      <td>7</td>\n",
       "      <td>True</td>\n",
       "      <td>8</td>\n",
       "      <td>0.5</td>\n",
       "      <td>138</td>\n",
       "      <td>...</td>\n",
       "      <td>16</td>\n",
       "      <td>275</td>\n",
       "      <td>986</td>\n",
       "      <td>2563</td>\n",
       "      <td>19</td>\n",
       "      <td>17</td>\n",
       "      <td>19</td>\n",
       "      <td>True</td>\n",
       "      <td>False</td>\n",
       "      <td>False</td>\n",
       "    </tr>\n",
       "    <tr>\n",
       "      <th>2</th>\n",
       "      <td>1333</td>\n",
       "      <td>1972</td>\n",
       "      <td>False</td>\n",
       "      <td>2.9</td>\n",
       "      <td>False</td>\n",
       "      <td>9</td>\n",
       "      <td>False</td>\n",
       "      <td>14</td>\n",
       "      <td>0.4</td>\n",
       "      <td>196</td>\n",
       "      <td>...</td>\n",
       "      <td>18</td>\n",
       "      <td>293</td>\n",
       "      <td>952</td>\n",
       "      <td>1316</td>\n",
       "      <td>8</td>\n",
       "      <td>1</td>\n",
       "      <td>8</td>\n",
       "      <td>True</td>\n",
       "      <td>True</td>\n",
       "      <td>False</td>\n",
       "    </tr>\n",
       "    <tr>\n",
       "      <th>3</th>\n",
       "      <td>905</td>\n",
       "      <td>989</td>\n",
       "      <td>True</td>\n",
       "      <td>2.0</td>\n",
       "      <td>False</td>\n",
       "      <td>4</td>\n",
       "      <td>False</td>\n",
       "      <td>17</td>\n",
       "      <td>0.2</td>\n",
       "      <td>166</td>\n",
       "      <td>...</td>\n",
       "      <td>19</td>\n",
       "      <td>256</td>\n",
       "      <td>1394</td>\n",
       "      <td>3892</td>\n",
       "      <td>18</td>\n",
       "      <td>7</td>\n",
       "      <td>19</td>\n",
       "      <td>True</td>\n",
       "      <td>True</td>\n",
       "      <td>False</td>\n",
       "    </tr>\n",
       "    <tr>\n",
       "      <th>4</th>\n",
       "      <td>1289</td>\n",
       "      <td>615</td>\n",
       "      <td>True</td>\n",
       "      <td>0.5</td>\n",
       "      <td>True</td>\n",
       "      <td>7</td>\n",
       "      <td>False</td>\n",
       "      <td>58</td>\n",
       "      <td>0.5</td>\n",
       "      <td>130</td>\n",
       "      <td>...</td>\n",
       "      <td>8</td>\n",
       "      <td>1021</td>\n",
       "      <td>1958</td>\n",
       "      <td>1906</td>\n",
       "      <td>14</td>\n",
       "      <td>5</td>\n",
       "      <td>5</td>\n",
       "      <td>True</td>\n",
       "      <td>False</td>\n",
       "      <td>False</td>\n",
       "    </tr>\n",
       "  </tbody>\n",
       "</table>\n",
       "<p>5 rows × 21 columns</p>\n",
       "</div>"
      ],
      "text/plain": [
       "     id  battery_power   blue  clock_speed  dual_sim  fc  four_g  int_memory  \\\n",
       "0  1860           1646  False          2.5     False   3    True          25   \n",
       "1   353           1182  False          0.5     False   7    True           8   \n",
       "2  1333           1972  False          2.9     False   9   False          14   \n",
       "3   905            989   True          2.0     False   4   False          17   \n",
       "4  1289            615   True          0.5      True   7   False          58   \n",
       "\n",
       "   m_dep  mobile_wt  ...  pc  px_height  px_width   ram  sc_h  sc_w  \\\n",
       "0    0.6        200  ...   5        211      1608   686     8     6   \n",
       "1    0.5        138  ...  16        275       986  2563    19    17   \n",
       "2    0.4        196  ...  18        293       952  1316     8     1   \n",
       "3    0.2        166  ...  19        256      1394  3892    18     7   \n",
       "4    0.5        130  ...   8       1021      1958  1906    14     5   \n",
       "\n",
       "   talk_time  three_g  touch_screen   wifi  \n",
       "0         11     True          True  False  \n",
       "1         19     True         False  False  \n",
       "2          8     True          True  False  \n",
       "3         19     True          True  False  \n",
       "4          5     True         False  False  \n",
       "\n",
       "[5 rows x 21 columns]"
      ]
     },
     "execution_count": 6,
     "metadata": {},
     "output_type": "execute_result"
    }
   ],
   "source": [
    "#테스트데이터 확인\n",
    "test.head()"
   ]
  },
  {
   "cell_type": "code",
   "execution_count": 7,
   "id": "1a0ff6ff",
   "metadata": {
    "execution": {
     "iopub.execute_input": "2022-12-13T10:47:27.887244Z",
     "iopub.status.busy": "2022-12-13T10:47:27.886478Z",
     "iopub.status.idle": "2022-12-13T10:47:27.911594Z",
     "shell.execute_reply": "2022-12-13T10:47:27.910518Z"
    },
    "papermill": {
     "duration": 0.0336,
     "end_time": "2022-12-13T10:47:27.914349",
     "exception": false,
     "start_time": "2022-12-13T10:47:27.880749",
     "status": "completed"
    },
    "tags": []
   },
   "outputs": [
    {
     "name": "stdout",
     "output_type": "stream",
     "text": [
      "<class 'pandas.core.frame.DataFrame'>\n",
      "RangeIndex: 1100 entries, 0 to 1099\n",
      "Data columns (total 22 columns):\n",
      " #   Column         Non-Null Count  Dtype  \n",
      "---  ------         --------------  -----  \n",
      " 0   id             1100 non-null   int64  \n",
      " 1   battery_power  1100 non-null   int64  \n",
      " 2   blue           1100 non-null   bool   \n",
      " 3   clock_speed    1100 non-null   float64\n",
      " 4   dual_sim       1100 non-null   bool   \n",
      " 5   fc             1100 non-null   int64  \n",
      " 6   four_g         1100 non-null   bool   \n",
      " 7   int_memory     1100 non-null   int64  \n",
      " 8   m_dep          1100 non-null   float64\n",
      " 9   mobile_wt      1100 non-null   int64  \n",
      " 10  n_cores        1100 non-null   int64  \n",
      " 11  pc             1100 non-null   int64  \n",
      " 12  px_height      1100 non-null   int64  \n",
      " 13  px_width       1100 non-null   int64  \n",
      " 14  ram            1100 non-null   int64  \n",
      " 15  sc_h           1100 non-null   int64  \n",
      " 16  sc_w           1100 non-null   int64  \n",
      " 17  talk_time      1100 non-null   int64  \n",
      " 18  three_g        1100 non-null   bool   \n",
      " 19  touch_screen   1100 non-null   bool   \n",
      " 20  wifi           1100 non-null   bool   \n",
      " 21  price_range    1100 non-null   int64  \n",
      "dtypes: bool(6), float64(2), int64(14)\n",
      "memory usage: 144.1 KB\n",
      "<class 'pandas.core.frame.DataFrame'>\n",
      "RangeIndex: 900 entries, 0 to 899\n",
      "Data columns (total 21 columns):\n",
      " #   Column         Non-Null Count  Dtype  \n",
      "---  ------         --------------  -----  \n",
      " 0   id             900 non-null    int64  \n",
      " 1   battery_power  900 non-null    int64  \n",
      " 2   blue           900 non-null    bool   \n",
      " 3   clock_speed    900 non-null    float64\n",
      " 4   dual_sim       900 non-null    bool   \n",
      " 5   fc             900 non-null    int64  \n",
      " 6   four_g         900 non-null    bool   \n",
      " 7   int_memory     900 non-null    int64  \n",
      " 8   m_dep          900 non-null    float64\n",
      " 9   mobile_wt      900 non-null    int64  \n",
      " 10  n_cores        900 non-null    int64  \n",
      " 11  pc             900 non-null    int64  \n",
      " 12  px_height      900 non-null    int64  \n",
      " 13  px_width       900 non-null    int64  \n",
      " 14  ram            900 non-null    int64  \n",
      " 15  sc_h           900 non-null    int64  \n",
      " 16  sc_w           900 non-null    int64  \n",
      " 17  talk_time      900 non-null    int64  \n",
      " 18  three_g        900 non-null    bool   \n",
      " 19  touch_screen   900 non-null    bool   \n",
      " 20  wifi           900 non-null    bool   \n",
      "dtypes: bool(6), float64(2), int64(13)\n",
      "memory usage: 110.9 KB\n"
     ]
    }
   ],
   "source": [
    "#데이터 정보 확인\n",
    "train.info()\n",
    "test.info()"
   ]
  },
  {
   "cell_type": "code",
   "execution_count": 8,
   "id": "ab070af8",
   "metadata": {
    "execution": {
     "iopub.execute_input": "2022-12-13T10:47:27.927054Z",
     "iopub.status.busy": "2022-12-13T10:47:27.926273Z",
     "iopub.status.idle": "2022-12-13T10:47:27.932208Z",
     "shell.execute_reply": "2022-12-13T10:47:27.931295Z"
    },
    "papermill": {
     "duration": 0.013905,
     "end_time": "2022-12-13T10:47:27.934248",
     "exception": false,
     "start_time": "2022-12-13T10:47:27.920343",
     "status": "completed"
    },
    "tags": []
   },
   "outputs": [],
   "source": [
    "#데이터 전처리\n",
    "xtrain = train.drop(['price_range'],axis=1)\n",
    "ytrain = train['price_range']\n",
    "xtest = test"
   ]
  },
  {
   "cell_type": "code",
   "execution_count": 9,
   "id": "aada2789",
   "metadata": {
    "execution": {
     "iopub.execute_input": "2022-12-13T10:47:27.946146Z",
     "iopub.status.busy": "2022-12-13T10:47:27.945221Z",
     "iopub.status.idle": "2022-12-13T10:47:28.608531Z",
     "shell.execute_reply": "2022-12-13T10:47:28.607553Z"
    },
    "papermill": {
     "duration": 0.671692,
     "end_time": "2022-12-13T10:47:28.610881",
     "exception": false,
     "start_time": "2022-12-13T10:47:27.939189",
     "status": "completed"
    },
    "tags": []
   },
   "outputs": [],
   "source": [
    "#bool형식의 데이터 정수형으로 변환\n",
    "from sklearn import preprocessing\n",
    "\n",
    "label = ['blue','dual_sim','four_g','three_g','touch_screen','wifi']\n",
    "\n",
    "for i in label:\n",
    "    le = preprocessing.LabelEncoder()\n",
    "    xtrain[i] = le.fit_transform(xtrain[i])\n",
    "    xtest[i] = le.fit_transform(xtest[i])"
   ]
  },
  {
   "cell_type": "code",
   "execution_count": 10,
   "id": "0a298bd9",
   "metadata": {
    "execution": {
     "iopub.execute_input": "2022-12-13T10:47:28.624206Z",
     "iopub.status.busy": "2022-12-13T10:47:28.622643Z",
     "iopub.status.idle": "2022-12-13T10:47:28.634953Z",
     "shell.execute_reply": "2022-12-13T10:47:28.634142Z"
    },
    "papermill": {
     "duration": 0.020643,
     "end_time": "2022-12-13T10:47:28.637024",
     "exception": false,
     "start_time": "2022-12-13T10:47:28.616381",
     "status": "completed"
    },
    "tags": []
   },
   "outputs": [],
   "source": [
    "#standardscaler를 이용한 데이터 전처리\n",
    "from sklearn.preprocessing import StandardScaler\n",
    "\n",
    "sc = StandardScaler()\n",
    "\n",
    "xtrain_std = sc.fit_transform(xtrain)\n",
    "xtest_std = sc.transform(xtest)"
   ]
  },
  {
   "cell_type": "code",
   "execution_count": 11,
   "id": "e461ea40",
   "metadata": {
    "execution": {
     "iopub.execute_input": "2022-12-13T10:47:28.648368Z",
     "iopub.status.busy": "2022-12-13T10:47:28.648067Z",
     "iopub.status.idle": "2022-12-13T10:47:31.336532Z",
     "shell.execute_reply": "2022-12-13T10:47:31.335563Z"
    },
    "papermill": {
     "duration": 2.69696,
     "end_time": "2022-12-13T10:47:31.338962",
     "exception": false,
     "start_time": "2022-12-13T10:47:28.642002",
     "status": "completed"
    },
    "tags": []
   },
   "outputs": [],
   "source": [
    "#텐서로 변환\n",
    "X_train = torch.FloatTensor(np.array(xtrain_std)).to(device)\n",
    "y_train = torch.LongTensor(np.array(ytrain)).to(device)\n",
    "X_test = torch.FloatTensor(np.array(xtest_std)).to(device)"
   ]
  },
  {
   "cell_type": "code",
   "execution_count": 12,
   "id": "3ec00a93",
   "metadata": {
    "execution": {
     "iopub.execute_input": "2022-12-13T10:47:31.352093Z",
     "iopub.status.busy": "2022-12-13T10:47:31.351781Z",
     "iopub.status.idle": "2022-12-13T10:47:31.357973Z",
     "shell.execute_reply": "2022-12-13T10:47:31.357088Z"
    },
    "papermill": {
     "duration": 0.014699,
     "end_time": "2022-12-13T10:47:31.360080",
     "exception": false,
     "start_time": "2022-12-13T10:47:31.345381",
     "status": "completed"
    },
    "tags": []
   },
   "outputs": [
    {
     "data": {
      "text/plain": [
       "torch.Size([1100, 21])"
      ]
     },
     "execution_count": 12,
     "metadata": {},
     "output_type": "execute_result"
    }
   ],
   "source": [
    "X_train.shape"
   ]
  },
  {
   "cell_type": "code",
   "execution_count": 13,
   "id": "7d6cffdf",
   "metadata": {
    "execution": {
     "iopub.execute_input": "2022-12-13T10:47:31.371074Z",
     "iopub.status.busy": "2022-12-13T10:47:31.370809Z",
     "iopub.status.idle": "2022-12-13T10:47:31.375446Z",
     "shell.execute_reply": "2022-12-13T10:47:31.374524Z"
    },
    "papermill": {
     "duration": 0.012363,
     "end_time": "2022-12-13T10:47:31.377429",
     "exception": false,
     "start_time": "2022-12-13T10:47:31.365066",
     "status": "completed"
    },
    "tags": []
   },
   "outputs": [],
   "source": [
    "#데이터셋 선언과 데이터 로더 선언\n",
    "from torch.utils.data import DataLoader, TensorDataset\n",
    "\n",
    "dataset = TensorDataset(X_train, y_train)\n",
    "dataloader = DataLoader(dataset, batch_size=64, shuffle=True)"
   ]
  },
  {
   "cell_type": "code",
   "execution_count": 14,
   "id": "50a4f83a",
   "metadata": {
    "execution": {
     "iopub.execute_input": "2022-12-13T10:47:31.388470Z",
     "iopub.status.busy": "2022-12-13T10:47:31.388219Z",
     "iopub.status.idle": "2022-12-13T10:47:31.396938Z",
     "shell.execute_reply": "2022-12-13T10:47:31.396092Z"
    },
    "papermill": {
     "duration": 0.016606,
     "end_time": "2022-12-13T10:47:31.398969",
     "exception": false,
     "start_time": "2022-12-13T10:47:31.382363",
     "status": "completed"
    },
    "tags": []
   },
   "outputs": [],
   "source": [
    "#모델 정의\n",
    "import torch.nn as nn\n",
    "\n",
    "class Model(nn.Module):\n",
    "    def __init__(self):\n",
    "        super().__init__()\n",
    "        self.linear1 = nn.Linear(21, 64, bias=True)\n",
    "        self.linear2 = nn.Linear(64, 64, bias=True)\n",
    "        self.linear3 = nn.Linear(64, 64, bias=True)\n",
    "        self.linear4 = nn.Linear(64, 4, bias=True)\n",
    "        \n",
    "        self.relu = nn.ReLU()\n",
    "        self.dropout = nn.Dropout(0.3)\n",
    "        \n",
    "        nn.init.xavier_uniform_(self.linear1.weight)\n",
    "        nn.init.xavier_uniform_(self.linear2.weight)\n",
    "        nn.init.xavier_uniform_(self.linear3.weight)\n",
    "        nn.init.xavier_uniform_(self.linear4.weight)\n",
    "        \n",
    "    def forward(self, x):\n",
    "        x = self.linear1(x)\n",
    "        x = self.relu(x)\n",
    "        x = self.dropout(x)\n",
    "        x = self.linear2(x)\n",
    "        x = self.relu(x)\n",
    "        x = self.dropout(x)\n",
    "        x = self.linear3(x)\n",
    "        x = self.relu(x)\n",
    "        x = self.dropout(x)\n",
    "        x = self.linear4(x)\n",
    "        \n",
    "        return x"
   ]
  },
  {
   "cell_type": "code",
   "execution_count": 15,
   "id": "8103bf95",
   "metadata": {
    "execution": {
     "iopub.execute_input": "2022-12-13T10:47:31.409957Z",
     "iopub.status.busy": "2022-12-13T10:47:31.409705Z",
     "iopub.status.idle": "2022-12-13T10:47:31.416929Z",
     "shell.execute_reply": "2022-12-13T10:47:31.416140Z"
    },
    "papermill": {
     "duration": 0.014827,
     "end_time": "2022-12-13T10:47:31.418848",
     "exception": false,
     "start_time": "2022-12-13T10:47:31.404021",
     "status": "completed"
    },
    "tags": []
   },
   "outputs": [],
   "source": [
    "#모델 선언\n",
    "model = Model().to(device)"
   ]
  },
  {
   "cell_type": "code",
   "execution_count": 16,
   "id": "84aeb4ab",
   "metadata": {
    "execution": {
     "iopub.execute_input": "2022-12-13T10:47:31.430247Z",
     "iopub.status.busy": "2022-12-13T10:47:31.429463Z",
     "iopub.status.idle": "2022-12-13T10:47:31.434492Z",
     "shell.execute_reply": "2022-12-13T10:47:31.433599Z"
    },
    "papermill": {
     "duration": 0.012768,
     "end_time": "2022-12-13T10:47:31.436526",
     "exception": false,
     "start_time": "2022-12-13T10:47:31.423758",
     "status": "completed"
    },
    "tags": []
   },
   "outputs": [],
   "source": [
    "#optimizer 정의\n",
    "optimizer = torch.optim.Adam(model.parameters(), lr=1e-3)\n",
    "#Loss 정의 (다중분류문제이므로 CrossEntropyLoss)\n",
    "loss = nn.CrossEntropyLoss()"
   ]
  },
  {
   "cell_type": "code",
   "execution_count": 17,
   "id": "3d29dd20",
   "metadata": {
    "execution": {
     "iopub.execute_input": "2022-12-13T10:47:31.448504Z",
     "iopub.status.busy": "2022-12-13T10:47:31.447126Z",
     "iopub.status.idle": "2022-12-13T10:47:35.916189Z",
     "shell.execute_reply": "2022-12-13T10:47:35.914863Z"
    },
    "papermill": {
     "duration": 4.477057,
     "end_time": "2022-12-13T10:47:35.918495",
     "exception": false,
     "start_time": "2022-12-13T10:47:31.441438",
     "status": "completed"
    },
    "tags": []
   },
   "outputs": [
    {
     "name": "stdout",
     "output_type": "stream",
     "text": [
      "epoch : 0, cost : 1.4214350912306044\n",
      "epoch : 10, cost : 0.6649588313367631\n",
      "epoch : 20, cost : 0.43501832915676963\n",
      "epoch : 30, cost : 0.32627373933792114\n",
      "epoch : 40, cost : 0.26957664142052334\n",
      "epoch : 50, cost : 0.22381996115048727\n",
      "epoch : 60, cost : 0.2118439194228914\n",
      "epoch : 70, cost : 0.16485934828718504\n",
      "epoch : 80, cost : 0.1472622269971503\n",
      "epoch : 90, cost : 0.1360055154396428\n",
      "epoch : 100, cost : 0.12558046045402685\n"
     ]
    }
   ],
   "source": [
    "#모델 학습\n",
    "epochs = 100\n",
    "model.train()\n",
    "for epoch in range(epochs + 1):\n",
    "    costs = []\n",
    "    for x, y in dataloader:\n",
    "        x = x.to(device)\n",
    "        y = y.to(device)\n",
    "        \n",
    "        optimizer.zero_grad()\n",
    "        hypothesis = model(x)\n",
    "        cost = loss(hypothesis, y)\n",
    "        costs.append(cost.item())\n",
    "        cost.backward()\n",
    "        optimizer.step()\n",
    "    \n",
    "    if epoch % 10 == 0:\n",
    "        average = np.mean(costs)\n",
    "        print(f\"epoch : {epoch}, cost : {average}\")"
   ]
  },
  {
   "cell_type": "code",
   "execution_count": 18,
   "id": "69189538",
   "metadata": {
    "execution": {
     "iopub.execute_input": "2022-12-13T10:47:35.931762Z",
     "iopub.status.busy": "2022-12-13T10:47:35.931468Z",
     "iopub.status.idle": "2022-12-13T10:47:35.940504Z",
     "shell.execute_reply": "2022-12-13T10:47:35.939670Z"
    },
    "papermill": {
     "duration": 0.01752,
     "end_time": "2022-12-13T10:47:35.942445",
     "exception": false,
     "start_time": "2022-12-13T10:47:35.924925",
     "status": "completed"
    },
    "tags": []
   },
   "outputs": [],
   "source": [
    "#테스트 데이터를 이용한 모델 테스트\n",
    "model.eval()\n",
    "with torch.no_grad():\n",
    "    hypothesis = model(X_test)\n",
    "    predict = torch.argmax(hypothesis, dim=1)"
   ]
  },
  {
   "cell_type": "code",
   "execution_count": 19,
   "id": "a3ca0e47",
   "metadata": {
    "execution": {
     "iopub.execute_input": "2022-12-13T10:47:35.954785Z",
     "iopub.status.busy": "2022-12-13T10:47:35.954501Z",
     "iopub.status.idle": "2022-12-13T10:47:35.963655Z",
     "shell.execute_reply": "2022-12-13T10:47:35.962771Z"
    },
    "papermill": {
     "duration": 0.017658,
     "end_time": "2022-12-13T10:47:35.965598",
     "exception": false,
     "start_time": "2022-12-13T10:47:35.947940",
     "status": "completed"
    },
    "tags": []
   },
   "outputs": [],
   "source": [
    "#결과값을 csv파일로 변환\n",
    "sample['price_range'] = predict.cpu().detach().numpy()\n",
    "sample.to_csv('submit.csv',index=False)"
   ]
  },
  {
   "cell_type": "code",
   "execution_count": null,
   "id": "f94dd748",
   "metadata": {
    "papermill": {
     "duration": 0.005466,
     "end_time": "2022-12-13T10:47:35.976719",
     "exception": false,
     "start_time": "2022-12-13T10:47:35.971253",
     "status": "completed"
    },
    "tags": []
   },
   "outputs": [],
   "source": []
  }
 ],
 "metadata": {
  "kernelspec": {
   "display_name": "Python 3",
   "language": "python",
   "name": "python3"
  },
  "language_info": {
   "codemirror_mode": {
    "name": "ipython",
    "version": 3
   },
   "file_extension": ".py",
   "mimetype": "text/x-python",
   "name": "python",
   "nbconvert_exporter": "python",
   "pygments_lexer": "ipython3",
   "version": "3.7.12"
  },
  "papermill": {
   "default_parameters": {},
   "duration": 18.372999,
   "end_time": "2022-12-13T10:47:37.003231",
   "environment_variables": {},
   "exception": null,
   "input_path": "__notebook__.ipynb",
   "output_path": "__notebook__.ipynb",
   "parameters": {},
   "start_time": "2022-12-13T10:47:18.630232",
   "version": "2.3.4"
  }
 },
 "nbformat": 4,
 "nbformat_minor": 5
}
