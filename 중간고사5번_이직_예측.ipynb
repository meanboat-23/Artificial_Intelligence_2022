{
 "cells": [
  {
   "cell_type": "code",
   "execution_count": 1,
   "id": "a498212f",
   "metadata": {
    "_cell_guid": "b1076dfc-b9ad-4769-8c92-a6c4dae69d19",
    "_uuid": "8f2839f25d086af736a60e9eeb907d3b93b6e0e5",
    "execution": {
     "iopub.execute_input": "2022-10-18T12:54:37.433478Z",
     "iopub.status.busy": "2022-10-18T12:54:37.432718Z",
     "iopub.status.idle": "2022-10-18T12:54:37.446975Z",
     "shell.execute_reply": "2022-10-18T12:54:37.445597Z"
    },
    "papermill": {
     "duration": 0.02354,
     "end_time": "2022-10-18T12:54:37.449132",
     "exception": false,
     "start_time": "2022-10-18T12:54:37.425592",
     "status": "completed"
    },
    "tags": []
   },
   "outputs": [
    {
     "name": "stdout",
     "output_type": "stream",
     "text": [
      "/kaggle/input/2022-ai-midterm-p5/train.csv\n",
      "/kaggle/input/2022-ai-midterm-p5/test.csv\n",
      "/kaggle/input/2022-ai-midterm-p5/submit_sample.csv\n"
     ]
    }
   ],
   "source": [
    "# This Python 3 environment comes with many helpful analytics libraries installed\n",
    "# It is defined by the kaggle/python Docker image: https://github.com/kaggle/docker-python\n",
    "# For example, here's several helpful packages to load\n",
    "\n",
    "import numpy as np # linear algebra\n",
    "import pandas as pd # data processing, CSV file I/O (e.g. pd.read_csv)\n",
    "\n",
    "# Input data files are available in the read-only \"../input/\" directory\n",
    "# For example, running this (by clicking run or pressing Shift+Enter) will list all files under the input directory\n",
    "\n",
    "import os\n",
    "for dirname, _, filenames in os.walk('/kaggle/input'):\n",
    "    for filename in filenames:\n",
    "        print(os.path.join(dirname, filename))\n",
    "\n",
    "# You can write up to 20GB to the current directory (/kaggle/working/) that gets preserved as output when you create a version using \"Save & Run All\" \n",
    "# You can also write temporary files to /kaggle/temp/, but they won't be saved outside of the current session"
   ]
  },
  {
   "cell_type": "code",
   "execution_count": 2,
   "id": "7cedcc94",
   "metadata": {
    "execution": {
     "iopub.execute_input": "2022-10-18T12:54:37.460268Z",
     "iopub.status.busy": "2022-10-18T12:54:37.459507Z",
     "iopub.status.idle": "2022-10-18T12:54:39.166693Z",
     "shell.execute_reply": "2022-10-18T12:54:39.165718Z"
    },
    "papermill": {
     "duration": 1.715257,
     "end_time": "2022-10-18T12:54:39.169184",
     "exception": false,
     "start_time": "2022-10-18T12:54:37.453927",
     "status": "completed"
    },
    "tags": []
   },
   "outputs": [],
   "source": [
    "#랜덤시드 고정\n",
    "import random\n",
    "import torch\n",
    "\n",
    "seed = 1\n",
    "random.seed(seed)\n",
    "np.random.seed(seed)\n",
    "torch.manual_seed(seed)\n",
    "if torch.cuda.is_available():\n",
    "    torch.cuda.manual_seed(seed)\n",
    "    torch.cuda.manual_seed_all(seed)\n",
    "torch.backends.cudnn.benchmark = False\n",
    "torch.backends.cudnn.deterministic = True"
   ]
  },
  {
   "cell_type": "code",
   "execution_count": 3,
   "id": "ee0ffaf4",
   "metadata": {
    "execution": {
     "iopub.execute_input": "2022-10-18T12:54:39.180132Z",
     "iopub.status.busy": "2022-10-18T12:54:39.179710Z",
     "iopub.status.idle": "2022-10-18T12:54:39.267386Z",
     "shell.execute_reply": "2022-10-18T12:54:39.266483Z"
    },
    "papermill": {
     "duration": 0.095598,
     "end_time": "2022-10-18T12:54:39.269553",
     "exception": false,
     "start_time": "2022-10-18T12:54:39.173955",
     "status": "completed"
    },
    "tags": []
   },
   "outputs": [],
   "source": [
    "#데이터 로드\n",
    "sample = pd.read_csv('/kaggle/input/2022-ai-midterm-p5/submit_sample.csv')\n",
    "train = pd.read_csv('/kaggle/input/2022-ai-midterm-p5/train.csv')\n",
    "test = pd.read_csv('/kaggle/input/2022-ai-midterm-p5/test.csv')"
   ]
  },
  {
   "cell_type": "code",
   "execution_count": 4,
   "id": "44a66901",
   "metadata": {
    "execution": {
     "iopub.execute_input": "2022-10-18T12:54:39.280004Z",
     "iopub.status.busy": "2022-10-18T12:54:39.279724Z",
     "iopub.status.idle": "2022-10-18T12:54:39.285218Z",
     "shell.execute_reply": "2022-10-18T12:54:39.284329Z"
    },
    "papermill": {
     "duration": 0.013025,
     "end_time": "2022-10-18T12:54:39.287158",
     "exception": false,
     "start_time": "2022-10-18T12:54:39.274133",
     "status": "completed"
    },
    "tags": []
   },
   "outputs": [],
   "source": [
    "#gpu 사용가능하면 사용하는 설정\n",
    "device = 'cuda' if torch.cuda.is_available() else 'cpu'"
   ]
  },
  {
   "cell_type": "code",
   "execution_count": 5,
   "id": "8c7d6875",
   "metadata": {
    "execution": {
     "iopub.execute_input": "2022-10-18T12:54:39.297107Z",
     "iopub.status.busy": "2022-10-18T12:54:39.296841Z",
     "iopub.status.idle": "2022-10-18T12:54:39.337745Z",
     "shell.execute_reply": "2022-10-18T12:54:39.334109Z"
    },
    "papermill": {
     "duration": 0.049433,
     "end_time": "2022-10-18T12:54:39.340901",
     "exception": false,
     "start_time": "2022-10-18T12:54:39.291468",
     "status": "completed"
    },
    "tags": []
   },
   "outputs": [
    {
     "name": "stdout",
     "output_type": "stream",
     "text": [
      "<class 'pandas.core.frame.DataFrame'>\n",
      "RangeIndex: 15326 entries, 0 to 15325\n",
      "Data columns (total 15 columns):\n",
      " #   Column                  Non-Null Count  Dtype  \n",
      "---  ------                  --------------  -----  \n",
      " 0   index                   15326 non-null  int64  \n",
      " 1   enrollee_id             15326 non-null  int64  \n",
      " 2   city                    15326 non-null  object \n",
      " 3   city_development_index  15326 non-null  float64\n",
      " 4   gender                  11752 non-null  object \n",
      " 5   relevent_experience     15326 non-null  object \n",
      " 6   enrolled_university     15009 non-null  object \n",
      " 7   education_level         14964 non-null  object \n",
      " 8   major_discipline        13068 non-null  object \n",
      " 9   experience              15276 non-null  object \n",
      " 10  company_size            10612 non-null  object \n",
      " 11  company_type            10445 non-null  object \n",
      " 12  last_new_job            14983 non-null  object \n",
      " 13  training_hours          15326 non-null  int64  \n",
      " 14  target                  15326 non-null  float64\n",
      "dtypes: float64(2), int64(3), object(10)\n",
      "memory usage: 1.8+ MB\n",
      "<class 'pandas.core.frame.DataFrame'>\n",
      "RangeIndex: 3832 entries, 0 to 3831\n",
      "Data columns (total 14 columns):\n",
      " #   Column                  Non-Null Count  Dtype  \n",
      "---  ------                  --------------  -----  \n",
      " 0   index                   3832 non-null   int64  \n",
      " 1   enrollee_id             3832 non-null   int64  \n",
      " 2   city                    3832 non-null   object \n",
      " 3   city_development_index  3832 non-null   float64\n",
      " 4   gender                  2898 non-null   object \n",
      " 5   relevent_experience     3832 non-null   object \n",
      " 6   enrolled_university     3763 non-null   object \n",
      " 7   education_level         3734 non-null   object \n",
      " 8   major_discipline        3277 non-null   object \n",
      " 9   experience              3817 non-null   object \n",
      " 10  company_size            2608 non-null   object \n",
      " 11  company_type            2573 non-null   object \n",
      " 12  last_new_job            3752 non-null   object \n",
      " 13  training_hours          3832 non-null   int64  \n",
      "dtypes: float64(1), int64(3), object(10)\n",
      "memory usage: 419.2+ KB\n"
     ]
    }
   ],
   "source": [
    "#데이터 확인\n",
    "train.info()\n",
    "test.info()"
   ]
  },
  {
   "cell_type": "code",
   "execution_count": 6,
   "id": "e6445fd4",
   "metadata": {
    "execution": {
     "iopub.execute_input": "2022-10-18T12:54:39.351341Z",
     "iopub.status.busy": "2022-10-18T12:54:39.351068Z",
     "iopub.status.idle": "2022-10-18T12:54:39.379627Z",
     "shell.execute_reply": "2022-10-18T12:54:39.378603Z"
    },
    "papermill": {
     "duration": 0.036869,
     "end_time": "2022-10-18T12:54:39.382313",
     "exception": false,
     "start_time": "2022-10-18T12:54:39.345444",
     "status": "completed"
    },
    "tags": []
   },
   "outputs": [
    {
     "data": {
      "text/html": [
       "<div>\n",
       "<style scoped>\n",
       "    .dataframe tbody tr th:only-of-type {\n",
       "        vertical-align: middle;\n",
       "    }\n",
       "\n",
       "    .dataframe tbody tr th {\n",
       "        vertical-align: top;\n",
       "    }\n",
       "\n",
       "    .dataframe thead th {\n",
       "        text-align: right;\n",
       "    }\n",
       "</style>\n",
       "<table border=\"1\" class=\"dataframe\">\n",
       "  <thead>\n",
       "    <tr style=\"text-align: right;\">\n",
       "      <th></th>\n",
       "      <th>index</th>\n",
       "      <th>enrollee_id</th>\n",
       "      <th>city</th>\n",
       "      <th>city_development_index</th>\n",
       "      <th>gender</th>\n",
       "      <th>relevent_experience</th>\n",
       "      <th>enrolled_university</th>\n",
       "      <th>education_level</th>\n",
       "      <th>major_discipline</th>\n",
       "      <th>experience</th>\n",
       "      <th>company_size</th>\n",
       "      <th>company_type</th>\n",
       "      <th>last_new_job</th>\n",
       "      <th>training_hours</th>\n",
       "      <th>target</th>\n",
       "    </tr>\n",
       "  </thead>\n",
       "  <tbody>\n",
       "    <tr>\n",
       "      <th>0</th>\n",
       "      <td>0</td>\n",
       "      <td>8949</td>\n",
       "      <td>city_103</td>\n",
       "      <td>0.920</td>\n",
       "      <td>Male</td>\n",
       "      <td>Has relevent experience</td>\n",
       "      <td>no_enrollment</td>\n",
       "      <td>Graduate</td>\n",
       "      <td>STEM</td>\n",
       "      <td>&gt;20</td>\n",
       "      <td>NaN</td>\n",
       "      <td>NaN</td>\n",
       "      <td>1</td>\n",
       "      <td>36</td>\n",
       "      <td>1.0</td>\n",
       "    </tr>\n",
       "    <tr>\n",
       "      <th>1</th>\n",
       "      <td>1</td>\n",
       "      <td>29725</td>\n",
       "      <td>city_40</td>\n",
       "      <td>0.776</td>\n",
       "      <td>Male</td>\n",
       "      <td>No relevent experience</td>\n",
       "      <td>no_enrollment</td>\n",
       "      <td>Graduate</td>\n",
       "      <td>STEM</td>\n",
       "      <td>15</td>\n",
       "      <td>50-99</td>\n",
       "      <td>Pvt Ltd</td>\n",
       "      <td>&gt;4</td>\n",
       "      <td>47</td>\n",
       "      <td>0.0</td>\n",
       "    </tr>\n",
       "    <tr>\n",
       "      <th>2</th>\n",
       "      <td>3</td>\n",
       "      <td>33241</td>\n",
       "      <td>city_115</td>\n",
       "      <td>0.789</td>\n",
       "      <td>NaN</td>\n",
       "      <td>No relevent experience</td>\n",
       "      <td>NaN</td>\n",
       "      <td>Graduate</td>\n",
       "      <td>Business Degree</td>\n",
       "      <td>&lt;1</td>\n",
       "      <td>NaN</td>\n",
       "      <td>Pvt Ltd</td>\n",
       "      <td>never</td>\n",
       "      <td>52</td>\n",
       "      <td>1.0</td>\n",
       "    </tr>\n",
       "    <tr>\n",
       "      <th>3</th>\n",
       "      <td>4</td>\n",
       "      <td>666</td>\n",
       "      <td>city_162</td>\n",
       "      <td>0.767</td>\n",
       "      <td>Male</td>\n",
       "      <td>Has relevent experience</td>\n",
       "      <td>no_enrollment</td>\n",
       "      <td>Masters</td>\n",
       "      <td>STEM</td>\n",
       "      <td>&gt;20</td>\n",
       "      <td>50-99</td>\n",
       "      <td>Funded Startup</td>\n",
       "      <td>4</td>\n",
       "      <td>8</td>\n",
       "      <td>0.0</td>\n",
       "    </tr>\n",
       "    <tr>\n",
       "      <th>4</th>\n",
       "      <td>5</td>\n",
       "      <td>21651</td>\n",
       "      <td>city_176</td>\n",
       "      <td>0.764</td>\n",
       "      <td>NaN</td>\n",
       "      <td>Has relevent experience</td>\n",
       "      <td>Part time course</td>\n",
       "      <td>Graduate</td>\n",
       "      <td>STEM</td>\n",
       "      <td>11</td>\n",
       "      <td>NaN</td>\n",
       "      <td>NaN</td>\n",
       "      <td>1</td>\n",
       "      <td>24</td>\n",
       "      <td>1.0</td>\n",
       "    </tr>\n",
       "    <tr>\n",
       "      <th>...</th>\n",
       "      <td>...</td>\n",
       "      <td>...</td>\n",
       "      <td>...</td>\n",
       "      <td>...</td>\n",
       "      <td>...</td>\n",
       "      <td>...</td>\n",
       "      <td>...</td>\n",
       "      <td>...</td>\n",
       "      <td>...</td>\n",
       "      <td>...</td>\n",
       "      <td>...</td>\n",
       "      <td>...</td>\n",
       "      <td>...</td>\n",
       "      <td>...</td>\n",
       "      <td>...</td>\n",
       "    </tr>\n",
       "    <tr>\n",
       "      <th>15321</th>\n",
       "      <td>19152</td>\n",
       "      <td>29754</td>\n",
       "      <td>city_103</td>\n",
       "      <td>0.920</td>\n",
       "      <td>Female</td>\n",
       "      <td>Has relevent experience</td>\n",
       "      <td>no_enrollment</td>\n",
       "      <td>Graduate</td>\n",
       "      <td>Humanities</td>\n",
       "      <td>7</td>\n",
       "      <td>10/49</td>\n",
       "      <td>Funded Startup</td>\n",
       "      <td>1</td>\n",
       "      <td>25</td>\n",
       "      <td>0.0</td>\n",
       "    </tr>\n",
       "    <tr>\n",
       "      <th>15322</th>\n",
       "      <td>19153</td>\n",
       "      <td>7386</td>\n",
       "      <td>city_173</td>\n",
       "      <td>0.878</td>\n",
       "      <td>Male</td>\n",
       "      <td>No relevent experience</td>\n",
       "      <td>no_enrollment</td>\n",
       "      <td>Graduate</td>\n",
       "      <td>Humanities</td>\n",
       "      <td>14</td>\n",
       "      <td>NaN</td>\n",
       "      <td>NaN</td>\n",
       "      <td>1</td>\n",
       "      <td>42</td>\n",
       "      <td>1.0</td>\n",
       "    </tr>\n",
       "    <tr>\n",
       "      <th>15323</th>\n",
       "      <td>19154</td>\n",
       "      <td>31398</td>\n",
       "      <td>city_103</td>\n",
       "      <td>0.920</td>\n",
       "      <td>Male</td>\n",
       "      <td>Has relevent experience</td>\n",
       "      <td>no_enrollment</td>\n",
       "      <td>Graduate</td>\n",
       "      <td>STEM</td>\n",
       "      <td>14</td>\n",
       "      <td>NaN</td>\n",
       "      <td>NaN</td>\n",
       "      <td>4</td>\n",
       "      <td>52</td>\n",
       "      <td>1.0</td>\n",
       "    </tr>\n",
       "    <tr>\n",
       "      <th>15324</th>\n",
       "      <td>19156</td>\n",
       "      <td>5756</td>\n",
       "      <td>city_65</td>\n",
       "      <td>0.802</td>\n",
       "      <td>Male</td>\n",
       "      <td>Has relevent experience</td>\n",
       "      <td>no_enrollment</td>\n",
       "      <td>High School</td>\n",
       "      <td>NaN</td>\n",
       "      <td>&lt;1</td>\n",
       "      <td>500-999</td>\n",
       "      <td>Pvt Ltd</td>\n",
       "      <td>2</td>\n",
       "      <td>97</td>\n",
       "      <td>0.0</td>\n",
       "    </tr>\n",
       "    <tr>\n",
       "      <th>15325</th>\n",
       "      <td>19157</td>\n",
       "      <td>23834</td>\n",
       "      <td>city_67</td>\n",
       "      <td>0.855</td>\n",
       "      <td>NaN</td>\n",
       "      <td>No relevent experience</td>\n",
       "      <td>no_enrollment</td>\n",
       "      <td>Primary School</td>\n",
       "      <td>NaN</td>\n",
       "      <td>2</td>\n",
       "      <td>NaN</td>\n",
       "      <td>NaN</td>\n",
       "      <td>1</td>\n",
       "      <td>127</td>\n",
       "      <td>0.0</td>\n",
       "    </tr>\n",
       "  </tbody>\n",
       "</table>\n",
       "<p>15326 rows × 15 columns</p>\n",
       "</div>"
      ],
      "text/plain": [
       "       index  enrollee_id      city  city_development_index  gender  \\\n",
       "0          0         8949  city_103                   0.920    Male   \n",
       "1          1        29725   city_40                   0.776    Male   \n",
       "2          3        33241  city_115                   0.789     NaN   \n",
       "3          4          666  city_162                   0.767    Male   \n",
       "4          5        21651  city_176                   0.764     NaN   \n",
       "...      ...          ...       ...                     ...     ...   \n",
       "15321  19152        29754  city_103                   0.920  Female   \n",
       "15322  19153         7386  city_173                   0.878    Male   \n",
       "15323  19154        31398  city_103                   0.920    Male   \n",
       "15324  19156         5756   city_65                   0.802    Male   \n",
       "15325  19157        23834   city_67                   0.855     NaN   \n",
       "\n",
       "           relevent_experience enrolled_university education_level  \\\n",
       "0      Has relevent experience       no_enrollment        Graduate   \n",
       "1       No relevent experience       no_enrollment        Graduate   \n",
       "2       No relevent experience                 NaN        Graduate   \n",
       "3      Has relevent experience       no_enrollment         Masters   \n",
       "4      Has relevent experience    Part time course        Graduate   \n",
       "...                        ...                 ...             ...   \n",
       "15321  Has relevent experience       no_enrollment        Graduate   \n",
       "15322   No relevent experience       no_enrollment        Graduate   \n",
       "15323  Has relevent experience       no_enrollment        Graduate   \n",
       "15324  Has relevent experience       no_enrollment     High School   \n",
       "15325   No relevent experience       no_enrollment  Primary School   \n",
       "\n",
       "      major_discipline experience company_size    company_type last_new_job  \\\n",
       "0                 STEM        >20          NaN             NaN            1   \n",
       "1                 STEM         15        50-99         Pvt Ltd           >4   \n",
       "2      Business Degree         <1          NaN         Pvt Ltd        never   \n",
       "3                 STEM        >20        50-99  Funded Startup            4   \n",
       "4                 STEM         11          NaN             NaN            1   \n",
       "...                ...        ...          ...             ...          ...   \n",
       "15321       Humanities          7        10/49  Funded Startup            1   \n",
       "15322       Humanities         14          NaN             NaN            1   \n",
       "15323             STEM         14          NaN             NaN            4   \n",
       "15324              NaN         <1      500-999         Pvt Ltd            2   \n",
       "15325              NaN          2          NaN             NaN            1   \n",
       "\n",
       "       training_hours  target  \n",
       "0                  36     1.0  \n",
       "1                  47     0.0  \n",
       "2                  52     1.0  \n",
       "3                   8     0.0  \n",
       "4                  24     1.0  \n",
       "...               ...     ...  \n",
       "15321              25     0.0  \n",
       "15322              42     1.0  \n",
       "15323              52     1.0  \n",
       "15324              97     0.0  \n",
       "15325             127     0.0  \n",
       "\n",
       "[15326 rows x 15 columns]"
      ]
     },
     "execution_count": 6,
     "metadata": {},
     "output_type": "execute_result"
    }
   ],
   "source": [
    "train"
   ]
  },
  {
   "cell_type": "code",
   "execution_count": 7,
   "id": "286946df",
   "metadata": {
    "execution": {
     "iopub.execute_input": "2022-10-18T12:54:39.393223Z",
     "iopub.status.busy": "2022-10-18T12:54:39.392962Z",
     "iopub.status.idle": "2022-10-18T12:54:39.401529Z",
     "shell.execute_reply": "2022-10-18T12:54:39.400750Z"
    },
    "papermill": {
     "duration": 0.016303,
     "end_time": "2022-10-18T12:54:39.403509",
     "exception": false,
     "start_time": "2022-10-18T12:54:39.387206",
     "status": "completed"
    },
    "tags": []
   },
   "outputs": [],
   "source": [
    "#데이터 전처리\n",
    "xtrain = train.drop(['index','enrollee_id','target'],axis=1)\n",
    "ytrain = train['target']\n",
    "xtest = test.drop(['index','enrollee_id'],axis=1)"
   ]
  },
  {
   "cell_type": "code",
   "execution_count": 8,
   "id": "9c65ef4a",
   "metadata": {
    "execution": {
     "iopub.execute_input": "2022-10-18T12:54:39.416017Z",
     "iopub.status.busy": "2022-10-18T12:54:39.414620Z",
     "iopub.status.idle": "2022-10-18T12:54:39.422376Z",
     "shell.execute_reply": "2022-10-18T12:54:39.421571Z"
    },
    "papermill": {
     "duration": 0.015612,
     "end_time": "2022-10-18T12:54:39.424570",
     "exception": false,
     "start_time": "2022-10-18T12:54:39.408958",
     "status": "completed"
    },
    "tags": []
   },
   "outputs": [
    {
     "data": {
      "text/plain": [
       "Index(['city', 'city_development_index', 'gender', 'relevent_experience',\n",
       "       'enrolled_university', 'education_level', 'major_discipline',\n",
       "       'experience', 'company_size', 'company_type', 'last_new_job',\n",
       "       'training_hours'],\n",
       "      dtype='object')"
      ]
     },
     "execution_count": 8,
     "metadata": {},
     "output_type": "execute_result"
    }
   ],
   "source": [
    "#데이터의 column들을 모두 읽어오기\n",
    "xtrain.columns"
   ]
  },
  {
   "cell_type": "code",
   "execution_count": 9,
   "id": "56d70483",
   "metadata": {
    "execution": {
     "iopub.execute_input": "2022-10-18T12:54:39.436442Z",
     "iopub.status.busy": "2022-10-18T12:54:39.435107Z",
     "iopub.status.idle": "2022-10-18T12:54:39.450631Z",
     "shell.execute_reply": "2022-10-18T12:54:39.449072Z"
    },
    "papermill": {
     "duration": 0.02315,
     "end_time": "2022-10-18T12:54:39.452633",
     "exception": false,
     "start_time": "2022-10-18T12:54:39.429483",
     "status": "completed"
    },
    "tags": []
   },
   "outputs": [
    {
     "name": "stdout",
     "output_type": "stream",
     "text": [
      "['city_103' 'city_40' 'city_115' 'city_162' 'city_176' 'city_160'\n",
      " 'city_46' 'city_61' 'city_21' 'city_13' 'city_159' 'city_102' 'city_67'\n",
      " 'city_100' 'city_16' 'city_114' 'city_71' 'city_104' 'city_64' 'city_101'\n",
      " 'city_83' 'city_105' 'city_73' 'city_75' 'city_41' 'city_11' 'city_93'\n",
      " 'city_90' 'city_36' 'city_57' 'city_19' 'city_65' 'city_74' 'city_97'\n",
      " 'city_50' 'city_138' 'city_82' 'city_157' 'city_89' 'city_70' 'city_173'\n",
      " 'city_98' 'city_94' 'city_136' 'city_59' 'city_165' 'city_145' 'city_28'\n",
      " 'city_142' 'city_26' 'city_12' 'city_37' 'city_43' 'city_116' 'city_23'\n",
      " 'city_99' 'city_149' 'city_152' 'city_150' 'city_10' 'city_45' 'city_80'\n",
      " 'city_158' 'city_123' 'city_72' 'city_20' 'city_143' 'city_78' 'city_109'\n",
      " 'city_24' 'city_134' 'city_48' 'city_144' 'city_91' 'city_146' 'city_126'\n",
      " 'city_128' 'city_175' 'city_118' 'city_9' 'city_167' 'city_84' 'city_54'\n",
      " 'city_39' 'city_76' 'city_77' 'city_81' 'city_106' 'city_44' 'city_117'\n",
      " 'city_155' 'city_33' 'city_141' 'city_27' 'city_127' 'city_53' 'city_25'\n",
      " 'city_7' 'city_2' 'city_79' 'city_120' 'city_111' 'city_30' 'city_1'\n",
      " 'city_131' 'city_55' 'city_14' 'city_42' 'city_69' 'city_179' 'city_133'\n",
      " 'city_107' 'city_18' 'city_139' 'city_62' 'city_180' 'city_166'\n",
      " 'city_121' 'city_129' 'city_8' 'city_171' 'city_31']\n",
      "['Male' nan 'Female' 'Other']\n",
      "['Has relevent experience' 'No relevent experience']\n",
      "['no_enrollment' nan 'Part time course' 'Full time course']\n",
      "['Graduate' 'Masters' 'High School' nan 'Phd' 'Primary School']\n",
      "['STEM' 'Business Degree' nan 'Arts' 'Humanities' 'No Major' 'Other']\n",
      "['>20' '15' '<1' '11' '5' '13' '7' '2' '1' '4' '10' '18' '19' '12' '3'\n",
      " '16' '6' '9' '14' '8' '20' nan '17']\n",
      "[nan '50-99' '<10' '1000-4999' '10000+' '100-500' '5000-9999' '10/49'\n",
      " '500-999']\n",
      "[nan 'Pvt Ltd' 'Funded Startup' 'Early Stage Startup' 'Other'\n",
      " 'Public Sector' 'NGO']\n",
      "['1' '>4' 'never' '4' '3' '2' nan]\n"
     ]
    }
   ],
   "source": [
    "#결측값 확인\n",
    "label = ['city', 'gender', 'relevent_experience',\n",
    "       'enrolled_university', 'education_level', 'major_discipline',\n",
    "       'experience', 'company_size', 'company_type', 'last_new_job']\n",
    "for i in label:\n",
    "    print(xtrain[i].unique())"
   ]
  },
  {
   "cell_type": "code",
   "execution_count": 10,
   "id": "136f89c9",
   "metadata": {
    "execution": {
     "iopub.execute_input": "2022-10-18T12:54:39.463475Z",
     "iopub.status.busy": "2022-10-18T12:54:39.463224Z",
     "iopub.status.idle": "2022-10-18T12:54:40.183148Z",
     "shell.execute_reply": "2022-10-18T12:54:40.182223Z"
    },
    "papermill": {
     "duration": 0.728177,
     "end_time": "2022-10-18T12:54:40.185784",
     "exception": false,
     "start_time": "2022-10-18T12:54:39.457607",
     "status": "completed"
    },
    "tags": []
   },
   "outputs": [],
   "source": [
    "#object형의 데이터들을 int형으로 전처리\n",
    "from sklearn import preprocessing\n",
    "for i in label:\n",
    "    box = np.concatenate([xtrain[i].unique(),xtest[i].unique()])\n",
    "    le = preprocessing.LabelEncoder()\n",
    "    le.fit(box)\n",
    "    xtrain[i] = le.transform(xtrain[i])\n",
    "    xtest[i] = le.transform(xtest[i])"
   ]
  },
  {
   "cell_type": "code",
   "execution_count": 11,
   "id": "ed740e04",
   "metadata": {
    "execution": {
     "iopub.execute_input": "2022-10-18T12:54:40.197395Z",
     "iopub.status.busy": "2022-10-18T12:54:40.197114Z",
     "iopub.status.idle": "2022-10-18T12:54:40.211725Z",
     "shell.execute_reply": "2022-10-18T12:54:40.210895Z"
    },
    "papermill": {
     "duration": 0.022751,
     "end_time": "2022-10-18T12:54:40.213745",
     "exception": false,
     "start_time": "2022-10-18T12:54:40.190994",
     "status": "completed"
    },
    "tags": []
   },
   "outputs": [],
   "source": [
    "#데이터 전처리\n",
    "from sklearn.preprocessing import StandardScaler\n",
    "\n",
    "sc = StandardScaler()\n",
    "\n",
    "xtrain_std = sc.fit_transform(xtrain)\n",
    "xtest_std = sc.transform(xtest)"
   ]
  },
  {
   "cell_type": "code",
   "execution_count": 12,
   "id": "98477491",
   "metadata": {
    "execution": {
     "iopub.execute_input": "2022-10-18T12:54:40.224908Z",
     "iopub.status.busy": "2022-10-18T12:54:40.224640Z",
     "iopub.status.idle": "2022-10-18T12:54:43.159448Z",
     "shell.execute_reply": "2022-10-18T12:54:43.158447Z"
    },
    "papermill": {
     "duration": 2.943212,
     "end_time": "2022-10-18T12:54:43.161913",
     "exception": false,
     "start_time": "2022-10-18T12:54:40.218701",
     "status": "completed"
    },
    "tags": []
   },
   "outputs": [],
   "source": [
    "# X_train = torch.FloatTensor(np.array(xtrain)).to(device)\n",
    "# y_train = torch.FloatTensor(np.array(ytrain)).to(device)\n",
    "# X_test = torch.FloatTensor(np.array(xtest)).to(device)\n",
    "X_train = torch.FloatTensor(np.array(xtrain_std)).to(device)\n",
    "y_train = torch.FloatTensor(np.array(ytrain)).to(device)\n",
    "X_test = torch.FloatTensor(np.array(xtest_std)).to(device)"
   ]
  },
  {
   "cell_type": "code",
   "execution_count": 13,
   "id": "4a788829",
   "metadata": {
    "execution": {
     "iopub.execute_input": "2022-10-18T12:54:43.176057Z",
     "iopub.status.busy": "2022-10-18T12:54:43.174225Z",
     "iopub.status.idle": "2022-10-18T12:54:43.180406Z",
     "shell.execute_reply": "2022-10-18T12:54:43.179362Z"
    },
    "papermill": {
     "duration": 0.015564,
     "end_time": "2022-10-18T12:54:43.183654",
     "exception": false,
     "start_time": "2022-10-18T12:54:43.168090",
     "status": "completed"
    },
    "tags": []
   },
   "outputs": [
    {
     "name": "stdout",
     "output_type": "stream",
     "text": [
      "torch.Size([15326, 12])\n",
      "torch.Size([15326])\n"
     ]
    }
   ],
   "source": [
    "#모델 빌드를 위한 설정값 확인\n",
    "print(X_train.shape)\n",
    "print(y_train.shape)"
   ]
  },
  {
   "cell_type": "code",
   "execution_count": 14,
   "id": "196d2461",
   "metadata": {
    "execution": {
     "iopub.execute_input": "2022-10-18T12:54:43.195958Z",
     "iopub.status.busy": "2022-10-18T12:54:43.195688Z",
     "iopub.status.idle": "2022-10-18T12:54:43.203484Z",
     "shell.execute_reply": "2022-10-18T12:54:43.202484Z"
    },
    "papermill": {
     "duration": 0.016001,
     "end_time": "2022-10-18T12:54:43.205683",
     "exception": false,
     "start_time": "2022-10-18T12:54:43.189682",
     "status": "completed"
    },
    "tags": []
   },
   "outputs": [],
   "source": [
    "#모델 빌드\n",
    "import torch.nn as nn\n",
    "\n",
    "class DNN(nn.Module):\n",
    "    def __init__(self):\n",
    "        super().__init__()\n",
    "        self.linear1 = nn.Linear(12, 512, bias=True)\n",
    "        self.linear2 = nn.Linear(512, 128, bias=True)\n",
    "        self.linear3 = nn.Linear(128, 1, bias=True)\n",
    "        \n",
    "        self.sigmoid = nn.Sigmoid()\n",
    "        self.active = nn.ReLU()\n",
    "        \n",
    "        nn.init.xavier_normal_(self.linear1.weight)\n",
    "        nn.init.xavier_normal_(self.linear2.weight)\n",
    "        nn.init.xavier_normal_(self.linear3.weight)\n",
    "        \n",
    "    def forward(self, x):\n",
    "        x = self.linear1(x)\n",
    "        x = self.active(x)\n",
    "        x = self.linear2(x)\n",
    "        x = self.active(x)\n",
    "        x = self.linear3(x)\n",
    "        x = self.sigmoid(x)\n",
    "        \n",
    "        return x"
   ]
  },
  {
   "cell_type": "code",
   "execution_count": 15,
   "id": "adc592fc",
   "metadata": {
    "execution": {
     "iopub.execute_input": "2022-10-18T12:54:43.216985Z",
     "iopub.status.busy": "2022-10-18T12:54:43.216232Z",
     "iopub.status.idle": "2022-10-18T12:54:43.226763Z",
     "shell.execute_reply": "2022-10-18T12:54:43.225940Z"
    },
    "papermill": {
     "duration": 0.017902,
     "end_time": "2022-10-18T12:54:43.228502",
     "exception": false,
     "start_time": "2022-10-18T12:54:43.210600",
     "status": "completed"
    },
    "tags": []
   },
   "outputs": [],
   "source": [
    "#모델 정의\n",
    "model = DNN().to(device)"
   ]
  },
  {
   "cell_type": "code",
   "execution_count": 16,
   "id": "9889169b",
   "metadata": {
    "execution": {
     "iopub.execute_input": "2022-10-18T12:54:43.240086Z",
     "iopub.status.busy": "2022-10-18T12:54:43.239349Z",
     "iopub.status.idle": "2022-10-18T12:54:43.244305Z",
     "shell.execute_reply": "2022-10-18T12:54:43.243415Z"
    },
    "papermill": {
     "duration": 0.012638,
     "end_time": "2022-10-18T12:54:43.246359",
     "exception": false,
     "start_time": "2022-10-18T12:54:43.233721",
     "status": "completed"
    },
    "tags": []
   },
   "outputs": [],
   "source": [
    "import torch.optim as optim\n",
    "\n",
    "#Optimizer 정의\n",
    "optimizer = optim.Adam(model.parameters(), lr=1e-3)\n",
    "\n",
    "#Loss 정의 (이진분류이므로 BCELoss)\n",
    "loss = nn.BCELoss()"
   ]
  },
  {
   "cell_type": "code",
   "execution_count": 17,
   "id": "d18b0cf0",
   "metadata": {
    "execution": {
     "iopub.execute_input": "2022-10-18T12:54:43.257284Z",
     "iopub.status.busy": "2022-10-18T12:54:43.257038Z",
     "iopub.status.idle": "2022-10-18T12:54:44.593400Z",
     "shell.execute_reply": "2022-10-18T12:54:44.592470Z"
    },
    "papermill": {
     "duration": 1.344257,
     "end_time": "2022-10-18T12:54:44.595458",
     "exception": false,
     "start_time": "2022-10-18T12:54:43.251201",
     "status": "completed"
    },
    "tags": []
   },
   "outputs": [
    {
     "name": "stdout",
     "output_type": "stream",
     "text": [
      "0 0.7412141561508179\n",
      "10 0.5018192529678345\n",
      "20 0.47696420550346375\n",
      "30 0.467632919549942\n",
      "40 0.46196508407592773\n",
      "50 0.4567777216434479\n",
      "60 0.4526005983352661\n",
      "70 0.4491020441055298\n",
      "80 0.44586655497550964\n",
      "90 0.442792147397995\n",
      "100 0.4398626685142517\n",
      "110 0.43701037764549255\n",
      "120 0.4341631531715393\n",
      "130 0.4312676191329956\n",
      "140 0.42832663655281067\n",
      "150 0.42527565360069275\n"
     ]
    }
   ],
   "source": [
    "#모델 학습\n",
    "epochs = 150\n",
    "for epoch in range(epochs + 1):\n",
    "    \n",
    "    optimizer.zero_grad()\n",
    "    \n",
    "    hypothesis = model(X_train)\n",
    "    \n",
    "    cost = loss(hypothesis, y_train.unsqueeze(1))\n",
    "    \n",
    "    cost.backward()\n",
    "    \n",
    "    optimizer.step()\n",
    "    \n",
    "    if epoch % 10 == 0:\n",
    "        print(epoch, cost.item())"
   ]
  },
  {
   "cell_type": "code",
   "execution_count": 18,
   "id": "3863d6de",
   "metadata": {
    "execution": {
     "iopub.execute_input": "2022-10-18T12:54:44.612158Z",
     "iopub.status.busy": "2022-10-18T12:54:44.610567Z",
     "iopub.status.idle": "2022-10-18T12:54:44.621232Z",
     "shell.execute_reply": "2022-10-18T12:54:44.620369Z"
    },
    "papermill": {
     "duration": 0.022381,
     "end_time": "2022-10-18T12:54:44.623225",
     "exception": false,
     "start_time": "2022-10-18T12:54:44.600844",
     "status": "completed"
    },
    "tags": []
   },
   "outputs": [],
   "source": [
    "#학습한 모델을 이용해서 Test 데이터 예측\n",
    "with torch.no_grad():\n",
    "    model.eval()\n",
    "    hypothesis = model(X_test)\n",
    "    predict = (hypothesis >= torch.FloatTensor([0.5]).to(device)).to(torch.float64)"
   ]
  },
  {
   "cell_type": "code",
   "execution_count": 19,
   "id": "733eeca1",
   "metadata": {
    "execution": {
     "iopub.execute_input": "2022-10-18T12:54:44.634582Z",
     "iopub.status.busy": "2022-10-18T12:54:44.634300Z",
     "iopub.status.idle": "2022-10-18T12:54:44.646171Z",
     "shell.execute_reply": "2022-10-18T12:54:44.645350Z"
    },
    "papermill": {
     "duration": 0.019704,
     "end_time": "2022-10-18T12:54:44.648154",
     "exception": false,
     "start_time": "2022-10-18T12:54:44.628450",
     "status": "completed"
    },
    "tags": []
   },
   "outputs": [],
   "source": [
    "#예측한 값을 csv로 변환\n",
    "sample['target'] = predict.cpu().detach().numpy()\n",
    "sample.to_csv('submit.csv',index=False)"
   ]
  },
  {
   "cell_type": "code",
   "execution_count": null,
   "id": "f653e754",
   "metadata": {
    "papermill": {
     "duration": 0.004868,
     "end_time": "2022-10-18T12:54:44.658106",
     "exception": false,
     "start_time": "2022-10-18T12:54:44.653238",
     "status": "completed"
    },
    "tags": []
   },
   "outputs": [],
   "source": []
  }
 ],
 "metadata": {
  "kernelspec": {
   "display_name": "Python 3",
   "language": "python",
   "name": "python3"
  },
  "language_info": {
   "codemirror_mode": {
    "name": "ipython",
    "version": 3
   },
   "file_extension": ".py",
   "mimetype": "text/x-python",
   "name": "python",
   "nbconvert_exporter": "python",
   "pygments_lexer": "ipython3",
   "version": "3.7.12"
  },
  "papermill": {
   "default_parameters": {},
   "duration": 16.021007,
   "end_time": "2022-10-18T12:54:45.785308",
   "environment_variables": {},
   "exception": null,
   "input_path": "__notebook__.ipynb",
   "output_path": "__notebook__.ipynb",
   "parameters": {},
   "start_time": "2022-10-18T12:54:29.764301",
   "version": "2.3.4"
  }
 },
 "nbformat": 4,
 "nbformat_minor": 5
}
