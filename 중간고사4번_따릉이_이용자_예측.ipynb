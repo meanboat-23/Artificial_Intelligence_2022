{
 "cells": [
  {
   "cell_type": "code",
   "execution_count": 1,
   "id": "a228eda0",
   "metadata": {
    "_cell_guid": "b1076dfc-b9ad-4769-8c92-a6c4dae69d19",
    "_uuid": "8f2839f25d086af736a60e9eeb907d3b93b6e0e5",
    "execution": {
     "iopub.execute_input": "2022-10-18T12:47:05.252026Z",
     "iopub.status.busy": "2022-10-18T12:47:05.251486Z",
     "iopub.status.idle": "2022-10-18T12:47:05.264579Z",
     "shell.execute_reply": "2022-10-18T12:47:05.263630Z"
    },
    "papermill": {
     "duration": 0.022354,
     "end_time": "2022-10-18T12:47:05.267062",
     "exception": false,
     "start_time": "2022-10-18T12:47:05.244708",
     "status": "completed"
    },
    "tags": []
   },
   "outputs": [
    {
     "name": "stdout",
     "output_type": "stream",
     "text": [
      "/kaggle/input/2022-ai-midterm-p4/train.csv\n",
      "/kaggle/input/2022-ai-midterm-p4/test.csv\n",
      "/kaggle/input/2022-ai-midterm-p4/submit_sample.csv\n"
     ]
    }
   ],
   "source": [
    "# This Python 3 environment comes with many helpful analytics libraries installed\n",
    "# It is defined by the kaggle/python Docker image: https://github.com/kaggle/docker-python\n",
    "# For example, here's several helpful packages to load\n",
    "\n",
    "import numpy as np # linear algebra\n",
    "import pandas as pd # data processing, CSV file I/O (e.g. pd.read_csv)\n",
    "\n",
    "# Input data files are available in the read-only \"../input/\" directory\n",
    "# For example, running this (by clicking run or pressing Shift+Enter) will list all files under the input directory\n",
    "\n",
    "import os\n",
    "for dirname, _, filenames in os.walk('/kaggle/input'):\n",
    "    for filename in filenames:\n",
    "        print(os.path.join(dirname, filename))\n",
    "\n",
    "# You can write up to 20GB to the current directory (/kaggle/working/) that gets preserved as output when you create a version using \"Save & Run All\" \n",
    "# You can also write temporary files to /kaggle/temp/, but they won't be saved outside of the current session"
   ]
  },
  {
   "cell_type": "code",
   "execution_count": 2,
   "id": "c847098c",
   "metadata": {
    "execution": {
     "iopub.execute_input": "2022-10-18T12:47:05.276449Z",
     "iopub.status.busy": "2022-10-18T12:47:05.275603Z",
     "iopub.status.idle": "2022-10-18T12:47:06.935601Z",
     "shell.execute_reply": "2022-10-18T12:47:06.934508Z"
    },
    "papermill": {
     "duration": 1.666981,
     "end_time": "2022-10-18T12:47:06.938038",
     "exception": false,
     "start_time": "2022-10-18T12:47:05.271057",
     "status": "completed"
    },
    "tags": []
   },
   "outputs": [],
   "source": [
    "#랜덤시드 고정\n",
    "import random\n",
    "import torch\n",
    "\n",
    "seed = 1\n",
    "random.seed(seed)\n",
    "np.random.seed(seed)\n",
    "torch.manual_seed(seed)\n",
    "if torch.cuda.is_available():\n",
    "    torch.cuda.manual_seed(seed)\n",
    "    torch.cuda.manual_seed_all(seed)\n",
    "torch.backends.cudnn.benchmark = False\n",
    "torch.backends.cudnn.deterministic = True"
   ]
  },
  {
   "cell_type": "code",
   "execution_count": 3,
   "id": "41cac6c7",
   "metadata": {
    "execution": {
     "iopub.execute_input": "2022-10-18T12:47:06.947437Z",
     "iopub.status.busy": "2022-10-18T12:47:06.946949Z",
     "iopub.status.idle": "2022-10-18T12:47:06.952910Z",
     "shell.execute_reply": "2022-10-18T12:47:06.952043Z"
    },
    "papermill": {
     "duration": 0.01294,
     "end_time": "2022-10-18T12:47:06.955036",
     "exception": false,
     "start_time": "2022-10-18T12:47:06.942096",
     "status": "completed"
    },
    "tags": []
   },
   "outputs": [],
   "source": [
    "#gpu 사용가능하면 사용하는 설정\n",
    "device = 'cuda' if torch.cuda.is_available() else 'cpu'"
   ]
  },
  {
   "cell_type": "code",
   "execution_count": 4,
   "id": "2c6fdf87",
   "metadata": {
    "execution": {
     "iopub.execute_input": "2022-10-18T12:47:06.964114Z",
     "iopub.status.busy": "2022-10-18T12:47:06.963806Z",
     "iopub.status.idle": "2022-10-18T12:47:06.994983Z",
     "shell.execute_reply": "2022-10-18T12:47:06.994001Z"
    },
    "papermill": {
     "duration": 0.039102,
     "end_time": "2022-10-18T12:47:06.997900",
     "exception": false,
     "start_time": "2022-10-18T12:47:06.958798",
     "status": "completed"
    },
    "tags": []
   },
   "outputs": [],
   "source": [
    "#데이터 로드\n",
    "sample = pd.read_csv('/kaggle/input/2022-ai-midterm-p4/submit_sample.csv')\n",
    "train = pd.read_csv('/kaggle/input/2022-ai-midterm-p4/train.csv')\n",
    "test = pd.read_csv('/kaggle/input/2022-ai-midterm-p4/test.csv')"
   ]
  },
  {
   "cell_type": "code",
   "execution_count": 5,
   "id": "fa36f408",
   "metadata": {
    "execution": {
     "iopub.execute_input": "2022-10-18T12:47:07.007756Z",
     "iopub.status.busy": "2022-10-18T12:47:07.006881Z",
     "iopub.status.idle": "2022-10-18T12:47:07.041423Z",
     "shell.execute_reply": "2022-10-18T12:47:07.039425Z"
    },
    "papermill": {
     "duration": 0.042153,
     "end_time": "2022-10-18T12:47:07.044284",
     "exception": false,
     "start_time": "2022-10-18T12:47:07.002131",
     "status": "completed"
    },
    "tags": []
   },
   "outputs": [
    {
     "name": "stdout",
     "output_type": "stream",
     "text": [
      "<class 'pandas.core.frame.DataFrame'>\n",
      "RangeIndex: 1000 entries, 0 to 999\n",
      "Data columns (total 11 columns):\n",
      " #   Column                  Non-Null Count  Dtype  \n",
      "---  ------                  --------------  -----  \n",
      " 0   id                      1000 non-null   int64  \n",
      " 1   hour                    1000 non-null   int64  \n",
      " 2   hour_bef_temperature    1000 non-null   float64\n",
      " 3   hour_bef_precipitation  1000 non-null   float64\n",
      " 4   hour_bef_windspeed      1000 non-null   float64\n",
      " 5   hour_bef_humidity       1000 non-null   float64\n",
      " 6   hour_bef_visibility     1000 non-null   float64\n",
      " 7   hour_bef_ozone          1000 non-null   float64\n",
      " 8   hour_bef_pm10           1000 non-null   float64\n",
      " 9   hour_bef_pm2.5          1000 non-null   float64\n",
      " 10  count                   1000 non-null   float64\n",
      "dtypes: float64(9), int64(2)\n",
      "memory usage: 86.1 KB\n",
      "<class 'pandas.core.frame.DataFrame'>\n",
      "RangeIndex: 327 entries, 0 to 326\n",
      "Data columns (total 10 columns):\n",
      " #   Column                  Non-Null Count  Dtype  \n",
      "---  ------                  --------------  -----  \n",
      " 0   id                      327 non-null    int64  \n",
      " 1   hour                    327 non-null    int64  \n",
      " 2   hour_bef_temperature    327 non-null    float64\n",
      " 3   hour_bef_precipitation  327 non-null    float64\n",
      " 4   hour_bef_windspeed      327 non-null    float64\n",
      " 5   hour_bef_humidity       327 non-null    float64\n",
      " 6   hour_bef_visibility     327 non-null    float64\n",
      " 7   hour_bef_ozone          327 non-null    float64\n",
      " 8   hour_bef_pm10           327 non-null    float64\n",
      " 9   hour_bef_pm2.5          327 non-null    float64\n",
      "dtypes: float64(8), int64(2)\n",
      "memory usage: 25.7 KB\n"
     ]
    }
   ],
   "source": [
    "#데이터 확인\n",
    "train.info()\n",
    "test.info()"
   ]
  },
  {
   "cell_type": "code",
   "execution_count": 6,
   "id": "bfb5c29b",
   "metadata": {
    "execution": {
     "iopub.execute_input": "2022-10-18T12:47:07.054414Z",
     "iopub.status.busy": "2022-10-18T12:47:07.053562Z",
     "iopub.status.idle": "2022-10-18T12:47:07.081781Z",
     "shell.execute_reply": "2022-10-18T12:47:07.080682Z"
    },
    "papermill": {
     "duration": 0.036159,
     "end_time": "2022-10-18T12:47:07.084966",
     "exception": false,
     "start_time": "2022-10-18T12:47:07.048807",
     "status": "completed"
    },
    "tags": []
   },
   "outputs": [
    {
     "data": {
      "text/html": [
       "<div>\n",
       "<style scoped>\n",
       "    .dataframe tbody tr th:only-of-type {\n",
       "        vertical-align: middle;\n",
       "    }\n",
       "\n",
       "    .dataframe tbody tr th {\n",
       "        vertical-align: top;\n",
       "    }\n",
       "\n",
       "    .dataframe thead th {\n",
       "        text-align: right;\n",
       "    }\n",
       "</style>\n",
       "<table border=\"1\" class=\"dataframe\">\n",
       "  <thead>\n",
       "    <tr style=\"text-align: right;\">\n",
       "      <th></th>\n",
       "      <th>id</th>\n",
       "      <th>hour</th>\n",
       "      <th>hour_bef_temperature</th>\n",
       "      <th>hour_bef_precipitation</th>\n",
       "      <th>hour_bef_windspeed</th>\n",
       "      <th>hour_bef_humidity</th>\n",
       "      <th>hour_bef_visibility</th>\n",
       "      <th>hour_bef_ozone</th>\n",
       "      <th>hour_bef_pm10</th>\n",
       "      <th>hour_bef_pm2.5</th>\n",
       "      <th>count</th>\n",
       "    </tr>\n",
       "  </thead>\n",
       "  <tbody>\n",
       "    <tr>\n",
       "      <th>0</th>\n",
       "      <td>3</td>\n",
       "      <td>20</td>\n",
       "      <td>16.3</td>\n",
       "      <td>1.0</td>\n",
       "      <td>1.5</td>\n",
       "      <td>89.0</td>\n",
       "      <td>576.0</td>\n",
       "      <td>0.027</td>\n",
       "      <td>76.0</td>\n",
       "      <td>33.0</td>\n",
       "      <td>49.0</td>\n",
       "    </tr>\n",
       "    <tr>\n",
       "      <th>1</th>\n",
       "      <td>6</td>\n",
       "      <td>13</td>\n",
       "      <td>20.1</td>\n",
       "      <td>0.0</td>\n",
       "      <td>1.4</td>\n",
       "      <td>48.0</td>\n",
       "      <td>916.0</td>\n",
       "      <td>0.042</td>\n",
       "      <td>73.0</td>\n",
       "      <td>40.0</td>\n",
       "      <td>159.0</td>\n",
       "    </tr>\n",
       "    <tr>\n",
       "      <th>2</th>\n",
       "      <td>7</td>\n",
       "      <td>6</td>\n",
       "      <td>13.9</td>\n",
       "      <td>0.0</td>\n",
       "      <td>0.7</td>\n",
       "      <td>79.0</td>\n",
       "      <td>1382.0</td>\n",
       "      <td>0.033</td>\n",
       "      <td>32.0</td>\n",
       "      <td>19.0</td>\n",
       "      <td>26.0</td>\n",
       "    </tr>\n",
       "    <tr>\n",
       "      <th>3</th>\n",
       "      <td>8</td>\n",
       "      <td>23</td>\n",
       "      <td>8.1</td>\n",
       "      <td>0.0</td>\n",
       "      <td>2.7</td>\n",
       "      <td>54.0</td>\n",
       "      <td>946.0</td>\n",
       "      <td>0.040</td>\n",
       "      <td>75.0</td>\n",
       "      <td>64.0</td>\n",
       "      <td>57.0</td>\n",
       "    </tr>\n",
       "    <tr>\n",
       "      <th>4</th>\n",
       "      <td>9</td>\n",
       "      <td>18</td>\n",
       "      <td>29.5</td>\n",
       "      <td>0.0</td>\n",
       "      <td>4.8</td>\n",
       "      <td>7.0</td>\n",
       "      <td>2000.0</td>\n",
       "      <td>0.057</td>\n",
       "      <td>27.0</td>\n",
       "      <td>11.0</td>\n",
       "      <td>431.0</td>\n",
       "    </tr>\n",
       "    <tr>\n",
       "      <th>...</th>\n",
       "      <td>...</td>\n",
       "      <td>...</td>\n",
       "      <td>...</td>\n",
       "      <td>...</td>\n",
       "      <td>...</td>\n",
       "      <td>...</td>\n",
       "      <td>...</td>\n",
       "      <td>...</td>\n",
       "      <td>...</td>\n",
       "      <td>...</td>\n",
       "      <td>...</td>\n",
       "    </tr>\n",
       "    <tr>\n",
       "      <th>995</th>\n",
       "      <td>1647</td>\n",
       "      <td>14</td>\n",
       "      <td>20.4</td>\n",
       "      <td>0.0</td>\n",
       "      <td>3.6</td>\n",
       "      <td>12.0</td>\n",
       "      <td>2000.0</td>\n",
       "      <td>0.047</td>\n",
       "      <td>23.0</td>\n",
       "      <td>13.0</td>\n",
       "      <td>108.0</td>\n",
       "    </tr>\n",
       "    <tr>\n",
       "      <th>996</th>\n",
       "      <td>1649</td>\n",
       "      <td>15</td>\n",
       "      <td>18.5</td>\n",
       "      <td>0.0</td>\n",
       "      <td>4.1</td>\n",
       "      <td>24.0</td>\n",
       "      <td>849.0</td>\n",
       "      <td>0.064</td>\n",
       "      <td>92.0</td>\n",
       "      <td>83.0</td>\n",
       "      <td>78.0</td>\n",
       "    </tr>\n",
       "    <tr>\n",
       "      <th>997</th>\n",
       "      <td>1650</td>\n",
       "      <td>4</td>\n",
       "      <td>16.1</td>\n",
       "      <td>0.0</td>\n",
       "      <td>0.6</td>\n",
       "      <td>60.0</td>\n",
       "      <td>2000.0</td>\n",
       "      <td>0.028</td>\n",
       "      <td>39.0</td>\n",
       "      <td>28.0</td>\n",
       "      <td>27.0</td>\n",
       "    </tr>\n",
       "    <tr>\n",
       "      <th>998</th>\n",
       "      <td>1652</td>\n",
       "      <td>16</td>\n",
       "      <td>17.7</td>\n",
       "      <td>0.0</td>\n",
       "      <td>2.3</td>\n",
       "      <td>32.0</td>\n",
       "      <td>1949.0</td>\n",
       "      <td>0.037</td>\n",
       "      <td>64.0</td>\n",
       "      <td>22.0</td>\n",
       "      <td>118.0</td>\n",
       "    </tr>\n",
       "    <tr>\n",
       "      <th>999</th>\n",
       "      <td>1653</td>\n",
       "      <td>6</td>\n",
       "      <td>10.7</td>\n",
       "      <td>0.0</td>\n",
       "      <td>2.5</td>\n",
       "      <td>99.0</td>\n",
       "      <td>78.0</td>\n",
       "      <td>0.034</td>\n",
       "      <td>32.0</td>\n",
       "      <td>28.0</td>\n",
       "      <td>5.0</td>\n",
       "    </tr>\n",
       "  </tbody>\n",
       "</table>\n",
       "<p>1000 rows × 11 columns</p>\n",
       "</div>"
      ],
      "text/plain": [
       "       id  hour  hour_bef_temperature  hour_bef_precipitation  \\\n",
       "0       3    20                  16.3                     1.0   \n",
       "1       6    13                  20.1                     0.0   \n",
       "2       7     6                  13.9                     0.0   \n",
       "3       8    23                   8.1                     0.0   \n",
       "4       9    18                  29.5                     0.0   \n",
       "..    ...   ...                   ...                     ...   \n",
       "995  1647    14                  20.4                     0.0   \n",
       "996  1649    15                  18.5                     0.0   \n",
       "997  1650     4                  16.1                     0.0   \n",
       "998  1652    16                  17.7                     0.0   \n",
       "999  1653     6                  10.7                     0.0   \n",
       "\n",
       "     hour_bef_windspeed  hour_bef_humidity  hour_bef_visibility  \\\n",
       "0                   1.5               89.0                576.0   \n",
       "1                   1.4               48.0                916.0   \n",
       "2                   0.7               79.0               1382.0   \n",
       "3                   2.7               54.0                946.0   \n",
       "4                   4.8                7.0               2000.0   \n",
       "..                  ...                ...                  ...   \n",
       "995                 3.6               12.0               2000.0   \n",
       "996                 4.1               24.0                849.0   \n",
       "997                 0.6               60.0               2000.0   \n",
       "998                 2.3               32.0               1949.0   \n",
       "999                 2.5               99.0                 78.0   \n",
       "\n",
       "     hour_bef_ozone  hour_bef_pm10  hour_bef_pm2.5  count  \n",
       "0             0.027           76.0            33.0   49.0  \n",
       "1             0.042           73.0            40.0  159.0  \n",
       "2             0.033           32.0            19.0   26.0  \n",
       "3             0.040           75.0            64.0   57.0  \n",
       "4             0.057           27.0            11.0  431.0  \n",
       "..              ...            ...             ...    ...  \n",
       "995           0.047           23.0            13.0  108.0  \n",
       "996           0.064           92.0            83.0   78.0  \n",
       "997           0.028           39.0            28.0   27.0  \n",
       "998           0.037           64.0            22.0  118.0  \n",
       "999           0.034           32.0            28.0    5.0  \n",
       "\n",
       "[1000 rows x 11 columns]"
      ]
     },
     "execution_count": 6,
     "metadata": {},
     "output_type": "execute_result"
    }
   ],
   "source": [
    "train"
   ]
  },
  {
   "cell_type": "code",
   "execution_count": 7,
   "id": "3c40dbc0",
   "metadata": {
    "execution": {
     "iopub.execute_input": "2022-10-18T12:47:07.094917Z",
     "iopub.status.busy": "2022-10-18T12:47:07.094612Z",
     "iopub.status.idle": "2022-10-18T12:47:07.901931Z",
     "shell.execute_reply": "2022-10-18T12:47:07.900946Z"
    },
    "papermill": {
     "duration": 0.814925,
     "end_time": "2022-10-18T12:47:07.904360",
     "exception": false,
     "start_time": "2022-10-18T12:47:07.089435",
     "status": "completed"
    },
    "tags": []
   },
   "outputs": [],
   "source": [
    "#데이터 전처리\n",
    "xtrain = train.drop(['id','count'],axis=1)\n",
    "ytrain = train['count']\n",
    "xtest = test.drop(['id'],axis=1)\n",
    "\n",
    "from sklearn.preprocessing import StandardScaler\n",
    "\n",
    "sc = StandardScaler()\n",
    "\n",
    "xtrain_std = sc.fit_transform(xtrain)\n",
    "xtest_std = sc.transform(xtest)"
   ]
  },
  {
   "cell_type": "code",
   "execution_count": 8,
   "id": "eb181abb",
   "metadata": {
    "execution": {
     "iopub.execute_input": "2022-10-18T12:47:07.914302Z",
     "iopub.status.busy": "2022-10-18T12:47:07.913941Z",
     "iopub.status.idle": "2022-10-18T12:47:10.898862Z",
     "shell.execute_reply": "2022-10-18T12:47:10.897898Z"
    },
    "papermill": {
     "duration": 2.992558,
     "end_time": "2022-10-18T12:47:10.901331",
     "exception": false,
     "start_time": "2022-10-18T12:47:07.908773",
     "status": "completed"
    },
    "tags": []
   },
   "outputs": [],
   "source": [
    "# X_train = torch.FloatTensor(np.array(xtrain)).to(device)\n",
    "# y_train = torch.FloatTensor(np.array(ytrain)).to(device)\n",
    "# X_test = torch.FloatTensor(np.array(xtest)).to(device)\n",
    "X_train = torch.FloatTensor(np.array(xtrain_std)).to(device)\n",
    "y_train = torch.FloatTensor(np.array(ytrain)).to(device)\n",
    "X_test = torch.FloatTensor(np.array(xtest_std)).to(device)"
   ]
  },
  {
   "cell_type": "code",
   "execution_count": 9,
   "id": "9b2e6faf",
   "metadata": {
    "execution": {
     "iopub.execute_input": "2022-10-18T12:47:10.912498Z",
     "iopub.status.busy": "2022-10-18T12:47:10.911519Z",
     "iopub.status.idle": "2022-10-18T12:47:10.918137Z",
     "shell.execute_reply": "2022-10-18T12:47:10.916831Z"
    },
    "papermill": {
     "duration": 0.014879,
     "end_time": "2022-10-18T12:47:10.920853",
     "exception": false,
     "start_time": "2022-10-18T12:47:10.905974",
     "status": "completed"
    },
    "tags": []
   },
   "outputs": [
    {
     "name": "stdout",
     "output_type": "stream",
     "text": [
      "torch.Size([1000, 9])\n",
      "torch.Size([1000])\n"
     ]
    }
   ],
   "source": [
    "#모델 빌드에 필요한 설정값 확인\n",
    "print(X_train.shape)\n",
    "print(y_train.shape)"
   ]
  },
  {
   "cell_type": "code",
   "execution_count": 10,
   "id": "75aad179",
   "metadata": {
    "execution": {
     "iopub.execute_input": "2022-10-18T12:47:10.930806Z",
     "iopub.status.busy": "2022-10-18T12:47:10.930529Z",
     "iopub.status.idle": "2022-10-18T12:47:10.939604Z",
     "shell.execute_reply": "2022-10-18T12:47:10.938580Z"
    },
    "papermill": {
     "duration": 0.016281,
     "end_time": "2022-10-18T12:47:10.941633",
     "exception": false,
     "start_time": "2022-10-18T12:47:10.925352",
     "status": "completed"
    },
    "tags": []
   },
   "outputs": [],
   "source": [
    "#모델 빌드\n",
    "import torch.nn as nn\n",
    "\n",
    "class DNN(nn.Module):\n",
    "    def __init__(self):\n",
    "        super().__init__()\n",
    "        self.linear1 = nn.Linear(9, 512, bias=True)\n",
    "        self.linear2 = nn.Linear(512, 512, bias=True)\n",
    "        self.linear3 = nn.Linear(512, 512, bias=True)\n",
    "        self.linear4 = nn.Linear(512, 1, bias=True)\n",
    "\n",
    "        self.active = nn.ReLU()\n",
    "        self.dropout = nn.Dropout(0.1)\n",
    "\n",
    "        nn.init.xavier_normal_(self.linear1.weight)\n",
    "        nn.init.xavier_normal_(self.linear2.weight)\n",
    "        nn.init.xavier_normal_(self.linear3.weight)\n",
    "        nn.init.xavier_normal_(self.linear4.weight)\n",
    "    \n",
    "    def forward(self, x):\n",
    "        x = self.linear1(x)\n",
    "        x = self.active(x)\n",
    "        x = self.dropout(x)\n",
    "        x = self.linear2(x)\n",
    "        x = self.active(x)\n",
    "        x = self.dropout(x)\n",
    "        x = self.linear3(x)\n",
    "        x = self.active(x)\n",
    "        x = self.dropout(x)\n",
    "        x = self.linear4(x)\n",
    "        \n",
    "        return x"
   ]
  },
  {
   "cell_type": "code",
   "execution_count": 11,
   "id": "20dfb08a",
   "metadata": {
    "execution": {
     "iopub.execute_input": "2022-10-18T12:47:10.951687Z",
     "iopub.status.busy": "2022-10-18T12:47:10.950841Z",
     "iopub.status.idle": "2022-10-18T12:47:10.969672Z",
     "shell.execute_reply": "2022-10-18T12:47:10.968795Z"
    },
    "papermill": {
     "duration": 0.025797,
     "end_time": "2022-10-18T12:47:10.971625",
     "exception": false,
     "start_time": "2022-10-18T12:47:10.945828",
     "status": "completed"
    },
    "tags": []
   },
   "outputs": [],
   "source": [
    "#모델 정의\n",
    "model = DNN().to(device)"
   ]
  },
  {
   "cell_type": "code",
   "execution_count": 12,
   "id": "8f0a1bc0",
   "metadata": {
    "execution": {
     "iopub.execute_input": "2022-10-18T12:47:10.981230Z",
     "iopub.status.busy": "2022-10-18T12:47:10.980937Z",
     "iopub.status.idle": "2022-10-18T12:47:10.985743Z",
     "shell.execute_reply": "2022-10-18T12:47:10.984785Z"
    },
    "papermill": {
     "duration": 0.011727,
     "end_time": "2022-10-18T12:47:10.987644",
     "exception": false,
     "start_time": "2022-10-18T12:47:10.975917",
     "status": "completed"
    },
    "tags": []
   },
   "outputs": [],
   "source": [
    "import torch.optim as optim\n",
    "\n",
    "#Optimizer 정의\n",
    "optimizer = optim.Adam(model.parameters(), lr=1e-3)\n",
    "\n",
    "#Loss 정의 (회귀문제이므로 MSELoss)\n",
    "loss = nn.MSELoss()"
   ]
  },
  {
   "cell_type": "code",
   "execution_count": 13,
   "id": "dbfd405e",
   "metadata": {
    "execution": {
     "iopub.execute_input": "2022-10-18T12:47:10.997327Z",
     "iopub.status.busy": "2022-10-18T12:47:10.996574Z",
     "iopub.status.idle": "2022-10-18T12:47:28.190022Z",
     "shell.execute_reply": "2022-10-18T12:47:28.187910Z"
    },
    "papermill": {
     "duration": 17.201236,
     "end_time": "2022-10-18T12:47:28.192913",
     "exception": false,
     "start_time": "2022-10-18T12:47:10.991677",
     "status": "completed"
    },
    "tags": []
   },
   "outputs": [
    {
     "name": "stdout",
     "output_type": "stream",
     "text": [
      "0 19233.349609375\n",
      "1000 435.4714660644531\n",
      "2000 177.73379516601562\n",
      "3000 108.16580200195312\n",
      "4000 71.62747192382812\n",
      "5000 70.63478088378906\n",
      "6000 77.67394256591797\n",
      "7000 56.495262145996094\n",
      "8000 43.20412063598633\n",
      "9000 43.591331481933594\n",
      "10000 36.53710174560547\n"
     ]
    }
   ],
   "source": [
    "#모델 학습\n",
    "epochs = 10000\n",
    "for epoch in range(epochs + 1):\n",
    "    \n",
    "    optimizer.zero_grad()\n",
    "    \n",
    "    hypothesis = model(X_train)\n",
    "    \n",
    "    cost = loss(hypothesis, y_train.unsqueeze(1))\n",
    "    \n",
    "    cost.backward()\n",
    "    \n",
    "    optimizer.step()\n",
    "    \n",
    "    if epoch % 1000 == 0:\n",
    "        print(epoch, cost.item())"
   ]
  },
  {
   "cell_type": "code",
   "execution_count": 14,
   "id": "07f3b46d",
   "metadata": {
    "execution": {
     "iopub.execute_input": "2022-10-18T12:47:28.205237Z",
     "iopub.status.busy": "2022-10-18T12:47:28.204885Z",
     "iopub.status.idle": "2022-10-18T12:47:28.210261Z",
     "shell.execute_reply": "2022-10-18T12:47:28.209213Z"
    },
    "papermill": {
     "duration": 0.01425,
     "end_time": "2022-10-18T12:47:28.212333",
     "exception": false,
     "start_time": "2022-10-18T12:47:28.198083",
     "status": "completed"
    },
    "tags": []
   },
   "outputs": [],
   "source": [
    "#학습한 모델을 이용해서 Test 데이터 예측\n",
    "with torch.no_grad():\n",
    "    model.eval()\n",
    "    predict = model(X_test)"
   ]
  },
  {
   "cell_type": "code",
   "execution_count": 15,
   "id": "50363db1",
   "metadata": {
    "execution": {
     "iopub.execute_input": "2022-10-18T12:47:28.223004Z",
     "iopub.status.busy": "2022-10-18T12:47:28.222738Z",
     "iopub.status.idle": "2022-10-18T12:47:28.231126Z",
     "shell.execute_reply": "2022-10-18T12:47:28.230264Z"
    },
    "papermill": {
     "duration": 0.016048,
     "end_time": "2022-10-18T12:47:28.233036",
     "exception": false,
     "start_time": "2022-10-18T12:47:28.216988",
     "status": "completed"
    },
    "tags": []
   },
   "outputs": [],
   "source": [
    "#예측한 값을 csv로 변환\n",
    "sample['count'] = predict.cpu().detach().numpy()\n",
    "sample.to_csv('submit.csv',index=False)"
   ]
  },
  {
   "cell_type": "code",
   "execution_count": null,
   "id": "ec8db5d7",
   "metadata": {
    "papermill": {
     "duration": 0.004418,
     "end_time": "2022-10-18T12:47:28.242224",
     "exception": false,
     "start_time": "2022-10-18T12:47:28.237806",
     "status": "completed"
    },
    "tags": []
   },
   "outputs": [],
   "source": []
  }
 ],
 "metadata": {
  "kernelspec": {
   "display_name": "Python 3",
   "language": "python",
   "name": "python3"
  },
  "language_info": {
   "codemirror_mode": {
    "name": "ipython",
    "version": 3
   },
   "file_extension": ".py",
   "mimetype": "text/x-python",
   "name": "python",
   "nbconvert_exporter": "python",
   "pygments_lexer": "ipython3",
   "version": "3.7.12"
  },
  "papermill": {
   "default_parameters": {},
   "duration": 31.776236,
   "end_time": "2022-10-18T12:47:29.368223",
   "environment_variables": {},
   "exception": null,
   "input_path": "__notebook__.ipynb",
   "output_path": "__notebook__.ipynb",
   "parameters": {},
   "start_time": "2022-10-18T12:46:57.591987",
   "version": "2.3.4"
  }
 },
 "nbformat": 4,
 "nbformat_minor": 5
}
