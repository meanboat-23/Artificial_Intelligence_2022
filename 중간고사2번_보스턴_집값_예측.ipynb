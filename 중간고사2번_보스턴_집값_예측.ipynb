{
 "cells": [
  {
   "cell_type": "code",
   "execution_count": 1,
   "id": "978f48a8",
   "metadata": {
    "_cell_guid": "b1076dfc-b9ad-4769-8c92-a6c4dae69d19",
    "_uuid": "8f2839f25d086af736a60e9eeb907d3b93b6e0e5",
    "execution": {
     "iopub.execute_input": "2022-10-18T12:18:50.306026Z",
     "iopub.status.busy": "2022-10-18T12:18:50.305179Z",
     "iopub.status.idle": "2022-10-18T12:18:50.318067Z",
     "shell.execute_reply": "2022-10-18T12:18:50.317082Z"
    },
    "papermill": {
     "duration": 0.021732,
     "end_time": "2022-10-18T12:18:50.320266",
     "exception": false,
     "start_time": "2022-10-18T12:18:50.298534",
     "status": "completed"
    },
    "tags": []
   },
   "outputs": [
    {
     "name": "stdout",
     "output_type": "stream",
     "text": [
      "/kaggle/input/2022-ai-midterm-p2/train.csv\n",
      "/kaggle/input/2022-ai-midterm-p2/test.csv\n",
      "/kaggle/input/2022-ai-midterm-p2/submit_sample.csv\n"
     ]
    }
   ],
   "source": [
    "# This Python 3 environment comes with many helpful analytics libraries installed\n",
    "# It is defined by the kaggle/python Docker image: https://github.com/kaggle/docker-python\n",
    "# For example, here's several helpful packages to load\n",
    "\n",
    "import numpy as np # linear algebra\n",
    "import pandas as pd # data processing, CSV file I/O (e.g. pd.read_csv)\n",
    "\n",
    "# Input data files are available in the read-only \"../input/\" directory\n",
    "# For example, running this (by clicking run or pressing Shift+Enter) will list all files under the input directory\n",
    "\n",
    "import os\n",
    "for dirname, _, filenames in os.walk('/kaggle/input'):\n",
    "    for filename in filenames:\n",
    "        print(os.path.join(dirname, filename))\n",
    "\n",
    "# You can write up to 20GB to the current directory (/kaggle/working/) that gets preserved as output when you create a version using \"Save & Run All\" \n",
    "# You can also write temporary files to /kaggle/temp/, but they won't be saved outside of the current session"
   ]
  },
  {
   "cell_type": "code",
   "execution_count": 2,
   "id": "fc496183",
   "metadata": {
    "execution": {
     "iopub.execute_input": "2022-10-18T12:18:50.328802Z",
     "iopub.status.busy": "2022-10-18T12:18:50.328529Z",
     "iopub.status.idle": "2022-10-18T12:18:52.093201Z",
     "shell.execute_reply": "2022-10-18T12:18:52.092159Z"
    },
    "papermill": {
     "duration": 1.771991,
     "end_time": "2022-10-18T12:18:52.096075",
     "exception": false,
     "start_time": "2022-10-18T12:18:50.324084",
     "status": "completed"
    },
    "tags": []
   },
   "outputs": [],
   "source": [
    "#랜덤시드 고정\n",
    "import random\n",
    "import torch\n",
    "\n",
    "seed = 1\n",
    "random.seed(seed)\n",
    "np.random.seed(seed)\n",
    "torch.manual_seed(seed)\n",
    "if torch.cuda.is_available():\n",
    "    torch.cuda.manual_seed(seed)\n",
    "    torch.cuda.manual_seed_all(seed)\n",
    "torch.backends.cudnn.benchmark = False\n",
    "torch.backends.cudnn.deterministic = True"
   ]
  },
  {
   "cell_type": "code",
   "execution_count": 3,
   "id": "e809095a",
   "metadata": {
    "execution": {
     "iopub.execute_input": "2022-10-18T12:18:52.109198Z",
     "iopub.status.busy": "2022-10-18T12:18:52.108518Z",
     "iopub.status.idle": "2022-10-18T12:18:52.139692Z",
     "shell.execute_reply": "2022-10-18T12:18:52.138879Z"
    },
    "papermill": {
     "duration": 0.040251,
     "end_time": "2022-10-18T12:18:52.142227",
     "exception": false,
     "start_time": "2022-10-18T12:18:52.101976",
     "status": "completed"
    },
    "tags": []
   },
   "outputs": [],
   "source": [
    "#데이터 로드\n",
    "sample = pd.read_csv('/kaggle/input/2022-ai-midterm-p2/submit_sample.csv')\n",
    "train = pd.read_csv('/kaggle/input/2022-ai-midterm-p2/train.csv')\n",
    "test = pd.read_csv('/kaggle/input/2022-ai-midterm-p2/test.csv')"
   ]
  },
  {
   "cell_type": "code",
   "execution_count": 4,
   "id": "21b3f5d2",
   "metadata": {
    "execution": {
     "iopub.execute_input": "2022-10-18T12:18:52.154998Z",
     "iopub.status.busy": "2022-10-18T12:18:52.154686Z",
     "iopub.status.idle": "2022-10-18T12:18:52.159302Z",
     "shell.execute_reply": "2022-10-18T12:18:52.158398Z"
    },
    "papermill": {
     "duration": 0.013598,
     "end_time": "2022-10-18T12:18:52.161629",
     "exception": false,
     "start_time": "2022-10-18T12:18:52.148031",
     "status": "completed"
    },
    "tags": []
   },
   "outputs": [],
   "source": [
    "#gpu 사용가능하면 사용하는 설정\n",
    "device = 'cuda' if torch.cuda.is_available() else 'cpu'"
   ]
  },
  {
   "cell_type": "code",
   "execution_count": 5,
   "id": "a417ee59",
   "metadata": {
    "execution": {
     "iopub.execute_input": "2022-10-18T12:18:52.173979Z",
     "iopub.status.busy": "2022-10-18T12:18:52.173640Z",
     "iopub.status.idle": "2022-10-18T12:18:52.207958Z",
     "shell.execute_reply": "2022-10-18T12:18:52.206791Z"
    },
    "papermill": {
     "duration": 0.043303,
     "end_time": "2022-10-18T12:18:52.210602",
     "exception": false,
     "start_time": "2022-10-18T12:18:52.167299",
     "status": "completed"
    },
    "tags": []
   },
   "outputs": [
    {
     "name": "stdout",
     "output_type": "stream",
     "text": [
      "<class 'pandas.core.frame.DataFrame'>\n",
      "RangeIndex: 404 entries, 0 to 403\n",
      "Data columns (total 15 columns):\n",
      " #   Column   Non-Null Count  Dtype  \n",
      "---  ------   --------------  -----  \n",
      " 0   ID       404 non-null    int64  \n",
      " 1   CRIM     404 non-null    float64\n",
      " 2   ZN       404 non-null    float64\n",
      " 3   INDUS    404 non-null    float64\n",
      " 4   CHAS     404 non-null    int64  \n",
      " 5   NOX      404 non-null    float64\n",
      " 6   RM       404 non-null    float64\n",
      " 7   AGE      404 non-null    float64\n",
      " 8   DIS      404 non-null    float64\n",
      " 9   RAD      404 non-null    int64  \n",
      " 10  TAX      404 non-null    int64  \n",
      " 11  PTRATIO  404 non-null    float64\n",
      " 12  B        404 non-null    float64\n",
      " 13  LSTST    404 non-null    float64\n",
      " 14  MEDV     404 non-null    float64\n",
      "dtypes: float64(11), int64(4)\n",
      "memory usage: 47.5 KB\n",
      "<class 'pandas.core.frame.DataFrame'>\n",
      "RangeIndex: 102 entries, 0 to 101\n",
      "Data columns (total 14 columns):\n",
      " #   Column   Non-Null Count  Dtype  \n",
      "---  ------   --------------  -----  \n",
      " 0   ID       102 non-null    int64  \n",
      " 1   CRIM     102 non-null    float64\n",
      " 2   ZN       102 non-null    float64\n",
      " 3   INDUS    102 non-null    float64\n",
      " 4   CHAS     102 non-null    int64  \n",
      " 5   NOX      102 non-null    float64\n",
      " 6   RM       102 non-null    float64\n",
      " 7   AGE      102 non-null    float64\n",
      " 8   DIS      102 non-null    float64\n",
      " 9   RAD      102 non-null    int64  \n",
      " 10  TAX      102 non-null    int64  \n",
      " 11  PTRATIO  102 non-null    float64\n",
      " 12  B        102 non-null    float64\n",
      " 13  LSTST    102 non-null    float64\n",
      "dtypes: float64(10), int64(4)\n",
      "memory usage: 11.3 KB\n"
     ]
    }
   ],
   "source": [
    "#데이터 정보 확인\n",
    "train.info()\n",
    "test.info()"
   ]
  },
  {
   "cell_type": "code",
   "execution_count": 6,
   "id": "ca7bba28",
   "metadata": {
    "execution": {
     "iopub.execute_input": "2022-10-18T12:18:52.223571Z",
     "iopub.status.busy": "2022-10-18T12:18:52.223148Z",
     "iopub.status.idle": "2022-10-18T12:18:52.268960Z",
     "shell.execute_reply": "2022-10-18T12:18:52.267926Z"
    },
    "papermill": {
     "duration": 0.054307,
     "end_time": "2022-10-18T12:18:52.270893",
     "exception": false,
     "start_time": "2022-10-18T12:18:52.216586",
     "status": "completed"
    },
    "tags": []
   },
   "outputs": [
    {
     "data": {
      "text/html": [
       "<div>\n",
       "<style scoped>\n",
       "    .dataframe tbody tr th:only-of-type {\n",
       "        vertical-align: middle;\n",
       "    }\n",
       "\n",
       "    .dataframe tbody tr th {\n",
       "        vertical-align: top;\n",
       "    }\n",
       "\n",
       "    .dataframe thead th {\n",
       "        text-align: right;\n",
       "    }\n",
       "</style>\n",
       "<table border=\"1\" class=\"dataframe\">\n",
       "  <thead>\n",
       "    <tr style=\"text-align: right;\">\n",
       "      <th></th>\n",
       "      <th>ID</th>\n",
       "      <th>CRIM</th>\n",
       "      <th>ZN</th>\n",
       "      <th>INDUS</th>\n",
       "      <th>CHAS</th>\n",
       "      <th>NOX</th>\n",
       "      <th>RM</th>\n",
       "      <th>AGE</th>\n",
       "      <th>DIS</th>\n",
       "      <th>RAD</th>\n",
       "      <th>TAX</th>\n",
       "      <th>PTRATIO</th>\n",
       "      <th>B</th>\n",
       "      <th>LSTST</th>\n",
       "      <th>MEDV</th>\n",
       "    </tr>\n",
       "  </thead>\n",
       "  <tbody>\n",
       "    <tr>\n",
       "      <th>0</th>\n",
       "      <td>0</td>\n",
       "      <td>0.14150</td>\n",
       "      <td>0.0</td>\n",
       "      <td>6.91</td>\n",
       "      <td>0</td>\n",
       "      <td>0.448</td>\n",
       "      <td>6.169</td>\n",
       "      <td>6.6</td>\n",
       "      <td>5.7209</td>\n",
       "      <td>3</td>\n",
       "      <td>233</td>\n",
       "      <td>17.9</td>\n",
       "      <td>383.37</td>\n",
       "      <td>5.81</td>\n",
       "      <td>25.3</td>\n",
       "    </tr>\n",
       "    <tr>\n",
       "      <th>1</th>\n",
       "      <td>1</td>\n",
       "      <td>0.15445</td>\n",
       "      <td>25.0</td>\n",
       "      <td>5.13</td>\n",
       "      <td>0</td>\n",
       "      <td>0.453</td>\n",
       "      <td>6.145</td>\n",
       "      <td>29.2</td>\n",
       "      <td>7.8148</td>\n",
       "      <td>8</td>\n",
       "      <td>284</td>\n",
       "      <td>19.7</td>\n",
       "      <td>390.68</td>\n",
       "      <td>6.86</td>\n",
       "      <td>23.3</td>\n",
       "    </tr>\n",
       "    <tr>\n",
       "      <th>2</th>\n",
       "      <td>2</td>\n",
       "      <td>16.81180</td>\n",
       "      <td>0.0</td>\n",
       "      <td>18.10</td>\n",
       "      <td>0</td>\n",
       "      <td>0.700</td>\n",
       "      <td>5.277</td>\n",
       "      <td>98.1</td>\n",
       "      <td>1.4261</td>\n",
       "      <td>24</td>\n",
       "      <td>666</td>\n",
       "      <td>20.2</td>\n",
       "      <td>396.90</td>\n",
       "      <td>30.81</td>\n",
       "      <td>7.2</td>\n",
       "    </tr>\n",
       "    <tr>\n",
       "      <th>3</th>\n",
       "      <td>3</td>\n",
       "      <td>0.05646</td>\n",
       "      <td>0.0</td>\n",
       "      <td>12.83</td>\n",
       "      <td>0</td>\n",
       "      <td>0.437</td>\n",
       "      <td>6.232</td>\n",
       "      <td>53.7</td>\n",
       "      <td>5.0141</td>\n",
       "      <td>5</td>\n",
       "      <td>398</td>\n",
       "      <td>18.7</td>\n",
       "      <td>386.40</td>\n",
       "      <td>12.34</td>\n",
       "      <td>21.2</td>\n",
       "    </tr>\n",
       "    <tr>\n",
       "      <th>4</th>\n",
       "      <td>4</td>\n",
       "      <td>8.79212</td>\n",
       "      <td>0.0</td>\n",
       "      <td>18.10</td>\n",
       "      <td>0</td>\n",
       "      <td>0.584</td>\n",
       "      <td>5.565</td>\n",
       "      <td>70.6</td>\n",
       "      <td>2.0635</td>\n",
       "      <td>24</td>\n",
       "      <td>666</td>\n",
       "      <td>20.2</td>\n",
       "      <td>3.65</td>\n",
       "      <td>17.16</td>\n",
       "      <td>11.7</td>\n",
       "    </tr>\n",
       "    <tr>\n",
       "      <th>...</th>\n",
       "      <td>...</td>\n",
       "      <td>...</td>\n",
       "      <td>...</td>\n",
       "      <td>...</td>\n",
       "      <td>...</td>\n",
       "      <td>...</td>\n",
       "      <td>...</td>\n",
       "      <td>...</td>\n",
       "      <td>...</td>\n",
       "      <td>...</td>\n",
       "      <td>...</td>\n",
       "      <td>...</td>\n",
       "      <td>...</td>\n",
       "      <td>...</td>\n",
       "      <td>...</td>\n",
       "    </tr>\n",
       "    <tr>\n",
       "      <th>399</th>\n",
       "      <td>399</td>\n",
       "      <td>0.03548</td>\n",
       "      <td>80.0</td>\n",
       "      <td>3.64</td>\n",
       "      <td>0</td>\n",
       "      <td>0.392</td>\n",
       "      <td>5.876</td>\n",
       "      <td>19.1</td>\n",
       "      <td>9.2203</td>\n",
       "      <td>1</td>\n",
       "      <td>315</td>\n",
       "      <td>16.4</td>\n",
       "      <td>395.18</td>\n",
       "      <td>9.25</td>\n",
       "      <td>20.9</td>\n",
       "    </tr>\n",
       "    <tr>\n",
       "      <th>400</th>\n",
       "      <td>400</td>\n",
       "      <td>0.09164</td>\n",
       "      <td>0.0</td>\n",
       "      <td>10.81</td>\n",
       "      <td>0</td>\n",
       "      <td>0.413</td>\n",
       "      <td>6.065</td>\n",
       "      <td>7.8</td>\n",
       "      <td>5.2873</td>\n",
       "      <td>4</td>\n",
       "      <td>305</td>\n",
       "      <td>19.2</td>\n",
       "      <td>390.91</td>\n",
       "      <td>5.52</td>\n",
       "      <td>22.8</td>\n",
       "    </tr>\n",
       "    <tr>\n",
       "      <th>401</th>\n",
       "      <td>401</td>\n",
       "      <td>5.87205</td>\n",
       "      <td>0.0</td>\n",
       "      <td>18.10</td>\n",
       "      <td>0</td>\n",
       "      <td>0.693</td>\n",
       "      <td>6.405</td>\n",
       "      <td>96.0</td>\n",
       "      <td>1.6768</td>\n",
       "      <td>24</td>\n",
       "      <td>666</td>\n",
       "      <td>20.2</td>\n",
       "      <td>396.90</td>\n",
       "      <td>19.37</td>\n",
       "      <td>12.5</td>\n",
       "    </tr>\n",
       "    <tr>\n",
       "      <th>402</th>\n",
       "      <td>402</td>\n",
       "      <td>0.33045</td>\n",
       "      <td>0.0</td>\n",
       "      <td>6.20</td>\n",
       "      <td>0</td>\n",
       "      <td>0.507</td>\n",
       "      <td>6.086</td>\n",
       "      <td>61.5</td>\n",
       "      <td>3.6519</td>\n",
       "      <td>8</td>\n",
       "      <td>307</td>\n",
       "      <td>17.4</td>\n",
       "      <td>376.75</td>\n",
       "      <td>10.88</td>\n",
       "      <td>24.0</td>\n",
       "    </tr>\n",
       "    <tr>\n",
       "      <th>403</th>\n",
       "      <td>403</td>\n",
       "      <td>0.08014</td>\n",
       "      <td>0.0</td>\n",
       "      <td>5.96</td>\n",
       "      <td>0</td>\n",
       "      <td>0.499</td>\n",
       "      <td>5.850</td>\n",
       "      <td>41.5</td>\n",
       "      <td>3.9342</td>\n",
       "      <td>5</td>\n",
       "      <td>279</td>\n",
       "      <td>19.2</td>\n",
       "      <td>396.90</td>\n",
       "      <td>8.77</td>\n",
       "      <td>21.0</td>\n",
       "    </tr>\n",
       "  </tbody>\n",
       "</table>\n",
       "<p>404 rows × 15 columns</p>\n",
       "</div>"
      ],
      "text/plain": [
       "      ID      CRIM    ZN  INDUS  CHAS    NOX     RM   AGE     DIS  RAD  TAX  \\\n",
       "0      0   0.14150   0.0   6.91     0  0.448  6.169   6.6  5.7209    3  233   \n",
       "1      1   0.15445  25.0   5.13     0  0.453  6.145  29.2  7.8148    8  284   \n",
       "2      2  16.81180   0.0  18.10     0  0.700  5.277  98.1  1.4261   24  666   \n",
       "3      3   0.05646   0.0  12.83     0  0.437  6.232  53.7  5.0141    5  398   \n",
       "4      4   8.79212   0.0  18.10     0  0.584  5.565  70.6  2.0635   24  666   \n",
       "..   ...       ...   ...    ...   ...    ...    ...   ...     ...  ...  ...   \n",
       "399  399   0.03548  80.0   3.64     0  0.392  5.876  19.1  9.2203    1  315   \n",
       "400  400   0.09164   0.0  10.81     0  0.413  6.065   7.8  5.2873    4  305   \n",
       "401  401   5.87205   0.0  18.10     0  0.693  6.405  96.0  1.6768   24  666   \n",
       "402  402   0.33045   0.0   6.20     0  0.507  6.086  61.5  3.6519    8  307   \n",
       "403  403   0.08014   0.0   5.96     0  0.499  5.850  41.5  3.9342    5  279   \n",
       "\n",
       "     PTRATIO       B  LSTST  MEDV  \n",
       "0       17.9  383.37   5.81  25.3  \n",
       "1       19.7  390.68   6.86  23.3  \n",
       "2       20.2  396.90  30.81   7.2  \n",
       "3       18.7  386.40  12.34  21.2  \n",
       "4       20.2    3.65  17.16  11.7  \n",
       "..       ...     ...    ...   ...  \n",
       "399     16.4  395.18   9.25  20.9  \n",
       "400     19.2  390.91   5.52  22.8  \n",
       "401     20.2  396.90  19.37  12.5  \n",
       "402     17.4  376.75  10.88  24.0  \n",
       "403     19.2  396.90   8.77  21.0  \n",
       "\n",
       "[404 rows x 15 columns]"
      ]
     },
     "execution_count": 6,
     "metadata": {},
     "output_type": "execute_result"
    }
   ],
   "source": [
    "train"
   ]
  },
  {
   "cell_type": "code",
   "execution_count": 7,
   "id": "476aaeed",
   "metadata": {
    "execution": {
     "iopub.execute_input": "2022-10-18T12:18:52.283192Z",
     "iopub.status.busy": "2022-10-18T12:18:52.282847Z",
     "iopub.status.idle": "2022-10-18T12:18:52.967290Z",
     "shell.execute_reply": "2022-10-18T12:18:52.966320Z"
    },
    "papermill": {
     "duration": 0.694268,
     "end_time": "2022-10-18T12:18:52.969672",
     "exception": false,
     "start_time": "2022-10-18T12:18:52.275404",
     "status": "completed"
    },
    "tags": []
   },
   "outputs": [],
   "source": [
    "#데이터 전처리\n",
    "xtrain = train.drop(['ID','MEDV'],axis=1)\n",
    "ytrain = train['MEDV']\n",
    "xtest = test.drop(['ID'],axis=1)\n",
    "\n",
    "from sklearn.preprocessing import StandardScaler\n",
    "\n",
    "sc = StandardScaler()\n",
    "\n",
    "xtrain_std = sc.fit_transform(xtrain)\n",
    "xtest_std = sc.transform(xtest)"
   ]
  },
  {
   "cell_type": "code",
   "execution_count": 8,
   "id": "7c0e83de",
   "metadata": {
    "execution": {
     "iopub.execute_input": "2022-10-18T12:18:52.980803Z",
     "iopub.status.busy": "2022-10-18T12:18:52.979341Z",
     "iopub.status.idle": "2022-10-18T12:18:55.746769Z",
     "shell.execute_reply": "2022-10-18T12:18:55.745804Z"
    },
    "papermill": {
     "duration": 2.775226,
     "end_time": "2022-10-18T12:18:55.749434",
     "exception": false,
     "start_time": "2022-10-18T12:18:52.974208",
     "status": "completed"
    },
    "tags": []
   },
   "outputs": [],
   "source": [
    "# X_train = torch.FloatTensor(np.array(xtrain)).to(device)\n",
    "# y_train = torch.FloatTensor(np.array(ytrain)).to(device)\n",
    "# X_test = torch.FloatTensor(np.array(xtest)).to(device)\n",
    "X_train = torch.FloatTensor(np.array(xtrain_std)).to(device)\n",
    "y_train = torch.FloatTensor(np.array(ytrain)).to(device)\n",
    "X_test = torch.FloatTensor(np.array(xtest_std)).to(device)"
   ]
  },
  {
   "cell_type": "code",
   "execution_count": 9,
   "id": "bd378e1c",
   "metadata": {
    "execution": {
     "iopub.execute_input": "2022-10-18T12:18:55.759476Z",
     "iopub.status.busy": "2022-10-18T12:18:55.759163Z",
     "iopub.status.idle": "2022-10-18T12:18:55.766409Z",
     "shell.execute_reply": "2022-10-18T12:18:55.765507Z"
    },
    "papermill": {
     "duration": 0.014506,
     "end_time": "2022-10-18T12:18:55.768421",
     "exception": false,
     "start_time": "2022-10-18T12:18:55.753915",
     "status": "completed"
    },
    "tags": []
   },
   "outputs": [
    {
     "name": "stdout",
     "output_type": "stream",
     "text": [
      "torch.Size([404, 13])\n",
      "torch.Size([404])\n"
     ]
    }
   ],
   "source": [
    "#모델 빌드에 필요한 설정값 확인\n",
    "print(X_train.shape)\n",
    "print(y_train.shape)"
   ]
  },
  {
   "cell_type": "code",
   "execution_count": 10,
   "id": "393a99b6",
   "metadata": {
    "execution": {
     "iopub.execute_input": "2022-10-18T12:18:55.779018Z",
     "iopub.status.busy": "2022-10-18T12:18:55.778114Z",
     "iopub.status.idle": "2022-10-18T12:18:55.787355Z",
     "shell.execute_reply": "2022-10-18T12:18:55.786517Z"
    },
    "papermill": {
     "duration": 0.01646,
     "end_time": "2022-10-18T12:18:55.789332",
     "exception": false,
     "start_time": "2022-10-18T12:18:55.772872",
     "status": "completed"
    },
    "tags": []
   },
   "outputs": [],
   "source": [
    "#모델 빌드\n",
    "import torch.nn as nn\n",
    "\n",
    "class DNN(nn.Module):\n",
    "    def __init__(self):\n",
    "        super().__init__()\n",
    "        self.linear1 = nn.Linear(13, 512,bias=True)\n",
    "        self.linear2 = nn.Linear(512, 512,bias=True)\n",
    "        self.linear3 = nn.Linear(512, 512,bias=True)\n",
    "        self.linear4 = nn.Linear(512, 1,bias=True)\n",
    "        \n",
    "        self.active = nn.ReLU()\n",
    "        self.dropout = nn.Dropout(0.2)\n",
    "        \n",
    "        nn.init.xavier_normal_(self.linear1.weight)\n",
    "        nn.init.xavier_normal_(self.linear2.weight)\n",
    "        nn.init.xavier_normal_(self.linear3.weight)\n",
    "        nn.init.xavier_normal_(self.linear4.weight)\n",
    "        \n",
    "    def forward(self, x):\n",
    "        x = self.linear1(x)\n",
    "        x = self.active(x)\n",
    "        x = self.dropout(x)\n",
    "        x = self.linear2(x)\n",
    "        x = self.active(x)\n",
    "        x = self.dropout(x)\n",
    "        x = self.linear3(x)\n",
    "        x = self.active(x)\n",
    "        x = self.dropout(x)\n",
    "        x = self.linear4(x)\n",
    "        \n",
    "        return x"
   ]
  },
  {
   "cell_type": "code",
   "execution_count": 11,
   "id": "3258740d",
   "metadata": {
    "execution": {
     "iopub.execute_input": "2022-10-18T12:18:55.798868Z",
     "iopub.status.busy": "2022-10-18T12:18:55.798585Z",
     "iopub.status.idle": "2022-10-18T12:18:55.817769Z",
     "shell.execute_reply": "2022-10-18T12:18:55.816955Z"
    },
    "papermill": {
     "duration": 0.026627,
     "end_time": "2022-10-18T12:18:55.820224",
     "exception": false,
     "start_time": "2022-10-18T12:18:55.793597",
     "status": "completed"
    },
    "tags": []
   },
   "outputs": [],
   "source": [
    "#모델 정의\n",
    "model1 = DNN().to(device)"
   ]
  },
  {
   "cell_type": "code",
   "execution_count": 12,
   "id": "710e711d",
   "metadata": {
    "execution": {
     "iopub.execute_input": "2022-10-18T12:18:55.829805Z",
     "iopub.status.busy": "2022-10-18T12:18:55.829539Z",
     "iopub.status.idle": "2022-10-18T12:18:55.834267Z",
     "shell.execute_reply": "2022-10-18T12:18:55.833359Z"
    },
    "papermill": {
     "duration": 0.011787,
     "end_time": "2022-10-18T12:18:55.836237",
     "exception": false,
     "start_time": "2022-10-18T12:18:55.824450",
     "status": "completed"
    },
    "tags": []
   },
   "outputs": [],
   "source": [
    "import torch.optim as optim\n",
    "\n",
    "#Optimizer 정의\n",
    "optimizer = optim.Adam(model1.parameters(), lr=1e-3)\n",
    "\n",
    "#Loss 정의 (회귀문제이므로 MSELoss)\n",
    "loss = nn.MSELoss()"
   ]
  },
  {
   "cell_type": "code",
   "execution_count": 13,
   "id": "0d3769d0",
   "metadata": {
    "execution": {
     "iopub.execute_input": "2022-10-18T12:18:55.845919Z",
     "iopub.status.busy": "2022-10-18T12:18:55.845140Z",
     "iopub.status.idle": "2022-10-18T12:19:12.878491Z",
     "shell.execute_reply": "2022-10-18T12:19:12.876624Z"
    },
    "papermill": {
     "duration": 17.042731,
     "end_time": "2022-10-18T12:19:12.883020",
     "exception": false,
     "start_time": "2022-10-18T12:18:55.840289",
     "status": "completed"
    },
    "tags": []
   },
   "outputs": [
    {
     "name": "stdout",
     "output_type": "stream",
     "text": [
      "0 582.80126953125\n",
      "1000 3.1805286407470703\n",
      "2000 2.1463098526000977\n",
      "3000 1.8916264772415161\n",
      "4000 1.467797040939331\n",
      "5000 1.4483104944229126\n",
      "6000 1.3571479320526123\n",
      "7000 0.996638298034668\n",
      "8000 0.9676797389984131\n",
      "9000 1.002044916152954\n",
      "10000 0.934146523475647\n"
     ]
    }
   ],
   "source": [
    "#모델 학습\n",
    "epochs = 10000\n",
    "for epoch in range(epochs + 1):\n",
    "    \n",
    "    optimizer.zero_grad()\n",
    "    \n",
    "    hypothesis = model1(X_train)\n",
    "    \n",
    "    cost = loss(hypothesis ,y_train.unsqueeze(1))\n",
    "    \n",
    "    cost.backward()\n",
    "    \n",
    "    optimizer.step()\n",
    "    \n",
    "    if epoch % 1000 == 0:\n",
    "        print(epoch, cost.item())"
   ]
  },
  {
   "cell_type": "code",
   "execution_count": 14,
   "id": "5feb2cb2",
   "metadata": {
    "execution": {
     "iopub.execute_input": "2022-10-18T12:19:12.894868Z",
     "iopub.status.busy": "2022-10-18T12:19:12.894527Z",
     "iopub.status.idle": "2022-10-18T12:19:12.900655Z",
     "shell.execute_reply": "2022-10-18T12:19:12.899693Z"
    },
    "papermill": {
     "duration": 0.01493,
     "end_time": "2022-10-18T12:19:12.903042",
     "exception": false,
     "start_time": "2022-10-18T12:19:12.888112",
     "status": "completed"
    },
    "tags": []
   },
   "outputs": [],
   "source": [
    "#학습한 모델을 이용해서 Test 데이터 예측\n",
    "with torch.no_grad():\n",
    "    model1.eval()\n",
    "    predict = model1(X_test)"
   ]
  },
  {
   "cell_type": "code",
   "execution_count": 15,
   "id": "5ae757b5",
   "metadata": {
    "execution": {
     "iopub.execute_input": "2022-10-18T12:19:12.913484Z",
     "iopub.status.busy": "2022-10-18T12:19:12.913205Z",
     "iopub.status.idle": "2022-10-18T12:19:12.922026Z",
     "shell.execute_reply": "2022-10-18T12:19:12.921191Z"
    },
    "papermill": {
     "duration": 0.016489,
     "end_time": "2022-10-18T12:19:12.924093",
     "exception": false,
     "start_time": "2022-10-18T12:19:12.907604",
     "status": "completed"
    },
    "tags": []
   },
   "outputs": [],
   "source": [
    "#예측한 값을 csv로 변환\n",
    "sample['MEDV'] = predict.cpu().detach().numpy()\n",
    "sample.to_csv('submit.csv',index=False)"
   ]
  },
  {
   "cell_type": "code",
   "execution_count": null,
   "id": "5bcfe842",
   "metadata": {
    "papermill": {
     "duration": 0.004439,
     "end_time": "2022-10-18T12:19:12.933324",
     "exception": false,
     "start_time": "2022-10-18T12:19:12.928885",
     "status": "completed"
    },
    "tags": []
   },
   "outputs": [],
   "source": []
  }
 ],
 "metadata": {
  "kernelspec": {
   "display_name": "Python 3",
   "language": "python",
   "name": "python3"
  },
  "language_info": {
   "codemirror_mode": {
    "name": "ipython",
    "version": 3
   },
   "file_extension": ".py",
   "mimetype": "text/x-python",
   "name": "python",
   "nbconvert_exporter": "python",
   "pygments_lexer": "ipython3",
   "version": "3.7.12"
  },
  "papermill": {
   "default_parameters": {},
   "duration": 31.821653,
   "end_time": "2022-10-18T12:19:14.059819",
   "environment_variables": {},
   "exception": null,
   "input_path": "__notebook__.ipynb",
   "output_path": "__notebook__.ipynb",
   "parameters": {},
   "start_time": "2022-10-18T12:18:42.238166",
   "version": "2.3.4"
  }
 },
 "nbformat": 4,
 "nbformat_minor": 5
}
