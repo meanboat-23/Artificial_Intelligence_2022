{
 "cells": [
  {
   "cell_type": "code",
   "execution_count": 1,
   "id": "a82ab0ff",
   "metadata": {
    "_cell_guid": "b1076dfc-b9ad-4769-8c92-a6c4dae69d19",
    "_uuid": "8f2839f25d086af736a60e9eeb907d3b93b6e0e5",
    "execution": {
     "iopub.execute_input": "2022-12-13T12:24:45.271142Z",
     "iopub.status.busy": "2022-12-13T12:24:45.270704Z",
     "iopub.status.idle": "2022-12-13T12:25:28.260935Z",
     "shell.execute_reply": "2022-12-13T12:25:28.259929Z"
    },
    "papermill": {
     "duration": 42.999211,
     "end_time": "2022-12-13T12:25:28.263541",
     "exception": false,
     "start_time": "2022-12-13T12:24:45.264330",
     "status": "completed"
    },
    "tags": []
   },
   "outputs": [],
   "source": [
    "# This Python 3 environment comes with many helpful analytics libraries installed\n",
    "# It is defined by the kaggle/python Docker image: https://github.com/kaggle/docker-python\n",
    "# For example, here's several helpful packages to load\n",
    "\n",
    "import numpy as np # linear algebra\n",
    "import pandas as pd # data processing, CSV file I/O (e.g. pd.read_csv)\n",
    "\n",
    "# Input data files are available in the read-only \"../input/\" directory\n",
    "# For example, running this (by clicking run or pressing Shift+Enter) will list all files under the input directory\n",
    "\n",
    "import os\n",
    "for dirname, _, filenames in os.walk('/kaggle/input'):\n",
    "    for filename in filenames:\n",
    "        pass\n",
    "#         print(os.path.join(dirname, filename))\n",
    "\n",
    "# You can write up to 20GB to the current directory (/kaggle/working/) that gets preserved as output when you create a version using \"Save & Run All\" \n",
    "# You can also write temporary files to /kaggle/temp/, but they won't be saved outside of the current session"
   ]
  },
  {
   "cell_type": "code",
   "execution_count": 2,
   "id": "dcaabea3",
   "metadata": {
    "execution": {
     "iopub.execute_input": "2022-12-13T12:25:28.274223Z",
     "iopub.status.busy": "2022-12-13T12:25:28.272558Z",
     "iopub.status.idle": "2022-12-13T12:25:30.078830Z",
     "shell.execute_reply": "2022-12-13T12:25:30.077688Z"
    },
    "papermill": {
     "duration": 1.813651,
     "end_time": "2022-12-13T12:25:30.081338",
     "exception": false,
     "start_time": "2022-12-13T12:25:28.267687",
     "status": "completed"
    },
    "tags": []
   },
   "outputs": [],
   "source": [
    "#랜덤시드 고정\n",
    "import random\n",
    "import torch\n",
    "\n",
    "seed = 42\n",
    "random.seed(seed)\n",
    "np.random.seed(seed)\n",
    "torch.manual_seed(seed)\n",
    "if torch.cuda.is_available():\n",
    "    torch.cuda.manual_seed(seed)\n",
    "    torch.cuda.manual_seed_all(seed)\n",
    "torch.backends.cudnn.benchmark = False\n",
    "torch.backends.cudnn.deterministic = True"
   ]
  },
  {
   "cell_type": "code",
   "execution_count": 3,
   "id": "de4d97fb",
   "metadata": {
    "execution": {
     "iopub.execute_input": "2022-12-13T12:25:30.091197Z",
     "iopub.status.busy": "2022-12-13T12:25:30.090017Z",
     "iopub.status.idle": "2022-12-13T12:25:30.095384Z",
     "shell.execute_reply": "2022-12-13T12:25:30.094444Z"
    },
    "papermill": {
     "duration": 0.012121,
     "end_time": "2022-12-13T12:25:30.097373",
     "exception": false,
     "start_time": "2022-12-13T12:25:30.085252",
     "status": "completed"
    },
    "tags": []
   },
   "outputs": [],
   "source": [
    "#gpu 사용가능하면 사용하는 설정\n",
    "device = 'cuda' if torch.cuda.is_available() else 'cpu'"
   ]
  },
  {
   "cell_type": "code",
   "execution_count": 4,
   "id": "6fb72b8f",
   "metadata": {
    "execution": {
     "iopub.execute_input": "2022-12-13T12:25:30.106536Z",
     "iopub.status.busy": "2022-12-13T12:25:30.105752Z",
     "iopub.status.idle": "2022-12-13T12:25:30.122873Z",
     "shell.execute_reply": "2022-12-13T12:25:30.122009Z"
    },
    "papermill": {
     "duration": 0.023589,
     "end_time": "2022-12-13T12:25:30.124738",
     "exception": false,
     "start_time": "2022-12-13T12:25:30.101149",
     "status": "completed"
    },
    "tags": []
   },
   "outputs": [],
   "source": [
    "#데이터 로드\n",
    "sample = pd.read_csv('/kaggle/input/2022aifinalexamp4/submit.csv')"
   ]
  },
  {
   "cell_type": "code",
   "execution_count": 5,
   "id": "29fea03e",
   "metadata": {
    "execution": {
     "iopub.execute_input": "2022-12-13T12:25:30.133728Z",
     "iopub.status.busy": "2022-12-13T12:25:30.133055Z",
     "iopub.status.idle": "2022-12-13T12:25:30.326926Z",
     "shell.execute_reply": "2022-12-13T12:25:30.326016Z"
    },
    "papermill": {
     "duration": 0.200418,
     "end_time": "2022-12-13T12:25:30.328963",
     "exception": false,
     "start_time": "2022-12-13T12:25:30.128545",
     "status": "completed"
    },
    "tags": []
   },
   "outputs": [],
   "source": [
    "#학습데이터, 테스트데이터 경로 지정\n",
    "from os.path import join\n",
    "from glob import glob\n",
    "\n",
    "train_path = '/kaggle/input/2022aifinalexamp4/train_data/train_images'\n",
    "train_image_path = glob(join(train_path,'*','*'))\n",
    "test_path = '/kaggle/input/2022aifinalexamp4/test_data/test_images'\n",
    "test_image_path = glob(join(test_path,'*'))\n",
    "test_sorted_path = []\n",
    "for i in range(len(test_image_path)):\n",
    "    test_sorted_path.append(test_path + '/' + str(i) + '.png')"
   ]
  },
  {
   "cell_type": "code",
   "execution_count": 6,
   "id": "1c58397c",
   "metadata": {
    "execution": {
     "iopub.execute_input": "2022-12-13T12:25:30.337689Z",
     "iopub.status.busy": "2022-12-13T12:25:30.337374Z",
     "iopub.status.idle": "2022-12-13T12:25:30.346291Z",
     "shell.execute_reply": "2022-12-13T12:25:30.345331Z"
    },
    "papermill": {
     "duration": 0.015586,
     "end_time": "2022-12-13T12:25:30.348400",
     "exception": false,
     "start_time": "2022-12-13T12:25:30.332814",
     "status": "completed"
    },
    "tags": []
   },
   "outputs": [],
   "source": [
    "#학습데이터셋, 테스트데이터셋 정의\n",
    "from torch.utils.data import Dataset, DataLoader\n",
    "from PIL import Image\n",
    "\n",
    "class Datasets(Dataset):\n",
    "    def __init__(self, path, state='',transform=None):\n",
    "        self.state = state\n",
    "        self.transform = transform\n",
    "        self.path = path\n",
    "        \n",
    "        if self.state == 'train':\n",
    "            self.label = [int(i.split('/')[-2]) for i in self.path]\n",
    "    \n",
    "    def __len__(self):\n",
    "        return len(self.path)\n",
    "    \n",
    "    def __getitem__(self, index):\n",
    "        data = self.path[index]\n",
    "        data = Image.open(data)\n",
    "        data = self.transform(data)\n",
    "        \n",
    "        if self.state == 'test':\n",
    "            return data\n",
    "        \n",
    "        else:\n",
    "            return data, torch.from_numpy(np.array(self.label[index]))"
   ]
  },
  {
   "cell_type": "code",
   "execution_count": 7,
   "id": "2c88e080",
   "metadata": {
    "execution": {
     "iopub.execute_input": "2022-12-13T12:25:30.357486Z",
     "iopub.status.busy": "2022-12-13T12:25:30.357221Z",
     "iopub.status.idle": "2022-12-13T12:25:30.569526Z",
     "shell.execute_reply": "2022-12-13T12:25:30.568609Z"
    },
    "papermill": {
     "duration": 0.219604,
     "end_time": "2022-12-13T12:25:30.571834",
     "exception": false,
     "start_time": "2022-12-13T12:25:30.352230",
     "status": "completed"
    },
    "tags": []
   },
   "outputs": [],
   "source": [
    "#데이터 정규화 방식\n",
    "import torchvision.transforms as transforms\n",
    "\n",
    "transform = transforms.Compose([\n",
    "    transforms.Resize((227, 227)),\n",
    "    transforms.ToTensor(),\n",
    "    transforms.Normalize((0.5,), (1.0,))\n",
    "])"
   ]
  },
  {
   "cell_type": "code",
   "execution_count": 8,
   "id": "025c7618",
   "metadata": {
    "execution": {
     "iopub.execute_input": "2022-12-13T12:25:30.581563Z",
     "iopub.status.busy": "2022-12-13T12:25:30.580619Z",
     "iopub.status.idle": "2022-12-13T12:25:30.614504Z",
     "shell.execute_reply": "2022-12-13T12:25:30.613678Z"
    },
    "papermill": {
     "duration": 0.040516,
     "end_time": "2022-12-13T12:25:30.616416",
     "exception": false,
     "start_time": "2022-12-13T12:25:30.575900",
     "status": "completed"
    },
    "tags": []
   },
   "outputs": [],
   "source": [
    "#학습데이터셋, 테스트데이터셋 설정\n",
    "train_dataset = Datasets(train_image_path, state='train', transform=transform)\n",
    "test_dataset = Datasets(test_sorted_path, state='test', transform=transform)"
   ]
  },
  {
   "cell_type": "code",
   "execution_count": 9,
   "id": "13fe99fe",
   "metadata": {
    "execution": {
     "iopub.execute_input": "2022-12-13T12:25:30.624922Z",
     "iopub.status.busy": "2022-12-13T12:25:30.624649Z",
     "iopub.status.idle": "2022-12-13T12:25:30.629278Z",
     "shell.execute_reply": "2022-12-13T12:25:30.628312Z"
    },
    "papermill": {
     "duration": 0.011034,
     "end_time": "2022-12-13T12:25:30.631123",
     "exception": false,
     "start_time": "2022-12-13T12:25:30.620089",
     "status": "completed"
    },
    "tags": []
   },
   "outputs": [],
   "source": [
    "#학습데이터로더, 테스트데이터로더 설정\n",
    "train_dataloader = DataLoader(train_dataset, batch_size=100,shuffle=True)\n",
    "test_dataloader = DataLoader(test_dataset, batch_size=100,shuffle=False)"
   ]
  },
  {
   "cell_type": "code",
   "execution_count": 10,
   "id": "adb874a9",
   "metadata": {
    "execution": {
     "iopub.execute_input": "2022-12-13T12:25:30.640900Z",
     "iopub.status.busy": "2022-12-13T12:25:30.639355Z",
     "iopub.status.idle": "2022-12-13T12:25:30.654011Z",
     "shell.execute_reply": "2022-12-13T12:25:30.653149Z"
    },
    "papermill": {
     "duration": 0.021056,
     "end_time": "2022-12-13T12:25:30.655886",
     "exception": false,
     "start_time": "2022-12-13T12:25:30.634830",
     "status": "completed"
    },
    "tags": []
   },
   "outputs": [],
   "source": [
    "#모델 정의\n",
    "class Model(torch.nn.Module):\n",
    "    def __init__(self):\n",
    "        super().__init__()\n",
    "        self.conv1 = torch.nn.Conv2d(1, 96, 11, 4)\n",
    "        self.max1 = torch.nn.MaxPool2d(3, 2)\n",
    "        \n",
    "        self.conv2 = torch.nn.Conv2d(96, 256, 5, 1)\n",
    "        self.max2 = torch.nn.MaxPool2d(3, 2)\n",
    "        \n",
    "        self.conv3 = torch.nn.Conv2d(256, 384, 3, 1, 1)\n",
    "        self.conv4 = torch.nn.Conv2d(384, 384, 3, 1, 1)\n",
    "\n",
    "        self.conv5 = torch.nn.Conv2d(384, 256, 3, 1, 1)\n",
    "        self.max3 = torch.nn.MaxPool2d(3, 2)\n",
    "        \n",
    "        self.linear1 = torch.nn.Linear(6400, 4096)\n",
    "        self.linear2 = torch.nn.Linear(4096, 4096)\n",
    "        self.linear3 = torch.nn.Linear(4096, 10)\n",
    "        \n",
    "        self.relu = torch.nn.ReLU()\n",
    "        self.dropout = torch.nn.Dropout(0.5)\n",
    "        \n",
    "        torch.nn.init.xavier_uniform_(self.linear1.weight)\n",
    "        torch.nn.init.xavier_uniform_(self.linear2.weight)\n",
    "        torch.nn.init.xavier_uniform_(self.linear3.weight)\n",
    "        torch.nn.init.xavier_uniform_(self.conv1.weight)\n",
    "        torch.nn.init.xavier_uniform_(self.conv2.weight)\n",
    "        torch.nn.init.xavier_uniform_(self.conv3.weight)\n",
    "        torch.nn.init.xavier_uniform_(self.conv4.weight)\n",
    "        torch.nn.init.xavier_uniform_(self.conv5.weight)\n",
    "        \n",
    "    def forward(self, x):\n",
    "        x = self.max1(self.relu(self.conv1(x)))\n",
    "        x = self.max2(self.relu(self.conv2(x)))\n",
    "        x = self.relu(self.conv4(self.relu(self.conv3(x))))\n",
    "        x = self.max3(self.relu(self.conv5(x)))\n",
    "        x = x.view(x.size(0), -1)\n",
    "        x = self.linear1(x)\n",
    "        x = self.relu(x)\n",
    "        x = self.dropout(x)\n",
    "        x = self.linear2(x)\n",
    "        x = self.relu(x)\n",
    "        x = self.dropout(x)\n",
    "        x = self.linear3(x)\n",
    "        \n",
    "        return x"
   ]
  },
  {
   "cell_type": "code",
   "execution_count": 11,
   "id": "ac9e3017",
   "metadata": {
    "execution": {
     "iopub.execute_input": "2022-12-13T12:25:30.664934Z",
     "iopub.status.busy": "2022-12-13T12:25:30.664101Z",
     "iopub.status.idle": "2022-12-13T12:25:34.544936Z",
     "shell.execute_reply": "2022-12-13T12:25:34.543953Z"
    },
    "papermill": {
     "duration": 3.887759,
     "end_time": "2022-12-13T12:25:34.547298",
     "exception": false,
     "start_time": "2022-12-13T12:25:30.659539",
     "status": "completed"
    },
    "tags": []
   },
   "outputs": [],
   "source": [
    "#모델 선언\n",
    "model = Model().to(device)"
   ]
  },
  {
   "cell_type": "code",
   "execution_count": 12,
   "id": "a802c132",
   "metadata": {
    "execution": {
     "iopub.execute_input": "2022-12-13T12:25:34.556532Z",
     "iopub.status.busy": "2022-12-13T12:25:34.556224Z",
     "iopub.status.idle": "2022-12-13T12:25:34.561462Z",
     "shell.execute_reply": "2022-12-13T12:25:34.560607Z"
    },
    "papermill": {
     "duration": 0.012161,
     "end_time": "2022-12-13T12:25:34.563529",
     "exception": false,
     "start_time": "2022-12-13T12:25:34.551368",
     "status": "completed"
    },
    "tags": []
   },
   "outputs": [],
   "source": [
    "#optimizer 정의\n",
    "optimizer = torch.optim.Adam(model.parameters(),lr=1e-3)\n",
    "#loss 정의 (다중분류이므로 CrossEntropyLoss)\n",
    "loss = torch.nn.CrossEntropyLoss()"
   ]
  },
  {
   "cell_type": "code",
   "execution_count": 13,
   "id": "172b7745",
   "metadata": {
    "execution": {
     "iopub.execute_input": "2022-12-13T12:25:34.571957Z",
     "iopub.status.busy": "2022-12-13T12:25:34.571700Z",
     "iopub.status.idle": "2022-12-13T12:37:11.985616Z",
     "shell.execute_reply": "2022-12-13T12:37:11.984284Z"
    },
    "papermill": {
     "duration": 697.420587,
     "end_time": "2022-12-13T12:37:11.987724",
     "exception": false,
     "start_time": "2022-12-13T12:25:34.567137",
     "status": "completed"
    },
    "tags": []
   },
   "outputs": [
    {
     "name": "stderr",
     "output_type": "stream",
     "text": [
      "100%|██████████| 600/600 [04:25<00:00,  2.26it/s]\n"
     ]
    },
    {
     "name": "stdout",
     "output_type": "stream",
     "text": [
      "epoch : 0, cost : 0.6005554352204004\n"
     ]
    },
    {
     "name": "stderr",
     "output_type": "stream",
     "text": [
      "100%|██████████| 600/600 [01:48<00:00,  5.55it/s]\n"
     ]
    },
    {
     "name": "stdout",
     "output_type": "stream",
     "text": [
      "epoch : 1, cost : 0.34946644665052495\n"
     ]
    },
    {
     "name": "stderr",
     "output_type": "stream",
     "text": [
      "100%|██████████| 600/600 [01:48<00:00,  5.52it/s]\n"
     ]
    },
    {
     "name": "stdout",
     "output_type": "stream",
     "text": [
      "epoch : 2, cost : 0.3052241962527235\n"
     ]
    },
    {
     "name": "stderr",
     "output_type": "stream",
     "text": [
      "100%|██████████| 600/600 [01:47<00:00,  5.58it/s]\n"
     ]
    },
    {
     "name": "stdout",
     "output_type": "stream",
     "text": [
      "epoch : 3, cost : 0.27656872898340223\n"
     ]
    },
    {
     "name": "stderr",
     "output_type": "stream",
     "text": [
      "100%|██████████| 600/600 [01:47<00:00,  5.59it/s]"
     ]
    },
    {
     "name": "stdout",
     "output_type": "stream",
     "text": [
      "epoch : 4, cost : 0.2613428446277976\n"
     ]
    },
    {
     "name": "stderr",
     "output_type": "stream",
     "text": [
      "\n"
     ]
    }
   ],
   "source": [
    "#모델 학습\n",
    "from tqdm import tqdm\n",
    "\n",
    "epochs = 5\n",
    "model.train()\n",
    "for epoch in range(epochs):\n",
    "    costs = []\n",
    "    for x, y in tqdm(train_dataloader):\n",
    "        x = x.to(device)\n",
    "        y = y.to(device)\n",
    "        \n",
    "        optimizer.zero_grad()\n",
    "        hypothesis = model(x)\n",
    "        cost = loss(hypothesis, y)\n",
    "        costs.append(cost.item())\n",
    "        cost.backward()\n",
    "        optimizer.step()\n",
    "    \n",
    "    average = np.mean(costs)\n",
    "    print(f\"epoch : {epoch}, cost : {average}\")"
   ]
  },
  {
   "cell_type": "code",
   "execution_count": 14,
   "id": "6635a906",
   "metadata": {
    "execution": {
     "iopub.execute_input": "2022-12-13T12:37:12.296263Z",
     "iopub.status.busy": "2022-12-13T12:37:12.295570Z",
     "iopub.status.idle": "2022-12-13T12:37:48.199514Z",
     "shell.execute_reply": "2022-12-13T12:37:48.197968Z"
    },
    "papermill": {
     "duration": 36.061871,
     "end_time": "2022-12-13T12:37:48.202126",
     "exception": false,
     "start_time": "2022-12-13T12:37:12.140255",
     "status": "completed"
    },
    "tags": []
   },
   "outputs": [
    {
     "name": "stderr",
     "output_type": "stream",
     "text": [
      "100%|██████████| 100/100 [00:35<00:00,  2.79it/s]\n"
     ]
    }
   ],
   "source": [
    "#테스트 데이터를 이용해서 모델 평가\n",
    "model.eval()\n",
    "with torch.no_grad():\n",
    "    predicts = []\n",
    "    for x in tqdm(test_dataloader):\n",
    "        x = x.to(device)\n",
    "        hypothesis = model(x)\n",
    "        predict = torch.argmax(hypothesis, dim=1)\n",
    "        predicts.extend(predict.cpu().detach().numpy())"
   ]
  },
  {
   "cell_type": "code",
   "execution_count": 15,
   "id": "e981f2f2",
   "metadata": {
    "execution": {
     "iopub.execute_input": "2022-12-13T12:37:48.517680Z",
     "iopub.status.busy": "2022-12-13T12:37:48.517336Z",
     "iopub.status.idle": "2022-12-13T12:37:48.540211Z",
     "shell.execute_reply": "2022-12-13T12:37:48.539368Z"
    },
    "papermill": {
     "duration": 0.182858,
     "end_time": "2022-12-13T12:37:48.542399",
     "exception": false,
     "start_time": "2022-12-13T12:37:48.359541",
     "status": "completed"
    },
    "tags": []
   },
   "outputs": [],
   "source": [
    "#결과값을 csv 파일로 변환\n",
    "sample['label'] = predicts\n",
    "sample.to_csv('submit.csv',index=False)"
   ]
  },
  {
   "cell_type": "code",
   "execution_count": null,
   "id": "bfa11d1a",
   "metadata": {
    "papermill": {
     "duration": 0.15419,
     "end_time": "2022-12-13T12:37:48.863654",
     "exception": false,
     "start_time": "2022-12-13T12:37:48.709464",
     "status": "completed"
    },
    "tags": []
   },
   "outputs": [],
   "source": []
  }
 ],
 "metadata": {
  "kernelspec": {
   "display_name": "Python 3",
   "language": "python",
   "name": "python3"
  },
  "language_info": {
   "codemirror_mode": {
    "name": "ipython",
    "version": 3
   },
   "file_extension": ".py",
   "mimetype": "text/x-python",
   "name": "python",
   "nbconvert_exporter": "python",
   "pygments_lexer": "ipython3",
   "version": "3.7.12"
  },
  "papermill": {
   "default_parameters": {},
   "duration": 793.754117,
   "end_time": "2022-12-13T12:37:51.307951",
   "environment_variables": {},
   "exception": null,
   "input_path": "__notebook__.ipynb",
   "output_path": "__notebook__.ipynb",
   "parameters": {},
   "start_time": "2022-12-13T12:24:37.553834",
   "version": "2.3.4"
  }
 },
 "nbformat": 4,
 "nbformat_minor": 5
}
